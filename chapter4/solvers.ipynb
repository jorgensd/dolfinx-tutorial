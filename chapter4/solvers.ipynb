{
 "cells": [
  {
   "cell_type": "markdown",
   "metadata": {},
   "source": [
    "# Solver configuration\n",
    "Author: Jørgen S. Dokken\n",
    "\n",
    "In this section, we will go through how to specify what linear algebra solver we would like to use to solve our PDEs, as well as how to verify the implementation by considering convergence rates.\n",
    "\n",
    "$$\n",
    "-\\Delta u = f \\text{ in } \\Omega\n",
    "$$\n",
    "$$\n",
    "u = u_D \\text{ on } \\partial \\Omega.\n",
    "$$\n",
    "Using the manufactured solution $u_D=\\cos(2\\pi x)\\cos(2\\pi y)$, we obtain $f=8\\pi^2\\cos(2\\pi x)\\cos(2\\pi y)$.\n",
    "We start by creating a generic module for evaluating the analytical solution  at any point $x$."
   ]
  },
  {
   "cell_type": "code",
   "execution_count": null,
   "metadata": {},
   "outputs": [],
   "source": [
    "from dolfinx.fem import dirichletbc, functionspace, Function, locate_dofs_topological\n",
    "from dolfinx.fem.petsc import LinearProblem\n",
    "from dolfinx.mesh import create_unit_square, locate_entities_boundary\n",
    "\n",
    "from mpi4py import MPI\n",
    "from petsc4py import PETSc\n",
    "from ufl import SpatialCoordinate, TestFunction, TrialFunction, div, dx, inner, grad\n",
    "\n",
    "import numpy\n",
    "import ufl\n",
    "\n",
    "\n",
    "def u_ex(mod):\n",
    "    return lambda x: mod.cos(2 * mod.pi * x[0]) * mod.cos(2 * mod.pi * x[1])"
   ]
  },
  {
   "cell_type": "markdown",
   "metadata": {},
   "source": [
    "Note that the return type of `u_ex` is a `lambda` function. Thus, we can create two different lambda functions, one using `numpy` (which will be used for interpolation) and one using `ufl` (which will be used for defining the source term)"
   ]
  },
  {
   "cell_type": "code",
   "execution_count": null,
   "metadata": {},
   "outputs": [],
   "source": [
    "u_numpy = u_ex(numpy)\n",
    "u_ufl = u_ex(ufl)"
   ]
  },
  {
   "cell_type": "markdown",
   "metadata": {},
   "source": [
    "We start by using ufl to define our source term, using `ufl.SpatialCoordinate` as input to `u_ufl`."
   ]
  },
  {
   "cell_type": "code",
   "execution_count": null,
   "metadata": {},
   "outputs": [],
   "source": [
    "mesh = create_unit_square(MPI.COMM_WORLD, 30, 30)\n",
    "x = SpatialCoordinate(mesh)\n",
    "f = -div(grad(u_ufl(x)))"
   ]
  },
  {
   "cell_type": "markdown",
   "metadata": {},
   "source": [
    "Next, we define our linear variational problem"
   ]
  },
  {
   "cell_type": "code",
   "execution_count": null,
   "metadata": {},
   "outputs": [],
   "source": [
    "V = functionspace(mesh, (\"Lagrange\", 1))\n",
    "u = TrialFunction(V)\n",
    "v = TestFunction(V)\n",
    "a = inner(grad(u), grad(v)) * dx\n",
    "L = f * v * dx\n",
    "u_bc = Function(V)\n",
    "u_bc.interpolate(u_numpy)\n",
    "facets = locate_entities_boundary(\n",
    "    mesh, mesh.topology.dim - 1, lambda x: numpy.full(x.shape[1], True)\n",
    ")\n",
    "dofs = locate_dofs_topological(V, mesh.topology.dim - 1, facets)\n",
    "bcs = [dirichletbc(u_bc, dofs)]"
   ]
  },
  {
   "cell_type": "markdown",
   "metadata": {},
   "source": [
    "We start by solving the problem with an LU factorization, a direct solver method (similar to Gaussian elimination)."
   ]
  },
  {
   "cell_type": "code",
   "execution_count": null,
   "metadata": {},
   "outputs": [],
   "source": [
    "default_problem = LinearProblem(\n",
    "    a,\n",
    "    L,\n",
    "    bcs=bcs,\n",
    "    petsc_options={\"ksp_type\": \"preonly\", \"pc_type\": \"lu\"},\n",
    "    petsc_options_prefix=\"poisson_l\",\n",
    ")\n",
    "uh = default_problem.solve()"
   ]
  },
  {
   "cell_type": "markdown",
   "metadata": {},
   "source": [
    "We now look at the solver process by inspecting the `PETSc`-solver. As the view-options in PETSc are not adjusted for notebooks (`solver.view()` will print output to the terminal if used in a `.py` file), we write the solver output to file and read it in and print the output."
   ]
  },
  {
   "cell_type": "code",
   "execution_count": null,
   "metadata": {},
   "outputs": [],
   "source": [
    "lu_solver = default_problem.solver\n",
    "viewer = PETSc.Viewer().createASCII(\"lu_output.txt\")\n",
    "lu_solver.view(viewer)\n",
    "solver_output = open(\"lu_output.txt\", \"r\")\n",
    "for line in solver_output.readlines():\n",
    "    print(line)"
   ]
  },
  {
   "cell_type": "markdown",
   "metadata": {},
   "source": [
    "This is a very robust and simple method, and is the recommended method up to a few thousand unknowns and can be efficiently used for many 2D and smaller 3D problems. However, sparse LU decomposition quickly becomes slow, as for a $N\\times N$-matrix the number of floating point operations scales as $\\sim (2/3)N^3$.\n",
    "\n",
    "For large problems, we instead need to use an iterative method which is faster and requires less memory.\n",
    "## Choosing a linear solver and preconditioner\n",
    "As the Poisson equation results in a symmetric, positive definite system matrix, the optimal Krylov solver is the conjugate gradient (Lagrange) method. The default preconditioner is the incomplete LU factorization (ILU), which is a popular and robust overall preconditioner. We can change the preconditioner by setting `\"pc_type\"` to some of the other preconditioners in petsc, which you can find at [PETSc KSP solvers](https://petsc.org/release/manual/ksp/#tab-kspdefaults) and [PETSc preconditioners](https://petsc.org/release/manual/ksp/#tab-pcdefaults).\n",
    "You can set any option in `PETSc` through the `petsc_options` input, such as the absolute tolerance (`\"ksp_atol\"`), relative tolerance (`\"ksp_rtol\"`) and maximum number of iterations (`\"ksp_max_it\"`)."
   ]
  },
  {
   "cell_type": "code",
   "execution_count": null,
   "metadata": {},
   "outputs": [],
   "source": [
    "cg_problem = LinearProblem(\n",
    "    a,\n",
    "    L,\n",
    "    bcs=bcs,\n",
    "    petsc_options={\n",
    "        \"ksp_type\": \"cg\",\n",
    "        \"ksp_rtol\": 1e-6,\n",
    "        \"ksp_atol\": 1e-10,\n",
    "        \"ksp_max_it\": 1000,\n",
    "    },\n",
    "    petsc_options_prefix=\"poisson_cg_\",\n",
    ")\n",
    "uh = cg_problem.solve()\n",
    "cg_solver = cg_problem.solver\n",
    "viewer = PETSc.Viewer().createASCII(\"cg_output.txt\")\n",
    "cg_solver.view(viewer)\n",
    "solver_output = open(\"cg_output.txt\", \"r\")\n",
    "for line in solver_output.readlines():\n",
    "    print(line)"
   ]
  },
  {
   "cell_type": "markdown",
   "metadata": {},
   "source": [
    "For non-symmetric problems, a Krylov solver for non-symmetric systems, such as GMRES is better."
   ]
  },
  {
   "cell_type": "code",
   "execution_count": null,
   "metadata": {},
   "outputs": [],
   "source": [
    "gmres_problem = LinearProblem(\n",
    "    a,\n",
    "    L,\n",
    "    bcs=bcs,\n",
    "    petsc_options={\n",
    "        \"ksp_type\": \"gmres\",\n",
    "        \"ksp_rtol\": 1e-6,\n",
    "        \"ksp_atol\": 1e-10,\n",
    "        \"ksp_max_it\": 1000,\n",
    "        \"pc_type\": \"none\",\n",
    "    },\n",
    "    petsc_options_prefix=\"poisson_gmres_\",\n",
    ")\n",
    "uh = gmres_problem.solve()\n",
    "gmres_solver = gmres_problem.solver\n",
    "viewer = PETSc.Viewer().createASCII(\"gmres_output.txt\")\n",
    "gmres_solver.view(viewer)\n",
    "solver_output = open(\"gmres_output.txt\", \"r\")\n",
    "for line in solver_output.readlines():\n",
    "    print(line)"
   ]
  },
  {
   "cell_type": "markdown",
   "metadata": {},
   "source": [
    "```{admonition} A remark regarding verification using iterative solvers\n",
    "When we consider manufactured solutions where we expect the resulting error to be of machine precision, it gets complicated when we use iterative methods. The problem is to keep the error due to the iterative solution smaller than the tolerance used in the iterative test. For linear elements and small meshes, a tolerance of between $10^{-11}$ and $10^{-12}$ works well in the case of Krylov solvers too.\n",
    "```"
   ]
  }
 ],
 "metadata": {
  "jupytext": {
   "formats": "ipynb,py:light"
  },
  "kernelspec": {
   "display_name": "Python 3 (ipykernel)",
   "language": "python",
   "name": "python3"
  },
  "language_info": {
   "codemirror_mode": {
    "name": "ipython",
    "version": 3
   },
   "file_extension": ".py",
   "mimetype": "text/x-python",
   "name": "python",
   "nbconvert_exporter": "python",
   "pygments_lexer": "ipython3",
   "version": "3.10.12"
  }
 },
 "nbformat": 4,
 "nbformat_minor": 4
}
