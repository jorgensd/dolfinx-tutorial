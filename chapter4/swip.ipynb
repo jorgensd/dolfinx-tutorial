{
 "cells": [
  {
   "cell_type": "markdown",
   "id": "c34c1340",
   "metadata": {},
   "source": [
    "# Symmetric weighted interior penalty method for advection diffusion equations.\n",
    "\n",
    "Author: Jørgen S. Dokken"
   ]
  },
  {
   "cell_type": "markdown",
   "id": "4e9e7474",
   "metadata": {},
   "source": [
    "The Symmetric Weighted Interior Penalty (SWIP) method is a numerical method\n",
    "for solving advection-diffusion equations. It was first introduced in {cite}`ern2008swip`.\n",
    "The following code implements the SWIP method for the analytical solution presetened in ...."
   ]
  },
  {
   "cell_type": "markdown",
   "id": "361eb8d5",
   "metadata": {},
   "source": [
    "The strong formulaton of the advection-diffusion equation is given by\n",
    "\n",
    "\\begin{align}\n",
    "- \\nabla \\cdot (K \\nabla c) + \\mathbf{u} \\cdot \\nabla c + \\mu c &= f && \\text{in } \\Omega, \\\\\n",
    "c &= g && \\text{on } \\partial \\Omega, \\\\\n",
    "\\end{align}\n",
    "\n",
    "where $K$ is the symmetric, positive definite diffusivity tensor, $\\mathbf{u}$ is the advection velocity.\n",
    "For restrictions on $K$ and $\\mathbf{u}$, see {cite}`ern2008swip.\n",
    "\n",
    "```{admonition} Continuity of $K$\n",
    "A key assumption that we cannot skip is that $K$ is continous inside each element,\n",
    "but can be discontinuous across element boundaries.\n",
    "```"
   ]
  },
  {
   "cell_type": "markdown",
   "id": "02edd637",
   "metadata": {},
   "source": [
    "There are two values that can be tuned for the SWIP method:\n",
    "- The positive penalty parameter $\\gamma$.\n",
    "- A weighting parameter $\\omega$, which over an interior facet is defined such\n",
    "  that $\\omega^+ + \\omega^- = 1$, where $^+$ and $^-$ denote the restriction of $\\Omega to each\n",
    "  side of the facet."
   ]
  },
  {
   "cell_type": "markdown",
   "id": "cdd6809f",
   "metadata": {},
   "source": [
    "We write the weak formulation as:\n",
    "Find $c_h \\in V_h$ such that\n",
    "\n",
    "\\begin{align}\n",
    "a(c_h, v_h) &= (f, v_h)_\\Omega && \\forall v_h \\in V_h,\n",
    "\\end{align}\n",
    "\n",
    "where $(\\cdot, \\cdot)_\\Omega$ is the $L^2$ inner product over $\\Omega$ and"
   ]
  },
  {
   "cell_type": "markdown",
   "id": "8191f2ce",
   "metadata": {},
   "source": [
    "\\begin{align}\n",
    "a(c, v) &= (K\\nabla c, \\nabla v)_\\Omega + (\\mu c, v)_\\Omega + (\\mathbf{u} \\cdot \\nabla c, v)_\\Omega \\\\\n",
    "&+= \\int_{\\partial \\Omega} -K\\nabla c \\cdot \\mathbf{n} v - K \\nabla v \\cdot \\mathbf{n} c + \\gamma c v ~\\mathrm{d}s\\\\\n",
    "&+ \\sum_{F\\in \\mathcal{F}_{h^i}} (\\beta \\cdot \\mathbf{n}^+\\{w\\} \\left[ v \\right] )_F\n",
    "\\end{align}\n",
    "\n",
    "where we recognize the boundary terms from [the Nitsche method](../chapter1/nitsche)"
   ]
  },
  {
   "cell_type": "code",
   "execution_count": null,
   "id": "0a6f4a23",
   "metadata": {},
   "outputs": [],
   "source": [
    "from mpi4py import MPI"
   ]
  }
 ],
 "metadata": {
  "jupytext": {
   "cell_metadata_filter": "-all",
   "formats": "ipynb,py:light",
   "main_language": "python"
  }
 },
 "nbformat": 4,
 "nbformat_minor": 5
}
