{
 "cells": [
  {
   "cell_type": "markdown",
   "id": "c34c1340",
   "metadata": {},
   "source": [
    "# Symmetric weighted interior penalty method for advection diffusion equations.\n",
    "\n",
    "Author: Jørgen S. Dokken"
   ]
  },
  {
   "cell_type": "markdown",
   "id": "4e9e7474",
   "metadata": {},
   "source": [
    "The Symmetric Weighted Interior Penalty (SWIP) method is a numerical method\n",
    "for solving advection-diffusion equations. It was first introduced in {cite}`ern2008swip`.\n",
    "The following code implements the SWIP method for the analytical solution presetened in ...."
   ]
  },
  {
   "cell_type": "markdown",
   "id": "361eb8d5",
   "metadata": {},
   "source": [
    "The strong formulaton of the advection-diffusion equation is given by\n",
    "\n",
    "\\begin{align}\n",
    "- \\nabla \\cdot (K \\nabla c) + \\mathbf{u} \\cdot \\nabla c + \\mu c &= f && \\text{in } \\Omega, \\\\\n",
    "c &= g && \\text{on } \\partial \\Omega, \\\\\n",
    "\\end{align}\n",
    "\n",
    "where $K$ is the symmetric, positive definite diffusivity tensor, $\\mathbf{u}$ is the advection velocity.\n",
    "For restrictions on $K$ and $\\mathbf{u}$, see {cite}`ern2008swip`.\n",
    "\n",
    "```{admonition} Continuity of $K$\n",
    "A key assumption that we cannot skip is that $K$ is continous inside each element,\n",
    "but can be discontinuous across element boundaries.\n",
    "```"
   ]
  },
  {
   "cell_type": "markdown",
   "id": "02edd637",
   "metadata": {},
   "source": [
    "There are two values that can be tuned for the SWIP method:\n",
    "- The positive penalty parameter $\\gamma$.\n",
    "- A weighting parameter $\\omega$, which over an interior facet is defined such\n",
    "  that $\\omega^+ + \\omega^- = 1$, where $^+$ and $^-$ denote the restriction of $\\Omega$ to each\n",
    "  side of the facet. Specifically, we choose $\\omega^- = \\frac{\\delta_{K_n}^+}{\\delta_{K_n}^- + \\delta_{K_n}^+}$ and\n",
    "  $\\omega^+ = \\frac{\\delta_{K_n}^-}{\\delta_{K_n}^- + \\delta_{K_n}^+}$, where\n",
    "  $\\delta_{K_n}^\\mp=n^T_FK^\\mp n_F$.\n",
    "\n",
    "The set of interior facets $\\mathcal{F}_{h^i}$ is defined as the set of facets that are connected to two cells, $\\{T^+, T^-\\}$.\n",
    "We defined the average as such a facet as $\\{v\\}_F=\\frac{1}{2}(v^{+}+v^{-})$, the weighted average\n",
    "as $\\{v\\}_\\omega = \\omega^+ v^+ + \\omega^- v^-$, and the jump as $[v] = v^+ - v^-$ and\n",
    "$\\mathbf{n}_F$ is a normal pointing out of $T^-$ towards $T^+$."
   ]
  },
  {
   "cell_type": "markdown",
   "id": "cdd6809f",
   "metadata": {},
   "source": [
    "We write the weak formulation as:\n",
    "Find $c_h \\in V_h$ such that\n",
    "\n",
    "\\begin{align}\n",
    "a(c_h, v_h) &= (f, v_h)_\\Omega && \\forall v_h \\in V_h,\n",
    "\\end{align}\n",
    "\n",
    "where $(\\cdot, \\cdot)_\\Omega$ is the $L^2$ inner product over $\\Omega$ and"
   ]
  },
  {
   "cell_type": "markdown",
   "id": "8191f2ce",
   "metadata": {},
   "source": [
    "\\begin{align}\n",
    "a(c, v) &= (K\\nabla c, \\nabla v)_\\Omega + (\\mu c, v)_\\Omega + (\\mathbf{u} \\cdot \\nabla c, v)_\\Omega \\\\\n",
    "& -(K\\nabla c\\cdot\\mathbf{n}, v)_{\\partial\\Omega}\n",
    "- (K \\nabla v \\cdot \\mathbf{n}, c)_{\\partial\\Omega}\n",
    "+ (\\gamma c, v)_{\\partial\\Omega}\n",
    "-\\frac{1}{2}(\\mathbf{u}\\cdot \\mathbf{n} c, v)_{\\partial\\Omega}\\\\\n",
    "&+ \\sum_{F\\in \\mathcal{F}_{h^i}}\n",
    "\\Big(\n",
    "-(\\{K\\nabla c\\}_\\omega\\cdot\\mathbf{n}_F, [ v ])_{F}\n",
    "-(\\{K\\nabla v\\}_\\omega\\cdot\\mathbf{n}_F, [ c ])_{F}\n",
    "+ (\\gamma [c], [v])_F\\\\\n",
    "&\\hspace{1ex}\\qquad\\qquad-(\\mathbf{u} \\cdot \\mathbf{n}_F\\{v\\}, \\left[ c \\right] )_F\n",
    "\\Big).\n",
    "\\end{align}\n",
    "\n",
    "where the penalty parameter $\\gamma$ is defined as\n",
    "\n",
    "\\begin{align}\n",
    "\\gamma = \\alpha \\frac{\\gamma_K}{h_f}+\\gamma_\\mathbf{u}\n",
    "\\end{align}\n",
    "\n",
    "where $\\alpha>0$ can vary from face to face and\n",
    "\n",
    "\\begin{align}\n",
    "\\gamma_K &=\n",
    "\\begin{cases}\n",
    "\\frac{\\delta_{K_n}^+\\delta_{K_n}^-}{\\delta_{K_n}^- + \\delta_{K_n}^+} &\\text{if } F\\in \\mathcal{F}_{h^i}\\\\\n",
    "\\delta_{K_n} &\\text{if } F\\in \\partial\\Omega\n",
    "\\end{cases}\\\\\n",
    "\\gamma_\\mathbf{u} &= \\frac{1}{2}\\vert \\mathbf{u} \\cdot \\mathbf{n}_F \\vert ~\\quad\\qquad\\qquad\\qquad\\text{if } F \\in \\mathcal{F}_{h^i}\\\\\n",
    "\\end{align}\n",
    "\n",
    "where we recognize the first three boundary terms from [the Nitsche method](../chapter1/nitsche)"
   ]
  },
  {
   "cell_type": "code",
   "execution_count": null,
   "id": "0a6f4a23",
   "metadata": {
    "lines_to_next_cell": 2
   },
   "outputs": [],
   "source": [
    "from mpi4py import MPI"
   ]
  },
  {
   "cell_type": "markdown",
   "id": "65dd8c0c",
   "metadata": {},
   "source": [
    "```{bibliography}\n",
    "   :filter: cited and ({\"chapter4/swip\"} >= docnames)\n",
    "```"
   ]
  }
 ],
 "metadata": {
  "jupytext": {
   "cell_metadata_filter": "-all",
   "formats": "ipynb,py:light",
   "main_language": "python"
  }
 },
 "nbformat": 4,
 "nbformat_minor": 5
}
