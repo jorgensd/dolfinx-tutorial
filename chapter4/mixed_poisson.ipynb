{
 "cells": [
  {
   "cell_type": "markdown",
   "id": "db14f7b6",
   "metadata": {},
   "source": [
    "# Mixed Poisson with a Schur complement pre-conditioner\n",
    "This example demonstrates how to use PETSC fieldsplits with custom preconditions in DOLFINx.\n",
    "This example is heavily insipired by the [FEniCSx PCTools example](https://rafinex-external-rifle.gitlab.io/fenicsx-pctools/demo/demo_mixed-poisson.html)\n",
    "which was presented in {cite}`rehor2025pctools`."
   ]
  },
  {
   "cell_type": "markdown",
   "id": "495afa22",
   "metadata": {
    "lines_to_next_cell": 2
   },
   "source": [
    "We start with the mixed formulation of the Poisson equation, which is given by\n",
    "\\begin{align}\n",
    "\\sigma - \\nabla u &= 0&&\\text{in } \\Omega,\\\\\n",
    "\\nabla \\cdot \\sigma &= -f&&\\text{in } \\Omega,\\\\\n",
    "u &= u_D &&\\text{on } \\Gamma_D,\\\\\n",
    "\\sigma \\cdot n &= g &&\\text{on } \\Gamma_N,\n",
    "\\end{align}\n",
    "\n",
    "As in previous examples, we pick a manufactured solution to ensure that we can verify\n",
    "the correctness of our implementation.\n",
    "The manufactured solution is given by\n",
    "\\begin{align}\n",
    "u_{ex}(x, y) &= \\sin(\\pi x) + y^2.\n",
    "\\end{align}"
   ]
  },
  {
   "cell_type": "code",
   "execution_count": null,
   "id": "a05b0f84",
   "metadata": {},
   "outputs": [],
   "source": [
    "def u_ex(mod, x):\n",
    "    return mod.sin(mod.pi * x[0]) + x[1] ** 2"
   ]
  },
  {
   "cell_type": "markdown",
   "id": "1bc754d1",
   "metadata": {},
   "source": [
    "We choose to solve the problem on a unit square,"
   ]
  },
  {
   "cell_type": "code",
   "execution_count": null,
   "id": "f4f0f23b",
   "metadata": {},
   "outputs": [],
   "source": [
    "from mpi4py import MPI\n",
    "from petsc4py import PETSc\n",
    "import dolfinx\n",
    "\n",
    "N = 400\n",
    "mesh = dolfinx.mesh.create_unit_square(MPI.COMM_WORLD, N, N)"
   ]
  },
  {
   "cell_type": "markdown",
   "id": "7b93932d",
   "metadata": {},
   "source": [
    "where $\\Gamma_D = \\{(x, 0) \\vert x \\in [0, 1]\\}\\cup\\{ (x, 1) \\vert x \\in [0, 1]\\}$\n",
    "and $\\Gamma_N = \\{(0, y) \\vert y \\in [0, 1]\\}\\cup\\{(1, y) \\vert y \\in [0, 1]\\}$."
   ]
  },
  {
   "cell_type": "code",
   "execution_count": null,
   "id": "d08f92d3",
   "metadata": {},
   "outputs": [],
   "source": [
    "\n",
    "import numpy as np\n",
    "\n",
    "\n",
    "def Gamma_D(x):\n",
    "    return (\n",
    "        np.isclose(x[1], 0)\n",
    "        | np.isclose(x[1], 1)\n",
    "        | np.isclose(x[0], 0)\n",
    "        | np.isclose(x[0], 1)\n",
    "    )\n",
    "\n",
    "\n",
    "def Gamma_N(x):\n",
    "    return np.full_like(\n",
    "        x[0], 0, dtype=bool\n",
    "    )  # np.isclose(x[0], 0) | np.isclose(x[0], 1)"
   ]
  },
  {
   "cell_type": "markdown",
   "id": "130a3c62",
   "metadata": {},
   "source": [
    "We define the function space for the vector-valued flux $p\\in Q$ as the zeroth order discontinuous Lagrange space,\n",
    "while the scalar potential $u \\in V$ is defined in first order\n",
    "[Brezzi-Douglas-Marini space](https://defelement.org/elements/brezzi-douglas-marini.html)."
   ]
  },
  {
   "cell_type": "code",
   "execution_count": null,
   "id": "ea0a0d6a",
   "metadata": {},
   "outputs": [],
   "source": [
    "V = dolfinx.fem.functionspace(mesh, (\"DG\", 0))\n",
    "Q = dolfinx.fem.functionspace(mesh, (\"BDM\", 1))"
   ]
  },
  {
   "cell_type": "markdown",
   "id": "879659d0",
   "metadata": {},
   "source": [
    "We define a `ufl.MixedFunctionSpace` to automatically handle the block structure of the problem"
   ]
  },
  {
   "cell_type": "code",
   "execution_count": null,
   "id": "88b43dd2",
   "metadata": {},
   "outputs": [],
   "source": [
    "import ufl\n",
    "\n",
    "W = ufl.MixedFunctionSpace(*[Q, V])"
   ]
  },
  {
   "cell_type": "markdown",
   "id": "c64a79a7",
   "metadata": {},
   "source": [
    "Next, we have to define the bilinear and linear forms.\n",
    "We do this as usual, by introducing a test functions $v\\in V$ and $\\tau\\in Q$ and a trial function $u\\in V$ and $q\\in Q$,\n",
    "and integrate the first equation by parts.\n",
    "\n",
    "\\begin{align}\n",
    "\\int_\\Omega \\sigma \\cdot \\tau - \\nabla u \\cdot \\tau ~\\mathrm{d} x &=\n",
    "\\int_\\Omega \\sigma \\cdot \\tau + u \\nabla \\cdot \\tau ~\\mathrm{d} x\n",
    "- \\sum_{f_i\\in \\mathit{Fi}}\\int_{f_i}\\left[u\\right] \\tau \\cdot \\mathbf{n}_i~\\mathrm{d}s\n",
    "- \\int_{\\partial\\Omega} u \\tau\\cdot \\mathbf{n}~\\mathrm{d}s,\\\\\n",
    "&=\\int_\\Omega \\sigma \\cdot \\tau + u \\nabla \\cdot \\tau ~\\mathrm{d} x\n",
    "- \\int_{\\Gamma_D} u_D \\tau\\cdot \\mathbf{n}~\\mathrm{d}s,\\\\\n",
    "\\end{align}\n",
    "\n",
    "where $f_i$ is an interior facet of the mesh, $\\mathbf{n}_i$ is an outwards pointing normal of one of the two\n",
    "adjacent elements. We will enforce the boundary conditions strongly by using a\n",
    "`dolfinx.fem.dirichletbc` on both $\\Gamma_N$, which makes its integral dissapear, while we enforced the Dirichlet boundary condition\n",
    "on $\\Gamma_D$ weakly._\n",
    "We enforce the continuity of $u$ weakly by removing the jump term.\n",
    "Thus we end up with:\n",
    "\n",
    "Find $u\\in V_{u_D}, \\sigma \\in Q_{g}$ such that\n",
    "\n",
    "\\begin{align}\n",
    "\\begin{split}\n",
    "\\int_\\Omega \\sigma \\cdot \\tau + u \\nabla \\cdot \\tau ~\\mathrm{d} x&= \\int_{\\Gamma_D} u_D \\tau\\cdot \\mathbf{n}~\\mathrm{d}s,\\\\\\\\\n",
    "\\int_\\Omega \\nabla \\cdot \\sigma v ~\\mathrm{d} x&=-\\int_\\Omega f v ~\\mathrm{d} x\n",
    "\\end{split}\\qquad \\forall v \\in V_{0}, \\tau \\in Q_{0}\n",
    "\\end{align}"
   ]
  },
  {
   "cell_type": "code",
   "execution_count": null,
   "id": "ce7b1fc1",
   "metadata": {
    "lines_to_next_cell": 2
   },
   "outputs": [],
   "source": [
    "u_D = dolfinx.fem.Function(V)\n",
    "u_D.interpolate(lambda x: u_ex(np, x))\n",
    "mesh.topology.create_connectivity(mesh.topology.dim, mesh.topology.dim)\n",
    "gamma_d_facets = dolfinx.mesh.locate_entities_boundary(\n",
    "    mesh, mesh.topology.dim - 1, Gamma_D\n",
    ")\n",
    "tag = 3\n",
    "ft = dolfinx.mesh.meshtags(\n",
    "    mesh,\n",
    "    mesh.topology.dim - 1,\n",
    "    gamma_d_facets,\n",
    "    np.full(gamma_d_facets.shape[0], tag, dtype=np.int32),\n",
    ")\n",
    "dGammaD = ufl.Measure(\"ds\", domain=mesh, subdomain_data=ft, subdomain_id=tag)"
   ]
  },
  {
   "cell_type": "code",
   "execution_count": null,
   "id": "2074d5a1",
   "metadata": {},
   "outputs": [],
   "source": [
    "sigma, u = ufl.TrialFunctions(W)\n",
    "tau, v = ufl.TestFunctions(W)\n",
    "n = ufl.FacetNormal(mesh)\n",
    "a = ufl.inner(sigma, tau) * ufl.dx\n",
    "a += u * ufl.div(tau) * ufl.dx\n",
    "a += ufl.inner(ufl.div(sigma), v) * ufl.dx"
   ]
  },
  {
   "cell_type": "markdown",
   "id": "677855cb",
   "metadata": {},
   "source": [
    "This can be split into a saddle point problem, with discretized matrices $A$ and $B$ and discretized\n",
    "right-hand side $\\mathbf{b}$.\n",
    "\\begin{align}\n",
    "\\begin{pmatrix}\n",
    "A & B^T\\\\\n",
    "B & 0\n",
    "\\end{pmatrix}\n",
    "\\begin{pmatrix}\n",
    "u_h\\\\\n",
    "\\sigma_h\n",
    "\\end{pmatrix}\n",
    "= \\begin{pmatrix}\n",
    "b_0\\\\\n",
    "b_1\n",
    "\\end{pmatrix}\n",
    "\\end{align}\n",
    "We can extract the block structure of the bilinear form using `ufl.extract_blocks`, which returns a nested list of bilinear forms.\n",
    "You can also build this nested list by hand if you want to, but it is usually more error-prone."
   ]
  },
  {
   "cell_type": "code",
   "execution_count": null,
   "id": "8ebfe38f",
   "metadata": {},
   "outputs": [],
   "source": [
    "a_blocked = ufl.extract_blocks(a)\n",
    "\n",
    "x = ufl.SpatialCoordinate(mesh)\n",
    "u_exact = u_ex(ufl, x)\n",
    "sigma_exact = ufl.grad(u_exact)\n",
    "f = -ufl.div(sigma_exact)\n",
    "L = ufl.inner(u_D, ufl.dot(tau, n)) * dGammaD - ufl.inner(f, v) * ufl.dx\n",
    "L_blocked = ufl.extract_blocks(L)"
   ]
  },
  {
   "cell_type": "markdown",
   "id": "3a66ff5c",
   "metadata": {},
   "source": [
    "Next we create the Dirichlet boundary condition for $\\sigma$.\n",
    "As we are using manufactured solutions for this problem, we could manually derive the explicit expression\n",
    "for $\\sigma$ on the boundary $\\Gamma_N$.\n",
    "However, in general this is not possible (especially for curved boundaries), and we have to use a more generic approach.\n",
    "For this we will use the `dolfinx.fem.Expression` class to interpolate the expression into the function space $Q$.\n",
    "This is done by evaluating the expression at the physical interpolation points of the mesh.\n",
    "A convenience function for this is provided in the `interpolate_facet_expression` function below."
   ]
  },
  {
   "cell_type": "code",
   "execution_count": null,
   "id": "188534ca",
   "metadata": {},
   "outputs": [],
   "source": [
    "import numpy.typing as npt\n",
    "import basix.ufl"
   ]
  },
  {
   "cell_type": "code",
   "execution_count": null,
   "id": "151f0ad7",
   "metadata": {},
   "outputs": [],
   "source": [
    "def interpolate_facet_expression(\n",
    "    Q: dolfinx.fem.FunctionSpace,\n",
    "    expr: ufl.core.expr.Expr,\n",
    "    facets: npt.NDArray[np.int32],\n",
    ") -> dolfinx.fem.Function:\n",
    "    \"\"\"\n",
    "    Interpolate a UFL-expression into a function space, only for the degrees of freedom assoicated with facets.\n",
    "    \"\"\"\n",
    "    domain = Q.mesh\n",
    "    Q_el = Q.element\n",
    "    fdim = domain.topology.dim - 1\n",
    "\n",
    "    # Get coordinate element for facets of cell\n",
    "    c_el = domain.ufl_domain().ufl_coordinate_element()\n",
    "    facet_types = basix.cell.subentity_types(domain.basix_cell())[fdim]\n",
    "    unique_facet_types = np.unique(facet_types)\n",
    "    assert len(unique_facet_types) == 1, (\n",
    "        \"All facets must have the same type for interpolation.\"\n",
    "    )\n",
    "    facet_type = facet_types[0]\n",
    "    x_type = domain.geometry.x.dtype\n",
    "    facet_cmap = basix.ufl.element(\n",
    "        \"Lagrange\", facet_type, c_el.degree, shape=(domain.geometry.dim,), dtype=x_type\n",
    "    )\n",
    "    if np.issubdtype(x_type, np.float32):\n",
    "        facet_cel = dolfinx.cpp.fem.CoordinateElement_float32(\n",
    "            facet_cmap.basix_element._e\n",
    "        )\n",
    "    elif np.issubdtype(x_type, np.float64):\n",
    "        facet_cel = dolfinx.cpp.fem.CoordinateElement_float64(\n",
    "            facet_cmap.basix_element._e\n",
    "        )\n",
    "    else:\n",
    "        raise TypeError(\n",
    "            f\"Unsupported coordinate element type: {x_type}. \"\n",
    "            \"Only float32 and float64 are supported.\"\n",
    "        )\n",
    "    # Pull back interpolation points from reference coordinate element to facet reference element\n",
    "    ref_top = c_el.reference_topology\n",
    "    ref_geom = c_el.reference_geometry\n",
    "    reference_facet_points = None\n",
    "    interpolation_points = Q_el.basix_element.x\n",
    "    for i, points in enumerate(interpolation_points[fdim]):\n",
    "        geom = ref_geom[ref_top[fdim][i]]\n",
    "        ref_points = facet_cel.pull_back(points, geom)\n",
    "        # Assert that interpolation points are all equal on all facets\n",
    "        if reference_facet_points is None:\n",
    "            reference_facet_points = ref_points\n",
    "        else:\n",
    "            assert np.allclose(reference_facet_points, ref_points)\n",
    "\n",
    "    assert isinstance(reference_facet_points, np.ndarray)\n",
    "\n",
    "    # Create expression for BC\n",
    "    bndry_expr = dolfinx.fem.Expression(expr, reference_facet_points)\n",
    "\n",
    "    # Compute number of interpolation points per sub entity\n",
    "    points_per_entity = [sum(ip.shape[0] for ip in ips) for ips in interpolation_points]\n",
    "    offsets = np.zeros(domain.topology.dim + 2, dtype=np.int32)\n",
    "    offsets[1:] = np.cumsum(points_per_entity[: domain.topology.dim + 1])\n",
    "    values_per_entity = np.zeros(\n",
    "        (offsets[-1], domain.geometry.dim), dtype=dolfinx.default_scalar_type\n",
    "    )\n",
    "\n",
    "    # Map facet indices to (cell, local_facet) pairs\n",
    "    boundary_entities = dolfinx.fem.compute_integration_domains(\n",
    "        dolfinx.fem.IntegralType.exterior_facet, domain.topology, facets\n",
    "    )\n",
    "\n",
    "    # Compute and insert the correct values for the interpolation points on the facets\n",
    "    entities = boundary_entities.reshape(-1, 2)\n",
    "    values = np.zeros(entities.shape[0] * offsets[-1] * domain.geometry.dim)\n",
    "    for i, entity in enumerate(entities):\n",
    "        insert_pos = offsets[fdim] + reference_facet_points.shape[0] * entity[1]\n",
    "        normal_on_facet = bndry_expr.eval(domain, entity.reshape(1, 2))\n",
    "        values_per_entity[insert_pos : insert_pos + reference_facet_points.shape[0]] = (\n",
    "            normal_on_facet.reshape(-1, domain.geometry.dim)\n",
    "        )\n",
    "        values[\n",
    "            i * offsets[-1] * domain.geometry.dim : (i + 1)\n",
    "            * offsets[-1]\n",
    "            * domain.geometry.dim\n",
    "        ] = values_per_entity.reshape(-1)\n",
    "    # Use lower-level interpolation that takes in the function evaluated at the physical\n",
    "    # interpolation points of the mesh.\n",
    "    qh = dolfinx.fem.Function(Q)\n",
    "    qh._cpp_object.interpolate(\n",
    "        values.reshape(-1, domain.geometry.dim).T.copy(), boundary_entities[::2].copy()\n",
    "    )\n",
    "    qh.x.scatter_forward()\n",
    "    return qh"
   ]
  },
  {
   "cell_type": "code",
   "execution_count": null,
   "id": "572142cf",
   "metadata": {},
   "outputs": [],
   "source": [
    "sigma_facets = dolfinx.mesh.locate_entities_boundary(\n",
    "    mesh, mesh.topology.dim - 1, Gamma_N\n",
    ")\n",
    "n = ufl.FacetNormal(mesh)\n",
    "g = ufl.dot(ufl.grad(u_exact), n)\n",
    "sigma_bc = interpolate_facet_expression(Q, g, sigma_facets)\n",
    "bc_sigma = dolfinx.fem.dirichletbc(\n",
    "    sigma_bc,\n",
    "    dolfinx.fem.locate_dofs_topological(Q, mesh.topology.dim - 1, sigma_facets),\n",
    ")\n",
    "assert len(sigma_facets) == 0"
   ]
  },
  {
   "cell_type": "markdown",
   "id": "da908f53",
   "metadata": {},
   "source": [
    "Now that we have created the bilinear and linear form, and the boundary conditions,\n",
    "we turn to solving the problem. For this we use the `dolfinx.fem.petsc.LinearProblem` class.\n",
    "As opposed to the previous examples, we now have an explicit block structure, which we would like to\n",
    "exploit when solving the problem. However, first we will solve the problem without any preconditioner\n",
    "to have a baseline performance."
   ]
  },
  {
   "cell_type": "code",
   "execution_count": null,
   "id": "6b021afd",
   "metadata": {},
   "outputs": [],
   "source": [
    "import dolfinx.fem.petsc\n",
    "\n",
    "problem = dolfinx.fem.petsc.LinearProblem(\n",
    "    a_blocked,\n",
    "    L_blocked,\n",
    "    bcs=[bc_sigma],\n",
    "    petsc_options={\n",
    "        \"ksp_type\": \"preonly\",\n",
    "        \"pc_type\": \"lu\",\n",
    "        \"pc_factor_mat_solver_type\": \"mumps\",\n",
    "        \"ksp_error_if_not_converged\": True,\n",
    "        \"mat_mumps_icntl_24\": 1,\n",
    "        \"mat_mumps_icntl_25\": 0,\n",
    "    },\n",
    "    kind=\"mpi\",\n",
    "    petsc_options_prefix=\"mixed_poisson_direct\",\n",
    ")"
   ]
  },
  {
   "cell_type": "markdown",
   "id": "f676e6a9",
   "metadata": {},
   "source": [
    "Note that we have specified `kind=\"mpi\"` in the initialization of the `LinearProblem`.\n",
    "This is to inform DOLFINx that we wan to preserve the block structure of the problem when assembling."
   ]
  },
  {
   "cell_type": "code",
   "execution_count": null,
   "id": "368c2288",
   "metadata": {},
   "outputs": [],
   "source": [
    "import time"
   ]
  },
  {
   "cell_type": "code",
   "execution_count": null,
   "id": "5cea57f4",
   "metadata": {},
   "outputs": [],
   "source": [
    "start = time.perf_counter()\n",
    "(sigma_h, u_h) = problem.solve()\n",
    "end = time.perf_counter()\n",
    "print(f\"Direct solver took {end - start:.2f} seconds.\")"
   ]
  },
  {
   "cell_type": "code",
   "execution_count": null,
   "id": "5e61d522",
   "metadata": {},
   "outputs": [],
   "source": [
    "L2_u = dolfinx.fem.form(ufl.inner(u_h - u_exact, u_h - u_exact) * ufl.dx)\n",
    "Hdiv_sigma = dolfinx.fem.form(\n",
    "    ufl.inner(\n",
    "        ufl.div(sigma_h) - ufl.div(ufl.grad(u_exact)),\n",
    "        ufl.div(sigma_h) - ufl.div(ufl.grad(u_exact)),\n",
    "    )\n",
    "    * ufl.dx\n",
    ")\n",
    "local_u_error = dolfinx.fem.assemble_scalar(L2_u)\n",
    "local_sigma_error = dolfinx.fem.assemble_scalar(Hdiv_sigma)\n",
    "u_error = np.sqrt(mesh.comm.allreduce(local_u_error, op=MPI.SUM))\n",
    "sigma_error = np.sqrt(mesh.comm.allreduce(local_sigma_error, op=MPI.SUM))"
   ]
  },
  {
   "cell_type": "code",
   "execution_count": null,
   "id": "94997937",
   "metadata": {},
   "outputs": [],
   "source": [
    "print(f\"Direct solver, L2(u): {u_error:.2e}, H(div)(sigma): {sigma_error:.2e}\")"
   ]
  },
  {
   "cell_type": "markdown",
   "id": "c9e08cf0",
   "metadata": {},
   "source": [
    "## Iterative solver with Schur complement preconditioner\n",
    "As mentioned earlier, there are more efficient ways of solving this problem, than using a direct solver.\n",
    "Especially with the saddle point structure of the problem, we can use a Schur complement preconditioner.\n",
    "As described in [FEniCSx PCTools: Mixed Poisson](https://rafinex-external-rifle.gitlab.io/fenicsx-pctools/demo/demo_mixed-poisson.html),\n",
    "Instead of wrapping the matrices in a custom wrapper, we can use `dolfinx.fem.petsc.LinearProblem` to solve the problem."
   ]
  },
  {
   "cell_type": "markdown",
   "id": "a83cc5c8",
   "metadata": {},
   "source": [
    "We start by defining the $S$ matrix in the Schur complement (see the aforementioned link for details on the variational formulation)."
   ]
  },
  {
   "cell_type": "code",
   "execution_count": null,
   "id": "edf158fb",
   "metadata": {},
   "outputs": [],
   "source": [
    "alpha = dolfinx.fem.Constant(mesh, 4.0)\n",
    "gamma = dolfinx.fem.Constant(mesh, 9.0)\n",
    "h = ufl.CellDiameter(mesh)\n",
    "s = -(\n",
    "    ufl.inner(ufl.grad(u), ufl.grad(v)) * ufl.dx\n",
    "    - ufl.inner(ufl.avg(ufl.grad(v)), ufl.jump(u, n)) * ufl.dS\n",
    "    - ufl.inner(ufl.jump(u, n), ufl.avg(ufl.grad(v))) * ufl.dS\n",
    "    + (alpha / ufl.avg(h)) * ufl.inner(ufl.jump(u, n), ufl.jump(v, n)) * ufl.dS\n",
    "    - ufl.inner(ufl.grad(u), v * n) * dGammaD\n",
    "    - ufl.inner(u * n, ufl.grad(v)) * dGammaD\n",
    "    + (gamma / h) * u * v * dGammaD\n",
    ")\n",
    "\n",
    "S = dolfinx.fem.petsc.assemble_matrix(dolfinx.fem.form(s))\n",
    "S.assemble()\n",
    "\n",
    "\n",
    "class SchurInv:\n",
    "    def setUp(self, pc):\n",
    "        self.ksp = PETSc.KSP().create(mesh.comm)\n",
    "        self.ksp.setOptionsPrefix(pc.getOptionsPrefix() + \"SchurInv_\")\n",
    "        self.ksp.setOperators(S)\n",
    "        self.ksp.setTolerances(atol=1e-10, rtol=1e-10)\n",
    "        self.ksp.setFromOptions()\n",
    "\n",
    "    def apply(self, pc, x, y):\n",
    "        self.ksp.solve(x, y)\n",
    "\n",
    "    def __del__(self):\n",
    "        self.ksp.destroy()"
   ]
  },
  {
   "cell_type": "markdown",
   "id": "be27eab0",
   "metadata": {},
   "source": [
    "Next we can create the linear problem instance with all the required options"
   ]
  },
  {
   "cell_type": "code",
   "execution_count": null,
   "id": "2dd5b523",
   "metadata": {},
   "outputs": [],
   "source": [
    "u_it = dolfinx.fem.Function(V, name=\"u_it\")\n",
    "sigma_it = dolfinx.fem.Function(Q, name=\"sigma_it\")\n",
    "petsc_options = {\n",
    "    \"ksp_error_if_not_converged\": True,\n",
    "    \"ksp_type\": \"gmres\",\n",
    "    \"ksp_rtol\": 1e-10,\n",
    "    \"ksp_atol\": 1e-10,\n",
    "    \"pc_type\": \"fieldsplit\",\n",
    "    \"pc_fieldsplit_type\": \"schur\",\n",
    "    \"pc_fieldsplit_schur_fact_type\": \"upper\",\n",
    "    \"pc_fieldsplit_schur_precondition\": \"user\",\n",
    "    f\"fieldsplit_{sigma_it.name}_0_ksp_type\": \"preonly\",\n",
    "    f\"fieldsplit_{sigma_it.name}_0_pc_type\": \"bjacobi\",\n",
    "    f\"fieldsplit_{u_it.name}_1_ksp_type\": \"preonly\",\n",
    "    f\"fieldsplit_{u_it.name}_1_pc_type\": \"python\",\n",
    "    f\"fieldsplit_{u_it.name}_1_pc_python_type\": __name__ + \".SchurInv\",\n",
    "    f\"fieldsplit_{u_it.name}_1_SchurInv_ksp_type\": \"preonly\",\n",
    "    f\"fieldsplit_{u_it.name}_1_SchurInv_pc_type\": \"hypre\",\n",
    "}\n",
    "w_it = (sigma_it, u_it)\n",
    "problem = dolfinx.fem.petsc.LinearProblem(\n",
    "    a_blocked,\n",
    "    L_blocked,\n",
    "    u=w_it,\n",
    "    bcs=[bc_sigma],\n",
    "    petsc_options=petsc_options,\n",
    "    petsc_options_prefix=\"mp_\",\n",
    "    kind=\"nest\",\n",
    ")"
   ]
  },
  {
   "cell_type": "markdown",
   "id": "1a4c11f9",
   "metadata": {},
   "source": [
    "```{admonition} NEST matrices\n",
    "Note that instead of using `kind=\"mpi\"` we use `kind=\"nest\"` to indicate that we want to use a nested matrix structure\n",
    "and employ the power of [PETSc fieldsplit](https://petsc.org/release/manual/ksp/#solving-block-matrices-with-pcfieldsplit).\n",
    "```\n",
    "The only modification required to linear problem is to attach the correct fieldsplit indexset."
   ]
  },
  {
   "cell_type": "code",
   "execution_count": null,
   "id": "7ef8ada6",
   "metadata": {},
   "outputs": [],
   "source": [
    "nest_IS = problem.A.getNestISs()\n",
    "fieldsplit_IS = tuple(\n",
    "    [\n",
    "        (f\"{u.name + '_' if u.name != 'f' else ''}{i}\", IS)\n",
    "        for i, (u, IS) in enumerate(zip(problem.u, nest_IS[0]))\n",
    "    ]\n",
    ")\n",
    "problem.solver.getPC().setFieldSplitIS(*fieldsplit_IS)\n",
    "start_it = time.perf_counter()\n",
    "problem.solve()\n",
    "end_it = time.perf_counter()\n",
    "print(\n",
    "    f\"Iterative solver took {end_it - start_it:.2f} seconds\"\n",
    "    + f\" in {problem.solver.getIterationNumber()} iterations\"\n",
    ")"
   ]
  },
  {
   "cell_type": "markdown",
   "id": "b79e329c",
   "metadata": {},
   "source": [
    "We compute the error norms for the iterative solution"
   ]
  },
  {
   "cell_type": "code",
   "execution_count": null,
   "id": "2db0ee6f",
   "metadata": {},
   "outputs": [],
   "source": [
    "L2_u_it = dolfinx.fem.form(ufl.inner(u_it - u_exact, u_it - u_exact) * ufl.dx)\n",
    "Hdiv_sigma_it = dolfinx.fem.form(\n",
    "    ufl.inner(\n",
    "        ufl.div(sigma_it) - ufl.div(ufl.grad(u_exact)),\n",
    "        ufl.div(sigma_it) - ufl.div(ufl.grad(u_exact)),\n",
    "    )\n",
    "    * ufl.dx\n",
    ")\n",
    "local_u_error_it = dolfinx.fem.assemble_scalar(L2_u_it)\n",
    "local_sigma_error_it = dolfinx.fem.assemble_scalar(Hdiv_sigma_it)\n",
    "u_error_it = np.sqrt(mesh.comm.allreduce(local_u_error_it, op=MPI.SUM))\n",
    "sigma_error_it = np.sqrt(mesh.comm.allreduce(local_sigma_error_it, op=MPI.SUM))"
   ]
  },
  {
   "cell_type": "code",
   "execution_count": null,
   "id": "478187c3",
   "metadata": {},
   "outputs": [],
   "source": [
    "print(f\"Iterative solver, L2(u): {u_error_it:.2e}, H(div)(sigma): {sigma_error_it:.2e}\")"
   ]
  },
  {
   "cell_type": "code",
   "execution_count": null,
   "id": "904e4b6a",
   "metadata": {
    "lines_to_next_cell": 2
   },
   "outputs": [],
   "source": [
    "np.testing.assert_allclose(u_h.x.array, u_it.x.array, rtol=1e-7, atol=1e-7)\n",
    "np.testing.assert_allclose(sigma_h.x.array, sigma_it.x.array, rtol=1e-7, atol=1e-7)"
   ]
  },
  {
   "cell_type": "markdown",
   "id": "d2f9cf55",
   "metadata": {},
   "source": [
    "```{bibliography}\n",
    "   :filter: cited and ({\"chapter4/mixed_poisson\"} >= docnames)\n",
    "```"
   ]
  }
 ],
 "metadata": {
  "jupytext": {
   "cell_metadata_filter": "-all",
   "formats": "ipynb,py:light",
   "main_language": "python"
  }
 },
 "nbformat": 4,
 "nbformat_minor": 5
}
