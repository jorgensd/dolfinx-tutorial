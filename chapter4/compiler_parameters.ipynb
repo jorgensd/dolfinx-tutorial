{
 "cells": [
  {
   "cell_type": "markdown",
   "id": "0",
   "metadata": {},
   "source": [
    "# JIT options and visualization using Pandas\n",
    "Author: Jørgen S. Dokken\n",
    "\n",
    "In this chapter, we will explore how to optimize and inspect the integration kernels used in DOLFINx.\n",
    "As we have seen in the previous demos, DOLFINx uses the [Unified form language](https://github.com/FEniCS/ufl/) to describe variational problems.\n",
    "\n",
    "These descriptions have to be translated into code for assembling the right and left hand side of the discrete variational problem.\n",
    "\n",
    "DOLFINx uses [ffcx](https://github.com/FEniCS/ffcx/) to generate efficient C code assembling the element matrices.\n",
    "This C code is in turn compiled using [CFFI](https://cffi.readthedocs.io/en/latest/), and we can specify a variety of compile options.\n",
    "\n",
    "We start by specifying the current directory as the location to place the generated C files, we obtain the current directory using pathlib"
   ]
  },
  {
   "cell_type": "code",
   "execution_count": null,
   "id": "1",
   "metadata": {},
   "outputs": [],
   "source": [
    "import pandas as pd\n",
    "import seaborn\n",
    "import time\n",
    "\n",
    "from ufl import TestFunction, TrialFunction, dx, inner\n",
    "from dolfinx.mesh import create_unit_cube\n",
    "from dolfinx.fem.petsc import assemble_matrix\n",
    "from dolfinx.fem import functionspace, form\n",
    "\n",
    "from mpi4py import MPI\n",
    "from pathlib import Path\n",
    "from typing import Dict\n",
    "\n",
    "cache_dir = f\"{str(Path.cwd())}/.cache\"\n",
    "print(f\"Directory to put C files in: {cache_dir}\")"
   ]
  },
  {
   "cell_type": "markdown",
   "id": "2",
   "metadata": {},
   "source": [
    "Next we generate a general function to assemble the mass matrix for a unit cube. Note that we use `dolfinx.fem.form` to compile the variational form.\n",
    "For codes using `dolfinx.fem.petsc.LinearProblem`, you can supply `jit_options` as a keyword argument."
   ]
  },
  {
   "cell_type": "code",
   "execution_count": null,
   "id": "3",
   "metadata": {},
   "outputs": [],
   "source": [
    "def compile_form(space: str, degree: int, jit_options: Dict):\n",
    "    N = 10\n",
    "    mesh = create_unit_cube(MPI.COMM_WORLD, N, N, N)\n",
    "    V = functionspace(mesh, (space, degree))\n",
    "    u = TrialFunction(V)\n",
    "    v = TestFunction(V)\n",
    "    a = inner(u, v) * dx\n",
    "    a_compiled = form(a, jit_options=jit_options)\n",
    "    start = time.perf_counter()\n",
    "    assemble_matrix(a_compiled)\n",
    "    end = time.perf_counter()\n",
    "    return end - start"
   ]
  },
  {
   "cell_type": "markdown",
   "id": "4",
   "metadata": {},
   "source": [
    "We start by considering the different levels of optimization that the C compiler can use on the optimized code. A list of optimization options and explanations can be found [here](https://gcc.gnu.org/onlinedocs/gcc/Optimize-Options.html)"
   ]
  },
  {
   "cell_type": "code",
   "execution_count": null,
   "id": "5",
   "metadata": {},
   "outputs": [],
   "source": [
    "optimization_options = [\"-O1\", \"-O2\", \"-O3\", \"-Ofast\"]"
   ]
  },
  {
   "cell_type": "markdown",
   "id": "6",
   "metadata": {},
   "source": [
    "The next option we can choose is if we want to compile the code with `-march=native` or not. This option enables instructions for the local machine, and can give different results on different systems. More information can be found [here](https://gcc.gnu.org/onlinedocs/gcc/AArch64-Options.html#g_t-march-and--mcpu-Feature-Modifiers)"
   ]
  },
  {
   "cell_type": "code",
   "execution_count": null,
   "id": "7",
   "metadata": {},
   "outputs": [],
   "source": [
    "march_native = [True, False]"
   ]
  },
  {
   "cell_type": "markdown",
   "id": "8",
   "metadata": {},
   "source": [
    "We choose a subset of finite element spaces, varying the order of the space to look at the effects it has on the assembly time with different compile options."
   ]
  },
  {
   "cell_type": "code",
   "execution_count": null,
   "id": "9",
   "metadata": {},
   "outputs": [],
   "source": [
    "results = {\"Space\": [], \"Degree\": [], \"Options\": [], \"Time\": []}\n",
    "for space in [\"N1curl\", \"Lagrange\", \"RT\"]:\n",
    "    for degree in [1, 2, 3]:\n",
    "        for native in march_native:\n",
    "            for option in optimization_options:\n",
    "                if native:\n",
    "                    cffi_options = [option, \"-march=native\"]\n",
    "                else:\n",
    "                    cffi_options = [option]\n",
    "                jit_options = {\n",
    "                    \"cffi_extra_compile_args\": cffi_options,\n",
    "                    \"cache_dir\": cache_dir,\n",
    "                    \"cffi_libraries\": [\"m\"],\n",
    "                }\n",
    "                runtime = compile_form(space, degree, jit_options=jit_options)\n",
    "                results[\"Space\"].append(space)\n",
    "                results[\"Degree\"].append(str(degree))\n",
    "                results[\"Options\"].append(\"\\n\".join(cffi_options))\n",
    "                results[\"Time\"].append(runtime)"
   ]
  },
  {
   "cell_type": "markdown",
   "id": "10",
   "metadata": {},
   "source": [
    "We have now stored all the results to a dictionary. To visualize it, we use pandas and its Dataframe class.\n",
    "To instpect the data in a Jupyter notebook, call the code below.\n",
    "If you are running this code in a script, you can use `print(results_df)` instead."
   ]
  },
  {
   "cell_type": "code",
   "execution_count": null,
   "id": "11",
   "metadata": {},
   "outputs": [],
   "source": [
    "results_df = pd.DataFrame.from_dict(results)\n",
    "results_df"
   ]
  },
  {
   "cell_type": "markdown",
   "id": "12",
   "metadata": {},
   "source": [
    "Next, we inspect the impact of the compiler option on each type of finite element family.\n",
    "To achieve this, we add an extra column to the dataframe, which combines the space and degree of the finite element."
   ]
  },
  {
   "cell_type": "code",
   "execution_count": null,
   "id": "13",
   "metadata": {},
   "outputs": [],
   "source": [
    "seaborn.set(style=\"ticks\")\n",
    "seaborn.set(font_scale=1.2)\n",
    "seaborn.set_style(\"darkgrid\")\n",
    "results_df[\"Element\"] = results_df[\"Space\"] + \" \" + results_df[\"Degree\"]\n",
    "elements = sorted(set(results_df[\"Element\"]))\n",
    "for element in elements:\n",
    "    df_e = results_df[results_df[\"Element\"] == element]\n",
    "    g = seaborn.catplot(x=\"Options\", y=\"Time\", kind=\"bar\", data=df_e, col=\"Element\")\n",
    "    g.fig.set_size_inches(16, 4)"
   ]
  },
  {
   "cell_type": "markdown",
   "id": "14",
   "metadata": {},
   "source": [
    "We observe that the compile time increases when increasing the degree of the function space,\n",
    "and that we get most speedup by using \"-O3\" or \"-Ofast\" combined with \"-march=native\"."
   ]
  }
 ],
 "metadata": {
  "jupytext": {
   "formats": "ipynb,py:light"
  },
  "kernelspec": {
   "display_name": "Python 3 (ipykernel)",
   "language": "python",
   "name": "python3"
  },
  "language_info": {
   "codemirror_mode": {
    "name": "ipython",
    "version": 3
   },
   "file_extension": ".py",
   "mimetype": "text/x-python",
   "name": "python",
   "nbconvert_exporter": "python",
   "pygments_lexer": "ipython3",
   "version": "3.10.12"
  }
 },
 "nbformat": 4,
 "nbformat_minor": 5
}
