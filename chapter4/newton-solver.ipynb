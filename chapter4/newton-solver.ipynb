{
 "cells": [
  {
   "cell_type": "markdown",
   "id": "0",
   "metadata": {},
   "source": [
    "# Custom Newton solvers\n",
    "Author: Jørgen S. Dokken\n",
    "\n",
    "Newtons method, as used in the [non-linear Poisson](./../chapter2/nonlinpoisson_code) problem, is a way of solving a non-linear equation as a sequence of linear equations.\n",
    "\n",
    "Given a function $F:\\mathbb{R}^M\\mapsto \\mathbb{R}^M$, we have that $u_k, u_{k+1}\\in \\mathbb{R}^M$ is related as:\n",
    "\n",
    "$$u_{k+1} = u_{k} - J_F(u_k)^{-1} F(u_k)$$\n",
    "\n",
    "where $J_F$ is the Jacobian matrix of $F$.\n",
    "\n",
    "We can rewrite this equation as $\\delta u_k = u_{k+1} - u_{k}$,\n",
    "\n",
    "$$\n",
    "J_F(u_k)\\delta u_k = - F(u_k)\n",
    "$$\n",
    "\n",
    "and\n",
    "\n",
    "$$\n",
    "u_{k+1} = u_k + \\delta u_k.\n",
    "$$"
   ]
  },
  {
   "cell_type": "markdown",
   "id": "1",
   "metadata": {},
   "source": [
    "## Problem specification\n",
    "We start by importing all packages needed to solve the problem."
   ]
  },
  {
   "cell_type": "code",
   "execution_count": null,
   "id": "2",
   "metadata": {},
   "outputs": [],
   "source": [
    "import dolfinx\n",
    "import dolfinx.fem.petsc\n",
    "import matplotlib.pyplot as plt\n",
    "import numpy as np\n",
    "import pyvista\n",
    "import ufl\n",
    "from mpi4py import MPI\n",
    "from petsc4py import PETSc"
   ]
  },
  {
   "cell_type": "markdown",
   "id": "3",
   "metadata": {},
   "source": [
    "We will consider the following non-linear problem:\n",
    "\n",
    "$$ u^2 - 2 u = x^2 + 4x + 3 \\text{ in } [0,1] $$\n",
    "For this problem, we have two solutions, $u=-x-1$, $u=x+3$.\n",
    "We define these roots as python functions, and create an appropriate spacing for plotting these soultions."
   ]
  },
  {
   "cell_type": "code",
   "execution_count": null,
   "id": "4",
   "metadata": {},
   "outputs": [],
   "source": [
    "def root_0(x):\n",
    "    return 3 + x[0]\n",
    "\n",
    "\n",
    "def root_1(x):\n",
    "    return -1 - x[0]\n",
    "\n",
    "\n",
    "N = 10\n",
    "roots = [root_0, root_1]\n",
    "x_spacing = np.linspace(0, 1, N)"
   ]
  },
  {
   "cell_type": "markdown",
   "id": "5",
   "metadata": {},
   "source": [
    "We will start with an initial guess for this problem, $u_0 = 0$.\n",
    "Next, we define the mesh, and the appropriate function space and function `uh` to hold the approximate solution."
   ]
  },
  {
   "cell_type": "code",
   "execution_count": null,
   "id": "6",
   "metadata": {},
   "outputs": [],
   "source": [
    "mesh = dolfinx.mesh.create_unit_interval(MPI.COMM_WORLD, N)\n",
    "V = dolfinx.fem.functionspace(mesh, (\"Lagrange\", 1))\n",
    "uh = dolfinx.fem.Function(V)"
   ]
  },
  {
   "cell_type": "markdown",
   "id": "7",
   "metadata": {},
   "source": [
    "## Definition of residual and Jacobian\n",
    "Next, we define the variational form, by multiplying by a test function and integrating over the domain $[0,1]$"
   ]
  },
  {
   "cell_type": "code",
   "execution_count": null,
   "id": "8",
   "metadata": {},
   "outputs": [],
   "source": [
    "v = ufl.TestFunction(V)\n",
    "x = ufl.SpatialCoordinate(mesh)\n",
    "F = uh**2 * v * ufl.dx - 2 * uh * v * ufl.dx - (x[0]**2 + 4 * x[0] + 3) * v * ufl.dx\n",
    "residual = dolfinx.fem.form(F)"
   ]
  },
  {
   "cell_type": "markdown",
   "id": "9",
   "metadata": {},
   "source": [
    "Next, we can define the jacobian $J_F$, by using `ufl.derivative`."
   ]
  },
  {
   "cell_type": "code",
   "execution_count": null,
   "id": "10",
   "metadata": {},
   "outputs": [],
   "source": [
    "J = ufl.derivative(F, uh)\n",
    "jacobian = dolfinx.fem.form(J)"
   ]
  },
  {
   "cell_type": "markdown",
   "id": "11",
   "metadata": {},
   "source": [
    "As we will solve this problem in an iterative fashion, we would like to create the sparse matrix and vector containing the residual only once.\n",
    "## Setup of iteration-independent structures"
   ]
  },
  {
   "cell_type": "code",
   "execution_count": null,
   "id": "12",
   "metadata": {},
   "outputs": [],
   "source": [
    "A = dolfinx.fem.petsc.create_matrix(jacobian)\n",
    "L = dolfinx.fem.petsc.create_vector(residual)"
   ]
  },
  {
   "cell_type": "markdown",
   "id": "13",
   "metadata": {},
   "source": [
    "Next, we create the linear solver and the vector to hold `du`."
   ]
  },
  {
   "cell_type": "code",
   "execution_count": null,
   "id": "14",
   "metadata": {},
   "outputs": [],
   "source": [
    "solver = PETSc.KSP().create(mesh.comm)\n",
    "solver.setOperators(A)\n",
    "du = dolfinx.fem.Function(V)"
   ]
  },
  {
   "cell_type": "markdown",
   "id": "15",
   "metadata": {},
   "source": [
    "We would like to monitor the evolution of `uh` for each iteration. Therefore, we get the dof coordinates, and sort them in increasing order."
   ]
  },
  {
   "cell_type": "code",
   "execution_count": null,
   "id": "16",
   "metadata": {},
   "outputs": [],
   "source": [
    "i = 0\n",
    "coords = V.tabulate_dof_coordinates()[:, 0]\n",
    "sort_order = np.argsort(coords)\n",
    "max_iterations = 25\n",
    "solutions = np.zeros((max_iterations + 1, len(coords)))\n",
    "solutions[0] = uh.x.array[sort_order]"
   ]
  },
  {
   "cell_type": "markdown",
   "id": "17",
   "metadata": {},
   "source": [
    "We are now ready to solve the linear problem. At each iteration, we reassemble the Jacobian and residual, and use the norm of the magnitude of the update (`dx`) as a termination criteria.\n",
    "## The Newton iterations"
   ]
  },
  {
   "cell_type": "code",
   "execution_count": null,
   "id": "18",
   "metadata": {},
   "outputs": [],
   "source": [
    "i = 0\n",
    "while i < max_iterations:\n",
    "    # Assemble Jacobian and residual\n",
    "    with L.localForm() as loc_L:\n",
    "        loc_L.set(0)\n",
    "    A.zeroEntries()\n",
    "    dolfinx.fem.petsc.assemble_matrix(A, jacobian)\n",
    "    A.assemble()\n",
    "    dolfinx.fem.petsc.assemble_vector(L, residual)\n",
    "    L.ghostUpdate(addv=PETSc.InsertMode.ADD_VALUES, mode=PETSc.ScatterMode.REVERSE)\n",
    "\n",
    "    # Scale residual by -1\n",
    "    L.scale(-1)\n",
    "    L.ghostUpdate(addv=PETSc.InsertMode.INSERT_VALUES, mode=PETSc.ScatterMode.FORWARD)\n",
    "\n",
    "    # Solve linear problem\n",
    "    solver.solve(L, du.x.petsc_vec)\n",
    "    du.x.scatter_forward()\n",
    "    # Update u_{i+1} = u_i + delta u_i\n",
    "    uh.x.array[:] += du.x.array\n",
    "    i += 1\n",
    "\n",
    "    # Compute norm of update\n",
    "    correction_norm = du.x.petsc_vec.norm(0)\n",
    "    print(f\"Iteration {i}: Correction norm {correction_norm}\")\n",
    "    if correction_norm < 1e-10:\n",
    "        break\n",
    "    solutions[i, :] = uh.x.array[sort_order]"
   ]
  },
  {
   "cell_type": "markdown",
   "id": "19",
   "metadata": {},
   "source": [
    "We now compute the magnitude of the residual."
   ]
  },
  {
   "cell_type": "code",
   "execution_count": null,
   "id": "20",
   "metadata": {},
   "outputs": [],
   "source": [
    "dolfinx.fem.petsc.assemble_vector(L, residual)\n",
    "print(f\"Final residual {L.norm(0)}\")"
   ]
  },
  {
   "cell_type": "markdown",
   "id": "21",
   "metadata": {},
   "source": [
    "## Visualization of Newton iterations\n",
    "We next look at the evolution of the solution and the error of the solution when compared to the two exact roots of the problem."
   ]
  },
  {
   "cell_type": "code",
   "execution_count": null,
   "id": "22",
   "metadata": {},
   "outputs": [],
   "source": [
    "# Plot solution for each of the iterations\n",
    "fig = plt.figure(figsize=(15, 8))\n",
    "for j, solution in enumerate(solutions[:i]):\n",
    "    plt.plot(coords[sort_order], solution, label=f\"Iteration {j}\")\n",
    "\n",
    "# Plot each of the roots of the problem, and compare the approximate solution with each of them\n",
    "args = (\"--go\",)\n",
    "for j, root in enumerate(roots):\n",
    "    u_ex = root(x)\n",
    "    L2_error = dolfinx.fem.form(ufl.inner(uh - u_ex, uh - u_ex) * ufl.dx)\n",
    "    global_L2 = mesh.comm.allreduce(dolfinx.fem.assemble_scalar(L2_error), op=MPI.SUM)\n",
    "    print(f\"L2-error (root {j}) {np.sqrt(global_L2)}\")\n",
    "\n",
    "    kwargs = {} if j == 0 else {\"label\": \"u_exact\"}\n",
    "    plt.plot(x_spacing, root(x_spacing.reshape(1, -1)), *args, **kwargs)\n",
    "plt.grid()\n",
    "plt.legend()"
   ]
  },
  {
   "cell_type": "markdown",
   "id": "23",
   "metadata": {},
   "source": [
    "# Newton's method with DirichletBC\n",
    "In the previous example, we did not consider handling of Dirichlet boundary conditions.\n",
    "For this example, we will consider the [non-linear Poisson](./../chapter2/nonlinpoisson)-problem.\n",
    "We start by defining the mesh, the analytical solution and the forcing term $f$."
   ]
  },
  {
   "cell_type": "code",
   "execution_count": null,
   "id": "24",
   "metadata": {},
   "outputs": [],
   "source": [
    "def q(u):\n",
    "    return 1 + u**2\n",
    "\n",
    "\n",
    "domain = dolfinx.mesh.create_unit_square(MPI.COMM_WORLD, 10, 10)\n",
    "x = ufl.SpatialCoordinate(domain)\n",
    "u_ufl = 1 + x[0] + 2 * x[1]\n",
    "f = - ufl.div(q(u_ufl) * ufl.grad(u_ufl))\n",
    "\n",
    "\n",
    "def u_exact(x):\n",
    "    return eval(str(u_ufl))"
   ]
  },
  {
   "cell_type": "markdown",
   "id": "25",
   "metadata": {},
   "source": [
    "Next, we define the boundary condition `bc`, the residual `F` and the Jacobian `J`."
   ]
  },
  {
   "cell_type": "code",
   "execution_count": null,
   "id": "26",
   "metadata": {
    "lines_to_next_cell": 0
   },
   "outputs": [],
   "source": [
    "V = dolfinx.fem.functionspace(domain, (\"Lagrange\", 1))\n",
    "u_D = dolfinx.fem.Function(V)\n",
    "u_D.interpolate(u_exact)\n",
    "fdim = domain.topology.dim - 1\n",
    "domain.topology.create_connectivity(fdim, fdim + 1)\n",
    "boundary_facets = dolfinx.mesh.exterior_facet_indices(domain.topology)\n",
    "bc = dolfinx.fem.dirichletbc(u_D, dolfinx.fem.locate_dofs_topological(V, fdim, boundary_facets))\n",
    "\n",
    "uh = dolfinx.fem.Function(V)\n",
    "v = ufl.TestFunction(V)\n",
    "F = q(uh) * ufl.dot(ufl.grad(uh), ufl.grad(v)) * ufl.dx - f * v * ufl.dx\n",
    "J = ufl.derivative(F, uh)\n",
    "residual = dolfinx.fem.form(F)\n",
    "jacobian = dolfinx.fem.form(J)\n"
   ]
  },
  {
   "cell_type": "markdown",
   "id": "27",
   "metadata": {},
   "source": [
    "Next, we define the matrix `A`, right hand side vector `L` and the correction function `du`"
   ]
  },
  {
   "cell_type": "code",
   "execution_count": null,
   "id": "28",
   "metadata": {},
   "outputs": [],
   "source": [
    "du = dolfinx.fem.Function(V)\n",
    "A = dolfinx.fem.petsc.create_matrix(jacobian)\n",
    "L = dolfinx.fem.petsc.create_vector(residual)\n",
    "solver = PETSc.KSP().create(mesh.comm)\n",
    "solver.setOperators(A)"
   ]
  },
  {
   "cell_type": "markdown",
   "id": "29",
   "metadata": {
    "lines_to_next_cell": 2
   },
   "source": [
    "Since this problem has strong Dirichlet conditions, we need to apply lifting to the right hand side of our Newton problem.\n",
    "We previously had that we wanted to solve the system:\n",
    "\n",
    "$$\n",
    "\\begin{align}\n",
    "J_F(u_k)\\delta u_k &= - F(u_k)\\\\\n",
    "u_{k+1} &= u_k + \\delta u_k\n",
    "\\end{align}\n",
    "$$\n",
    "\n",
    "we want $u_{k+1}\\vert_{bc}= u_D$. However, we do not know if $u_k\\vert_{bc}=u_D$.\n",
    "Therefore, we want to apply the following boundary condition for our correction $\\delta u_k$\n",
    "\n",
    "$$\n",
    "\\delta u_k\\vert_{bc} = u_D-u_k\\vert_{bc}\n",
    "$$\n",
    "\n",
    "We therefore arrive at the following Newton scheme"
   ]
  },
  {
   "cell_type": "code",
   "execution_count": null,
   "id": "30",
   "metadata": {},
   "outputs": [],
   "source": [
    "i = 0\n",
    "error = dolfinx.fem.form(ufl.inner(uh - u_ufl, uh - u_ufl) * ufl.dx(metadata={\"quadrature_degree\": 4}))\n",
    "L2_error = []\n",
    "du_norm = []\n",
    "while i < max_iterations:\n",
    "    # Assemble Jacobian and residual\n",
    "    with L.localForm() as loc_L:\n",
    "        loc_L.set(0)\n",
    "    A.zeroEntries()\n",
    "    dolfinx.fem.petsc.assemble_matrix(A, jacobian, bcs=[bc])\n",
    "    A.assemble()\n",
    "    dolfinx.fem.petsc.assemble_vector(L, residual)\n",
    "    L.ghostUpdate(addv=PETSc.InsertMode.ADD, mode=PETSc.ScatterMode.REVERSE)\n",
    "    L.scale(-1)\n",
    "\n",
    "    # Compute b - J(u_D-u_(i-1))\n",
    "    dolfinx.fem.petsc.apply_lifting(L, [jacobian], [[bc]], x0=[uh.x.petsc_vec], alpha=1)\n",
    "    # Set du|_bc = u_{i-1}-u_D\n",
    "    dolfinx.fem.petsc.set_bc(L, [bc], uh.x.petsc_vec, 1.0)\n",
    "    L.ghostUpdate(addv=PETSc.InsertMode.INSERT_VALUES, mode=PETSc.ScatterMode.FORWARD)\n",
    "\n",
    "    # Solve linear problem\n",
    "    solver.solve(L, du.x.petsc_vec)\n",
    "    du.x.scatter_forward()\n",
    "\n",
    "    # Update u_{i+1} = u_i + delta u_i\n",
    "    uh.x.array[:] += du.x.array\n",
    "    i += 1\n",
    "\n",
    "    # Compute norm of update\n",
    "    correction_norm = du.x.petsc_vec.norm(0)\n",
    "\n",
    "    # Compute L2 error comparing to the analytical solution\n",
    "    L2_error.append(np.sqrt(mesh.comm.allreduce(dolfinx.fem.assemble_scalar(error), op=MPI.SUM)))\n",
    "    du_norm.append(correction_norm)\n",
    "\n",
    "    print(f\"Iteration {i}: Correction norm {correction_norm}, L2 error: {L2_error[-1]}\")\n",
    "    if correction_norm < 1e-10:\n",
    "        break"
   ]
  },
  {
   "cell_type": "markdown",
   "id": "31",
   "metadata": {},
   "source": [
    "We plot the $L^2$-error and the residual norm ($\\delta u$) per iteration"
   ]
  },
  {
   "cell_type": "code",
   "execution_count": null,
   "id": "32",
   "metadata": {},
   "outputs": [],
   "source": [
    "fig = plt.figure(figsize=(15, 8))\n",
    "plt.subplot(121)\n",
    "plt.plot(np.arange(i), L2_error)\n",
    "plt.title(r\"$L^2(\\Omega)$-error of $u_h$\")\n",
    "ax = plt.gca()\n",
    "ax.set_yscale('log')\n",
    "plt.xlabel(\"Iterations\")\n",
    "plt.ylabel(r\"$L^2$-error\")\n",
    "plt.grid()\n",
    "plt.subplot(122)\n",
    "plt.title(r\"Residual of $\\vert\\vert\\delta u_i\\vert\\vert$\")\n",
    "plt.plot(np.arange(i), du_norm)\n",
    "ax = plt.gca()\n",
    "ax.set_yscale('log')\n",
    "plt.xlabel(\"Iterations\")\n",
    "plt.ylabel(r\"$\\vert\\vert \\delta u\\vert\\vert$\")\n",
    "plt.grid()"
   ]
  },
  {
   "cell_type": "markdown",
   "id": "33",
   "metadata": {},
   "source": [
    "We compute the max error and plot the solution"
   ]
  },
  {
   "cell_type": "code",
   "execution_count": null,
   "id": "34",
   "metadata": {},
   "outputs": [],
   "source": [
    "error_max = domain.comm.allreduce(np.max(np.abs(uh.x.array - u_D.x.array)), op=MPI.MAX)\n",
    "if domain.comm.rank == 0:\n",
    "    print(f\"Error_max: {error_max:.2e}\")"
   ]
  },
  {
   "cell_type": "code",
   "execution_count": null,
   "id": "35",
   "metadata": {},
   "outputs": [],
   "source": [
    "pyvista.start_xvfb()\n",
    "u_topology, u_cell_types, u_geometry = dolfinx.plot.vtk_mesh(V)\n",
    "u_grid = pyvista.UnstructuredGrid(u_topology, u_cell_types, u_geometry)\n",
    "u_grid.point_data[\"u\"] = uh.x.array.real\n",
    "u_grid.set_active_scalars(\"u\")\n",
    "u_plotter = pyvista.Plotter()\n",
    "u_plotter.add_mesh(u_grid, show_edges=True)\n",
    "u_plotter.view_xy()\n",
    "if not pyvista.OFF_SCREEN:\n",
    "    u_plotter.show()"
   ]
  },
  {
   "cell_type": "code",
   "execution_count": null,
   "id": "36",
   "metadata": {},
   "outputs": [],
   "source": []
  }
 ],
 "metadata": {
  "jupytext": {
   "formats": "ipynb,py:light"
  },
  "kernelspec": {
   "display_name": "Python 3 (ipykernel)",
   "language": "python",
   "name": "python3"
  }
 },
 "nbformat": 4,
 "nbformat_minor": 5
}
