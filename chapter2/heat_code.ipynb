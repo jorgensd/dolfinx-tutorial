{
 "cells": [
  {
   "cell_type": "markdown",
   "metadata": {},
   "source": [
    "# A known analytical solution\n",
    "Author: Jørgen S. Dokken\n",
    "\n",
    "Just as for the [Poisson problem](./../chapter1/fundamentals_code), we construct a test problem which makes it easy to determine if the calculations are correct.\n",
    "\n",
    "Since we know that our first-order time-stepping scheme is exact for linear functions, we create a problem which has linear variation in time. We combine this with a quadratic variation in space. Therefore, we choose the analytical solution to be\n",
    "\\begin{align}\n",
    "u = 1 + x^2+\\alpha y^2 + \\beta t\n",
    "\\end{align}\n",
    "which yields a function whose computed values at the degrees of freedom will be exact, regardless of the mesh size and $\\Delta t$ as long as the mesh is uniformly partitioned.\n",
    "By inserting this into our original PDE, we find that the right hand side $f=\\beta-2-2\\alpha$. The boundary value $u_d(x,y,t)=1+x^2+\\alpha y^2 + \\beta t$ and the initial value $u_0(x,y)=1+x^2+\\alpha y^2$.\n",
    "\n",
    "We start by defining the temporal discretization parameters, along with the parameters for $\\alpha$ and $\\beta$."
   ]
  },
  {
   "cell_type": "code",
   "execution_count": null,
   "metadata": {},
   "outputs": [],
   "source": [
    "from petsc4py import PETSc\n",
    "from mpi4py import MPI\n",
    "import ufl\n",
    "from dolfinx import mesh, fem\n",
    "from dolfinx.fem.petsc import (\n",
    "    assemble_matrix,\n",
    "    assemble_vector,\n",
    "    apply_lifting,\n",
    "    create_vector,\n",
    "    set_bc,\n",
    ")\n",
    "import numpy\n",
    "import numpy.typing as npt"
   ]
  },
  {
   "cell_type": "markdown",
   "id": "2",
   "metadata": {},
   "source": [
    "We define the problem specific parameters"
   ]
  },
  {
   "cell_type": "code",
   "execution_count": null,
   "id": "3",
   "metadata": {},
   "outputs": [],
   "source": [
    "t = 0.0  # Start time\n",
    "T = 2.0  # End time\n",
    "num_steps = 20  # Number of time steps\n",
    "dt = (T - t) / num_steps  # Time step size\n",
    "alpha = 3.0\n",
    "beta = 1.2"
   ]
  },
  {
   "cell_type": "markdown",
   "metadata": {},
   "source": [
    "As for the previous problem, we define the mesh and appropriate function spaces."
   ]
  },
  {
   "cell_type": "code",
   "execution_count": null,
   "metadata": {},
   "outputs": [],
   "source": [
    "nx, ny = 5, 5\n",
    "domain = mesh.create_unit_square(MPI.COMM_WORLD, nx, ny, mesh.CellType.triangle)\n",
    "V = fem.functionspace(domain, (\"Lagrange\", 1))"
   ]
  },
  {
   "cell_type": "markdown",
   "metadata": {
    "lines_to_next_cell": 2
   },
   "source": [
    "## Defining the exact solution\n",
    "As in the membrane problem, we create a Python-class to resemble the exact solution"
   ]
  },
  {
   "cell_type": "code",
   "execution_count": null,
   "metadata": {},
   "outputs": [],
   "source": [
    "class ExactSolution:\n",
    "    def __init__(self, alpha: float, beta: float, t: float):\n",
    "        self.alpha = alpha\n",
    "        self.beta = beta\n",
    "        self.t = t\n",
    "\n",
    "    def __call__(self, x: npt.NDArray[numpy.floating]) -> npt.NDArray[numpy.floating]:\n",
    "        return 1 + x[0] ** 2 + self.alpha * x[1] ** 2 + self.beta * self.t\n",
    "\n",
    "\n",
    "u_exact = ExactSolution(alpha, beta, t)"
   ]
  },
  {
   "cell_type": "markdown",
   "metadata": {},
   "source": [
    "## Defining the boundary condition\n",
    "As in the previous chapters, we define a Dirichlet boundary condition over the whole boundary"
   ]
  },
  {
   "cell_type": "code",
   "execution_count": null,
   "metadata": {},
   "outputs": [],
   "source": [
    "u_D = fem.Function(V)\n",
    "u_D.interpolate(u_exact)\n",
    "tdim = domain.topology.dim\n",
    "fdim = tdim - 1\n",
    "domain.topology.create_connectivity(fdim, tdim)\n",
    "boundary_facets = mesh.exterior_facet_indices(domain.topology)\n",
    "bc = fem.dirichletbc(u_D, fem.locate_dofs_topological(V, fdim, boundary_facets))"
   ]
  },
  {
   "cell_type": "markdown",
   "metadata": {},
   "source": [
    "## Defining the variational formualation\n",
    "As we have set $t=0$ in `u_exact`, we can reuse this variable to obtain $u_n$ for the first time step."
   ]
  },
  {
   "cell_type": "code",
   "execution_count": null,
   "metadata": {},
   "outputs": [],
   "source": [
    "u_n = fem.Function(V)\n",
    "u_n.interpolate(u_exact)"
   ]
  },
  {
   "cell_type": "markdown",
   "metadata": {},
   "source": [
    "As $f$ is a constant independent of $t$, we can define it as a constant."
   ]
  },
  {
   "cell_type": "code",
   "execution_count": null,
   "metadata": {},
   "outputs": [],
   "source": [
    "f = fem.Constant(domain, beta - 2 - 2 * alpha)"
   ]
  },
  {
   "cell_type": "markdown",
   "metadata": {},
   "source": [
    "We can now create our variational formulation, with the bilinear form `a` and  linear form `L`."
   ]
  },
  {
   "cell_type": "code",
   "execution_count": null,
   "metadata": {},
   "outputs": [],
   "source": [
    "u, v = ufl.TrialFunction(V), ufl.TestFunction(V)\n",
    "F = (\n",
    "    u * v * ufl.dx\n",
    "    + dt * ufl.dot(ufl.grad(u), ufl.grad(v)) * ufl.dx\n",
    "    - (u_n + dt * f) * v * ufl.dx\n",
    ")\n",
    "a = fem.form(ufl.lhs(F))\n",
    "L = fem.form(ufl.rhs(F))"
   ]
  },
  {
   "cell_type": "markdown",
   "metadata": {},
   "source": [
    "## Create the matrix and vector for the linear problem\n",
    "To ensure that we are solving the variational problem efficiently, we will create several structures which can reuse data, such as matrix sparisty patterns. Especially note as the bilinear form `a` is independent of time, we only need to assemble the matrix once."
   ]
  },
  {
   "cell_type": "code",
   "execution_count": null,
   "metadata": {},
   "outputs": [],
   "source": [
    "A = assemble_matrix(a, bcs=[bc])\n",
    "A.assemble()\n",
    "b = create_vector(fem.extract_function_spaces(L))\n",
    "uh = fem.Function(V)"
   ]
  },
  {
   "cell_type": "markdown",
   "metadata": {},
   "source": [
    "## Define a linear variational solver\n",
    "We will use [PETSc](https://www.mcs.anl.gov/petsc/) to solve the resulting linear algebra problem. We use the Python-API `petsc4py` to define the solver. We will use a linear solver."
   ]
  },
  {
   "cell_type": "code",
   "execution_count": null,
   "metadata": {},
   "outputs": [],
   "source": [
    "solver = PETSc.KSP().create(domain.comm)\n",
    "solver.setOperators(A)\n",
    "solver.setType(PETSc.KSP.Type.PREONLY)\n",
    "solver.getPC().setType(PETSc.PC.Type.LU)"
   ]
  },
  {
   "cell_type": "markdown",
   "metadata": {},
   "source": [
    "## Solving the time-dependent problem\n",
    "With these structures in place, we create our time-stepping loop.\n",
    "In this loop, we first update the Dirichlet boundary condition by interpolating the updated\n",
    "expression `u_exact` into `V`. The next step is to re-assemble the vector `b`, with the update `u_n`.\n",
    "Then, we need to apply the boundary condition to this vector. We do this by using the lifting operation,\n",
    "which applies the boundary condition such that symmetry of the matrix is preserved.\n",
    "Then we solve the problem using PETSc and update `u_n` with the data from `uh`."
   ]
  },
  {
   "cell_type": "code",
   "execution_count": null,
   "metadata": {},
   "outputs": [],
   "source": [
    "for n in range(num_steps):\n",
    "    # Update Diriclet boundary condition\n",
    "    u_exact.t += dt\n",
    "    u_D.interpolate(u_exact)\n",
    "\n",
    "    # Update the right hand side reusing the initial vector\n",
    "    with b.localForm() as loc_b:\n",
    "        loc_b.set(0)\n",
    "    assemble_vector(b, L)\n",
    "\n",
    "    # Apply Dirichlet boundary condition to the vector\n",
    "    apply_lifting(b, [a], [[bc]])\n",
    "    b.ghostUpdate(addv=PETSc.InsertMode.ADD_VALUES, mode=PETSc.ScatterMode.REVERSE)\n",
    "    set_bc(b, [bc])\n",
    "\n",
    "    # Solve linear problem\n",
    "    solver.solve(b, uh.x.petsc_vec)\n",
    "    uh.x.scatter_forward()\n",
    "\n",
    "    # Update solution at previous time step (u_n)\n",
    "    u_n.x.array[:] = uh.x.array"
   ]
  },
  {
   "cell_type": "markdown",
   "id": "22",
   "metadata": {},
   "source": [
    "We free the PETSc object to avoid memory leaks."
   ]
  },
  {
   "cell_type": "code",
   "execution_count": null,
   "id": "23",
   "metadata": {},
   "outputs": [],
   "source": [
    "A.destroy()\n",
    "b.destroy()\n",
    "solver.destroy()"
   ]
  },
  {
   "cell_type": "markdown",
   "metadata": {},
   "source": [
    "## Verifying the numerical solution\n",
    "As in the first chapter, we compute the L2-error and the error at the mesh vertices for the last time step.\n",
    "to verify our implementation."
   ]
  },
  {
   "cell_type": "code",
   "execution_count": null,
   "metadata": {
    "tags": []
   },
   "outputs": [],
   "source": [
    "# Compute L2 error and error at nodes\n",
    "V_ex = fem.functionspace(domain, (\"Lagrange\", 2))\n",
    "u_ex = fem.Function(V_ex)\n",
    "u_ex.interpolate(u_exact)\n",
    "error_L2 = numpy.sqrt(\n",
    "    domain.comm.allreduce(\n",
    "        fem.assemble_scalar(fem.form((uh - u_ex) ** 2 * ufl.dx)), op=MPI.SUM\n",
    "    )\n",
    ")\n",
    "if domain.comm.rank == 0:\n",
    "    print(f\"L2-error: {error_L2:.2e}\")\n",
    "\n",
    "# Compute values at mesh vertices\n",
    "error_max = domain.comm.allreduce(\n",
    "    numpy.max(numpy.abs(uh.x.array - u_D.x.array)), op=MPI.MAX\n",
    ")\n",
    "if domain.comm.rank == 0:\n",
    "    print(f\"Error_max: {error_max:.2e}\")"
   ]
  }
 ],
 "metadata": {
  "jupytext": {
   "formats": "ipynb,py:light"
  },
  "kernelspec": {
   "display_name": "Python 3 (ipykernel)",
   "language": "python",
   "name": "python3"
  },
  "language_info": {
   "codemirror_mode": {
    "name": "ipython",
    "version": 3
   },
   "file_extension": ".py",
   "mimetype": "text/x-python",
   "name": "python",
   "nbconvert_exporter": "python",
   "pygments_lexer": "ipython3",
   "version": "3.10.12"
  }
 },
 "nbformat": 4,
 "nbformat_minor": 4
}
