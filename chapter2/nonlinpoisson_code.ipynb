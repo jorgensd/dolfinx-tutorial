{
 "cells": [
  {
   "cell_type": "markdown",
   "metadata": {},
   "source": [
    "# Implementation\n",
    "\n",
    "Author: Jørgen S. Dokken\n",
    "\n",
    "## Test problem\n",
    "To solve a test problem, we need to choose the right hand side $f$, the coefficient $q(u)$, and the boundary $u_D$.\n",
    "Previously, we have worked with manufactured solutions that can  be reproduced without approximation errors.\n",
    "This is more difficult in nonlinear problems, and the algebra is more tedious.\n",
    "However, we will utilize the UFL differentiation capabilities to obtain a manufactured solution.\n",
    "\n",
    "For this problem, we will choose $q(u) = 1 + u^2$ and define a two dimensional manufactured solution\n",
    "that is linear in $x$ and $y$:"
   ]
  },
  {
   "cell_type": "code",
   "execution_count": null,
   "metadata": {},
   "outputs": [],
   "source": [
    "import ufl\n",
    "import numpy\n",
    "\n",
    "from mpi4py import MPI\n",
    "from petsc4py import PETSc\n",
    "\n",
    "from dolfinx import mesh, fem, log\n",
    "from dolfinx.fem.petsc import NonlinearProblem\n",
    "\n",
    "\n",
    "def q(u):\n",
    "    return 1 + u**2\n",
    "\n",
    "\n",
    "domain = mesh.create_unit_square(MPI.COMM_WORLD, 10, 10)\n",
    "x = ufl.SpatialCoordinate(domain)\n",
    "u_ufl = 1 + x[0] + 2 * x[1]\n",
    "f = -ufl.div(q(u_ufl) * ufl.grad(u_ufl))"
   ]
  },
  {
   "cell_type": "markdown",
   "metadata": {},
   "source": [
    "Note that since `x` is a 2D vector, the first component (index 0) represents $x$,\n",
    "while the second component (index 1) represents $y$.\n",
    "The resulting function `f` can be directly used in variational formulations in DOLFINx.\n",
    "\n",
    "As we now have defined our source term and an exact solution,\n",
    "we can create the appropriate function space and boundary conditions.\n",
    "Note that as we have already defined the exact solution,\n",
    "we only have to convert it to a Python function that can be evaluated in the interpolation function.\n",
    "We do this by employing the Python `eval` and `lambda`-functions."
   ]
  },
  {
   "cell_type": "code",
   "execution_count": null,
   "id": "57c69c94",
   "metadata": {},
   "outputs": [],
   "source": [
    "V = fem.functionspace(domain, (\"Lagrange\", 1))"
   ]
  },
  {
   "cell_type": "code",
   "execution_count": null,
   "metadata": {},
   "outputs": [],
   "source": [
    "def u_exact(x):\n",
    "    return eval(str(u_ufl))"
   ]
  },
  {
   "cell_type": "code",
   "execution_count": null,
   "metadata": {},
   "outputs": [],
   "source": [
    "u_D = fem.Function(V)\n",
    "u_D.interpolate(u_exact)\n",
    "fdim = domain.topology.dim - 1\n",
    "boundary_facets = mesh.locate_entities_boundary(\n",
    "    domain, fdim, lambda x: numpy.full(x.shape[1], True, dtype=bool)\n",
    ")\n",
    "bc = fem.dirichletbc(u_D, fem.locate_dofs_topological(V, fdim, boundary_facets))"
   ]
  },
  {
   "cell_type": "markdown",
   "metadata": {},
   "source": [
    "We are now ready to define the variational formulation.\n",
    "Note that as the problem is nonlinear, we have to replace the `TrialFunction` with a `Function`,\n",
    "which serves as the unknown of our problem."
   ]
  },
  {
   "cell_type": "code",
   "execution_count": null,
   "metadata": {},
   "outputs": [],
   "source": [
    "uh = fem.Function(V)\n",
    "v = ufl.TestFunction(V)\n",
    "F = q(uh) * ufl.dot(ufl.grad(uh), ufl.grad(v)) * ufl.dx - f * v * ufl.dx"
   ]
  },
  {
   "cell_type": "markdown",
   "metadata": {},
   "source": [
    "## Newton's method\n",
    "The next step is to define the non-linear problem.\n",
    "As it is non-linear we will use [Newtons method](https://en.wikipedia.org/wiki/Newton%27s_method).\n",
    "For details about how to implement a Newton solver, see [Custom Newton solvers](../chapter4/newton-solver.ipynb).\n",
    "Newton's method requires methods for evaluating the residual `F` (including application of boundary conditions),\n",
    "as well as a method for computing the Jacobian matrix.\n",
    "DOLFINx provides the function `NonlinearProblem` that implements these methods.\n",
    "In addition to the boundary conditions, you can supply the variational form for the Jacobian\n",
    "(computed if not supplied), and form and JIT parameters,\n",
    "see the [JIT parameters section](../chapter4/compiler_parameters.ipynb).\n",
    "The DOLFINx `NonlinearProblem` is an interface to the [PETSc SNES solver](https://petsc.org/release/manual/snes/),\n",
    "which provides a large variety of options.\n",
    "In this example, we will turn of line-search, to run the problem with a standard Newton method.\n",
    "We can also provide PETSc options for the underlying linear solver (KSP) and preconditioner (PC)."
   ]
  },
  {
   "cell_type": "code",
   "execution_count": null,
   "metadata": {},
   "outputs": [],
   "source": [
    "petsc_options = {\n",
    "    \"snes_type\": \"newtonls\",\n",
    "    \"snes_linesearch_type\": \"none\",\n",
    "    \"snes_atol\": 1e-6,\n",
    "    \"snes_rtol\": 1e-6,\n",
    "    \"snes_monitor\": None,\n",
    "    \"ksp_error_if_not_converged\": True,\n",
    "    \"ksp_type\": \"gmres\",\n",
    "    \"ksp_rtol\": 1e-8,\n",
    "    \"ksp_monitor\": None,\n",
    "    \"pc_type\": \"hypre\",\n",
    "    \"pc_hypre_type\": \"boomeramg\",\n",
    "    \"pc_hypre_boomeramg_max_iter\": 1,\n",
    "    \"pc_hypre_boomeramg_cycle_type\": \"v\",\n",
    "}"
   ]
  },
  {
   "cell_type": "code",
   "execution_count": null,
   "id": "085a99da",
   "metadata": {
    "lines_to_next_cell": 2
   },
   "outputs": [],
   "source": [
    "problem = NonlinearProblem(\n",
    "    F,\n",
    "    uh,\n",
    "    bcs=[bc],\n",
    "    petsc_options=petsc_options,\n",
    "    petsc_options_prefix=\"nonlinpoisson\",\n",
    ")"
   ]
  },
  {
   "cell_type": "markdown",
   "id": "dcbc21ba",
   "metadata": {},
   "source": [
    "We are now ready to solve the non-linear problem.\n",
    "We assert that the solver has converged and print the number of iterations."
   ]
  },
  {
   "cell_type": "code",
   "execution_count": null,
   "id": "a9f33fd0",
   "metadata": {},
   "outputs": [],
   "source": [
    "problem.solve()\n",
    "converged = problem.solver.getConvergedReason()\n",
    "num_iter = problem.solver.getIterationNumber()\n",
    "assert converged > 0, \"Solver did not converge, got {converged}.\"\n",
    "print(\n",
    "    f\"Solver converged after {num_iter} iterations with converged reason {converged}.\"\n",
    ")"
   ]
  },
  {
   "cell_type": "markdown",
   "metadata": {
    "lines_to_next_cell": 2
   },
   "source": [
    "```{admonition} Convergence checks\n",
    "We can remove the assertion above, and let PETSc do the error handling by adding\n",
    "`snes_error_if_not_converged: True` to the `petsc_options` dictionary.\n",
    "This will raise an exception if the solver does not converge.\n",
    "We can also set the `snes_atol` and `snes_rtol` or `snes_stol` to control the convergence criteria\n",
    "or create custom convergence checks, see [SNES: Convergence checks](https://petsc.org/main/manual/snes/#convergence-tests)\n",
    "for more details.\n",
    "```"
   ]
  },
  {
   "cell_type": "markdown",
   "metadata": {},
   "source": [
    "We observe that the solver converges after $8$ iterations.\n",
    "If we think of the problem in terms of finite differences on a uniform mesh,\n",
    "$\\mathcal{P}_1$ elements mimic standard second-order finite differences,\n",
    "which compute the derivative of a linear or quadratic funtion exactly.\n",
    "Here $\\nabla u$ is a constant vector, which is multiplied by $1+u^2$,\n",
    "giving a second order polynomial in $x$ and $y$, which the finite difference operator would compute exactly.\n",
    "We can therefore, even with $\\mathcal{P}_1$ elements, expect the manufactured solution to be\n",
    "reproduced by the numerical method.\n",
    "However, if we had chosen a nonlinearity, such as $1+u^4$, this would not be the case,\n",
    "and we would need to verify convergence rates."
   ]
  },
  {
   "cell_type": "code",
   "execution_count": null,
   "metadata": {
    "tags": []
   },
   "outputs": [],
   "source": [
    "# Compute L2 error and error at nodes\n",
    "V_ex = fem.functionspace(domain, (\"Lagrange\", 2))\n",
    "u_ex = fem.Function(V_ex)\n",
    "u_ex.interpolate(u_exact)\n",
    "error_local = fem.assemble_scalar(fem.form((uh - u_ex) ** 2 * ufl.dx))\n",
    "error_L2 = numpy.sqrt(domain.comm.allreduce(error_local, op=MPI.SUM))\n",
    "if domain.comm.rank == 0:\n",
    "    print(f\"L2-error: {error_L2:.2e}\")\n",
    "\n",
    "# Compute values at mesh vertices\n",
    "error_max = domain.comm.allreduce(\n",
    "    numpy.max(numpy.abs(uh.x.array - u_D.x.array)), op=MPI.MAX\n",
    ")\n",
    "if domain.comm.rank == 0:\n",
    "    print(f\"Error_max: {error_max:.2e}\")"
   ]
  }
 ],
 "metadata": {
  "jupytext": {
   "formats": "ipynb,py:light"
  },
  "kernelspec": {
   "display_name": "Python 3 (ipykernel)",
   "language": "python",
   "name": "python3"
  },
  "language_info": {
   "codemirror_mode": {
    "name": "ipython",
    "version": 3
   },
   "file_extension": ".py",
   "mimetype": "text/x-python",
   "name": "python",
   "nbconvert_exporter": "python",
   "pygments_lexer": "ipython3",
   "version": "3.10.12"
  }
 },
 "nbformat": 4,
 "nbformat_minor": 4
}
