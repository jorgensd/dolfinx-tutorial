{
 "cells": [
  {
   "cell_type": "markdown",
   "id": "0",
   "metadata": {},
   "source": [
    "# Adaptive mesh refinement with NetGen and DOLFINx\n",
    "\n",
    "Author: Jørgen S. Dokken\n",
    "\n",
    "```{admonition} NetGen and linux/arm64\n",
    "NetGen is not available on PyPi on linux/arm64, so to run this tutorial on such machine, please use the\n",
    "docker image [ghcr.io/jorgensd/dolfinx-tutorial:release](https://github.com/jorgensd/dolfinx-tutorial/pkgs/container/dolfinx-tutorial/489387776?tag=release).\n",
    "You can also install NetGen from source. See the [Dockerfile](https://github.com/jorgensd/dolfinx-tutorial/blob/main/docker/Dockerfile) for instructions.\n",
    "```"
   ]
  },
  {
   "cell_type": "markdown",
   "id": "1",
   "metadata": {},
   "source": [
    "In this tutorial, we will consider an adaptive mesh refinement method, applied to\n",
    "the Laplace eigenvalue problem.\n",
    "This demo is an adaptation of [Firedrake - Adaptive Mesh Refinement](https://www.firedrakeproject.org/firedrake/demos/netgen_mesh.py.html).\n",
    "In this tutorial we will use the mesh generator [NetGen](https://ngsolve.org/) from NGSolve.\n",
    "First, we import the packages needed for this demo:"
   ]
  },
  {
   "cell_type": "code",
   "execution_count": null,
   "id": "2",
   "metadata": {},
   "outputs": [],
   "source": [
    "from mpi4py import MPI\n",
    "from petsc4py import PETSc\n",
    "from slepc4py import SLEPc\n",
    "from packaging.version import Version\n",
    "import dolfinx.fem.petsc\n",
    "import numpy as np\n",
    "import ufl\n",
    "import pyvista\n",
    "import ngsPETSc.utils.fenicsx as ngfx\n",
    "\n",
    "from netgen.geom2d import SplineGeometry"
   ]
  },
  {
   "cell_type": "markdown",
   "id": "3",
   "metadata": {},
   "source": [
    "## Generating a higher-order mesh with NetGen\n",
    "Next, we generate a PacMan-like geometry using NetGen."
   ]
  },
  {
   "cell_type": "code",
   "execution_count": null,
   "id": "4",
   "metadata": {},
   "outputs": [],
   "source": [
    "geo = SplineGeometry()\n",
    "pnts = [(0, 0), (1, 0), (1, 1), (0, 1), (-1, 1), (-1, 0), (-1, -1), (0, -1)]\n",
    "p1, p2, p3, p4, p5, p6, p7, p8 = [geo.AppendPoint(*pnt) for pnt in pnts]\n",
    "curves = [\n",
    "    [[\"line\", p1, p2], \"line\"],\n",
    "    [[\"spline3\", p2, p3, p4], \"curve\"],\n",
    "    [[\"spline3\", p4, p5, p6], \"curve\"],\n",
    "    [[\"spline3\", p6, p7, p8], \"curve\"],\n",
    "    [[\"line\", p8, p1], \"line\"],\n",
    "]\n",
    "for c, bc in curves:\n",
    "    geo.Append(c, bc=bc)"
   ]
  },
  {
   "cell_type": "markdown",
   "id": "5",
   "metadata": {},
   "source": [
    "## Loading a mesh into DOLFINx\n",
    "The ngsPETSc package provides a communication layer between NetGen and DOLFINx.\n",
    "We initialize this layer by passing in a NetGen-model, as well as an MPI communicator,\n",
    "which will be used to distribute the mesh."
   ]
  },
  {
   "cell_type": "code",
   "execution_count": null,
   "id": "6",
   "metadata": {},
   "outputs": [],
   "source": [
    "geoModel = ngfx.GeometricModel(geo, MPI.COMM_WORLD)"
   ]
  },
  {
   "cell_type": "markdown",
   "id": "7",
   "metadata": {},
   "source": [
    "Next, we generate the mesh with the function :py:func:`ngsPETSc.utils.fenicsx.GeometricModel.model_to_mesh`.\n",
    "Which takes in the target geometric dimension of the mesh (2 for triangular meshes, 3 for tetrahedral), the\n",
    "maximum mesh size (`hmax`) and a few optional parameters."
   ]
  },
  {
   "cell_type": "code",
   "execution_count": null,
   "id": "8",
   "metadata": {},
   "outputs": [],
   "source": [
    "mesh, (ct, ft), region_map = geoModel.model_to_mesh(gdim=2, hmax=0.5)"
   ]
  },
  {
   "cell_type": "markdown",
   "id": "9",
   "metadata": {},
   "source": [
    "We use pyvista to visualize the mesh."
   ]
  },
  {
   "cell_type": "code",
   "execution_count": null,
   "id": "10",
   "metadata": {
    "tags": [
     "hide-input"
    ]
   },
   "outputs": [],
   "source": [
    "grid = pyvista.UnstructuredGrid(*dolfinx.plot.vtk_mesh(mesh))\n",
    "grid.cell_data[\"ct\"] = ct.values\n",
    "\n",
    "plotter = pyvista.Plotter()\n",
    "plotter.add_mesh(\n",
    "    grid, show_edges=True, scalars=\"ct\", cmap=\"blues\", show_scalar_bar=False\n",
    ")\n",
    "plotter.view_xy()\n",
    "if not pyvista.OFF_SCREEN:\n",
    "    plotter.show()"
   ]
  },
  {
   "cell_type": "markdown",
   "id": "11",
   "metadata": {},
   "source": [
    "We have read in any cell and facet markers that have been defined in the NetGen model,\n",
    "as well as a map from their names to their integer ids in `ct`, `ft` and `region_map` respectively.\n",
    "We can curve the grids with the command `curveField`.\n",
    "In this example, we use third order Lagrange elements to represent the geometry."
   ]
  },
  {
   "cell_type": "code",
   "execution_count": null,
   "id": "12",
   "metadata": {},
   "outputs": [],
   "source": [
    "order = 3\n",
    "curved_mesh = geoModel.curveField(order)"
   ]
  },
  {
   "cell_type": "markdown",
   "id": "13",
   "metadata": {},
   "source": [
    "Again, we visualize the curved mesh with pyvista."
   ]
  },
  {
   "cell_type": "code",
   "execution_count": null,
   "id": "14",
   "metadata": {
    "tags": [
     "hide-input"
    ]
   },
   "outputs": [],
   "source": [
    "curved_grid = pyvista.UnstructuredGrid(*dolfinx.plot.vtk_mesh(curved_mesh))\n",
    "curved_grid.cell_data[\"ct\"] = ct.values\n",
    "plotter.add_mesh(\n",
    "    curved_grid, show_edges=False, scalars=\"ct\", cmap=\"blues\", show_scalar_bar=False\n",
    ")\n",
    "plotter.add_mesh(grid, style=\"wireframe\", color=\"black\")\n",
    "plotter.view_xy()\n",
    "if not pyvista.OFF_SCREEN:\n",
    "    plotter.show()"
   ]
  },
  {
   "cell_type": "markdown",
   "id": "15",
   "metadata": {},
   "source": [
    "## Solving the eigenvalue problem\n",
    "In this section we will solve the eigenvalue problem:\n",
    "\n",
    "Find $u_h\\in H_0^1(\\Omega)$ and $\\lambda\\in\\mathbb{R}$ such that\n",
    "\n",
    "$$\n",
    "\\begin{align}\n",
    "\\int_\\Omega \\nabla u \\cdot \\nabla v~\\mathrm{d} x &= \\lambda \\int_\\Omega u v~\\mathrm{d} x \\qquad\n",
    "\\forall v \\in H_0^1(\\Omega).\n",
    "\\end{align}\n",
    "$$"
   ]
  },
  {
   "cell_type": "markdown",
   "id": "16",
   "metadata": {
    "lines_to_next_cell": 2
   },
   "source": [
    "Next, we define a convenience function to solve the eigenvalue problem using [SLEPc](https://slepc.upv.es/)\n",
    "given a discretized domain, its facet markers and the region map."
   ]
  },
  {
   "cell_type": "code",
   "execution_count": null,
   "id": "17",
   "metadata": {
    "lines_to_next_cell": 2
   },
   "outputs": [],
   "source": [
    "def solve(\n",
    "    mesh: dolfinx.mesh.Mesh,\n",
    "    facet_tags: dolfinx.mesh.MeshTags,\n",
    "    region_map: dict[tuple[int, str], tuple[int, ...]],\n",
    ") -> tuple[float, dolfinx.fem.Function, dolfinx.fem.Function]:\n",
    "    # We define the lhs and rhs bilinear forms\n",
    "    V = dolfinx.fem.functionspace(mesh, (\"Lagrange\", 3))\n",
    "    u = ufl.TrialFunction(V)\n",
    "    v = ufl.TestFunction(V)\n",
    "    a = ufl.inner(ufl.grad(u), ufl.grad(v)) * ufl.dx\n",
    "    m = ufl.inner(u, v) * ufl.dx\n",
    "\n",
    "    # We identify the boundary facets and their corresponding dofs\n",
    "    straight_facets = facet_tags.indices[\n",
    "        np.isin(facet_tags.values, region_map[(1, \"line\")])\n",
    "    ]\n",
    "    curved_facets = facet_tags.indices[\n",
    "        np.isin(facet_tags.values, region_map[(1, \"curve\")])\n",
    "    ]\n",
    "    boundary_facets = np.concatenate([straight_facets, curved_facets])\n",
    "    mesh.topology.create_connectivity(mesh.topology.dim - 1, mesh.topology.dim)\n",
    "    boundary_dofs = dolfinx.fem.locate_dofs_topological(\n",
    "        V, mesh.topology.dim - 1, boundary_facets\n",
    "    )\n",
    "\n",
    "    # We create a zero boundary condition for these dofs to be in the suitable space, and\n",
    "    # set up the discrete matrices `A` and `M`\n",
    "    bc = dolfinx.fem.dirichletbc(0.0, boundary_dofs, V)\n",
    "    A = dolfinx.fem.petsc.assemble_matrix(dolfinx.fem.form(a), bcs=[bc])\n",
    "    A.assemble()\n",
    "    if Version(dolfinx.__version__) < Version(\"0.10.0\"):\n",
    "        diag_kwargs = {\"diagonal\": 0.0}\n",
    "    else:\n",
    "        diag_kwargs = {\"diag\": 0.0}\n",
    "\n",
    "    M = dolfinx.fem.petsc.assemble_matrix(dolfinx.fem.form(m), bcs=[bc], **diag_kwargs)\n",
    "    M.assemble()\n",
    "\n",
    "    # Next, we define the SLEPc Eigenvalue Problem Solver (EPS), and set up to use a shift\n",
    "    # and invert (SINVERT) spectral transformation where the preconditioner factorisation\n",
    "    # is computed using [MUMPS](https://mumps-solver.org/index.php).\n",
    "\n",
    "    E = SLEPc.EPS().create(mesh.comm)\n",
    "    E.setType(SLEPc.EPS.Type.ARNOLDI)\n",
    "    E.setProblemType(SLEPc.EPS.ProblemType.GHEP)\n",
    "    E.setDimensions(1, SLEPc.DECIDE)\n",
    "    E.setOperators(A, M)\n",
    "    ST = E.getST()\n",
    "    ST.setType(SLEPc.ST.Type.SINVERT)\n",
    "    PC = ST.getKSP().getPC()\n",
    "    PC.setType(\"lu\")\n",
    "    PC.setFactorSolverType(\"mumps\")\n",
    "    E.setST(ST)\n",
    "    E.solve()\n",
    "    assert E.getConvergedReason() >= 0, \"Eigenvalue solver did not converge\"\n",
    "\n",
    "    # We get the real and imaginary parts of the first eigenvector along with the eigenvalue.\n",
    "    uh_r = dolfinx.fem.Function(V)\n",
    "    uh_i = dolfinx.fem.Function(V)\n",
    "    lam = E.getEigenpair(0, uh_r.x.petsc_vec, uh_i.x.petsc_vec)\n",
    "    E.destroy()\n",
    "    uh_r.x.scatter_forward()\n",
    "    uh_i.x.scatter_forward()\n",
    "    return (lam, uh_r, uh_i)"
   ]
  },
  {
   "cell_type": "markdown",
   "id": "18",
   "metadata": {
    "lines_to_next_cell": 2
   },
   "source": [
    "## Error-indicator\n",
    "In this example, we will use an error-indicator $\\eta$ to decide what cells should be refined.\n",
    "Specifically, the estimator $\\eta$ is defined as:\n",
    "\n",
    "\\begin{align*}\n",
    " \\eta^2 = \\sum_{K\\in \\mathcal{T}_h(\\Omega)}\\left(h^2\\int_K \\vert \\lambda u_h + \\Delta u_h\\vert^2~\\mathrm{d}x\\right)\n",
    "+ \\sum_{E\\in\\mathcal{F}_i}\\frac{h}{2} \\vert [\\nabla \\cdot \\mathbf{n}_E ]\\vert^2~\\mathrm{d}s\n",
    "\\end{align*}\n",
    "\n",
    "where $\\mathcal{T}_h$ is the collection of cells in the mesh, $\\mathcal{F}_i$ the collection of interior facets\n",
    "(those connected to two cells)."
   ]
  },
  {
   "cell_type": "code",
   "execution_count": null,
   "id": "19",
   "metadata": {},
   "outputs": [],
   "source": [
    "def mark_cells(uh_r: dolfinx.fem.Function, lam: float):\n",
    "    mesh = uh_r.function_space.mesh\n",
    "    W = dolfinx.fem.functionspace(mesh, (\"DG\", 0))\n",
    "    w = ufl.TestFunction(W)\n",
    "    eta_squared = dolfinx.fem.Function(W)\n",
    "    f = dolfinx.fem.Constant(mesh, 1.0)\n",
    "    h = dolfinx.fem.Function(W)\n",
    "    h.x.array[:] = mesh.h(mesh.topology.dim, np.arange(len(h.x.array), dtype=np.int32))\n",
    "    n = ufl.FacetNormal(mesh)\n",
    "\n",
    "    G = (  # compute cellwise error estimator\n",
    "        ufl.inner(h**2 * (f + ufl.div(ufl.grad(uh_r))) ** 2, w) * ufl.dx\n",
    "        + ufl.inner(h(\"+\") / 2 * ufl.jump(ufl.grad(uh_r), n) ** 2, w(\"+\")) * ufl.dS\n",
    "        + ufl.inner(h(\"-\") / 2 * ufl.jump(ufl.grad(uh_r), n) ** 2, w(\"-\")) * ufl.dS\n",
    "    )\n",
    "    dolfinx.fem.petsc.assemble_vector(eta_squared.x.petsc_vec, dolfinx.fem.form(G))\n",
    "    eta = dolfinx.fem.Function(W)\n",
    "    eta.x.array[:] = np.sqrt(eta_squared.x.array[:])\n",
    "\n",
    "    eta_max = eta.x.petsc_vec.max()[1]\n",
    "\n",
    "    theta = 0.5\n",
    "    should_refine = ufl.conditional(ufl.gt(eta, theta * eta_max), 1, 0)\n",
    "    markers = dolfinx.fem.Function(W)\n",
    "    ip = W.element.interpolation_points\n",
    "    if Version(dolfinx.__version__) < Version(\"0.10.0\"):\n",
    "        ip = ip()\n",
    "    markers.interpolate(dolfinx.fem.Expression(should_refine, ip))\n",
    "    return np.flatnonzero(np.isclose(markers.x.array.astype(np.int32), 1))"
   ]
  },
  {
   "cell_type": "markdown",
   "id": "20",
   "metadata": {},
   "source": [
    "## Running the adaptive refinement algorithm\n",
    "Next, we will run the adaptive mesh refinement algorithm."
   ]
  },
  {
   "cell_type": "markdown",
   "id": "21",
   "metadata": {},
   "source": [
    "We will track the progress of the adaptive mesh refinement as a GIF."
   ]
  },
  {
   "cell_type": "code",
   "execution_count": null,
   "id": "22",
   "metadata": {},
   "outputs": [],
   "source": [
    "plotter = pyvista.Plotter()\n",
    "plotter.open_gif(\"amr.gif\", fps=1)"
   ]
  },
  {
   "cell_type": "markdown",
   "id": "23",
   "metadata": {
    "lines_to_next_cell": 2
   },
   "source": [
    "We make a convenience function to attach the relevant data to the plotter at a given\n",
    "refinement step."
   ]
  },
  {
   "cell_type": "code",
   "execution_count": null,
   "id": "24",
   "metadata": {
    "tags": [
     "hide-input"
    ]
   },
   "outputs": [],
   "source": [
    "def write_frame(plotter: pyvista.Plotter, uh_r: dolfinx.fem.Function):\n",
    "    # Scale uh_r to be consistent between refinement steps, as it can be multiplied by -1\n",
    "    uh_r_min = curved_mesh.comm.allreduce(uh_r.x.array.min(), op=MPI.MIN)\n",
    "    uh_r_max = curved_mesh.comm.allreduce(uh_r.x.array.max(), op=MPI.MAX)\n",
    "    uh_sign = np.sign(uh_r_min)\n",
    "    if np.isclose(uh_sign, 0):\n",
    "        uh_sign = np.sign(uh_r_max)\n",
    "    assert not np.isclose(uh_sign, 0), \"uh_r has zero values, cannot determine sign.\"\n",
    "    uh_r.x.array[:] *= uh_sign\n",
    "\n",
    "    # Update plot with refined mesh\n",
    "    grid = pyvista.UnstructuredGrid(*dolfinx.plot.vtk_mesh(mesh))\n",
    "    curved_grid = pyvista.UnstructuredGrid(*dolfinx.plot.vtk_mesh(uh_r.function_space))\n",
    "    curved_grid.point_data[\"u\"] = uh_r.x.array\n",
    "    curved_grid = curved_grid.tessellate()\n",
    "    curved_actor = plotter.add_mesh(\n",
    "        curved_grid,\n",
    "        show_edges=False,\n",
    "    )\n",
    "\n",
    "    actor = plotter.add_mesh(grid, style=\"wireframe\", color=\"black\")\n",
    "    plotter.view_xy()\n",
    "    plotter.write_frame()\n",
    "    plotter.remove_actor(actor)\n",
    "    plotter.remove_actor(curved_actor)"
   ]
  },
  {
   "cell_type": "markdown",
   "id": "25",
   "metadata": {},
   "source": [
    "We set some parameters for checking convergence of the algorithm, and provide the exact eigenvalue\n",
    "for comparison.\n",
    "```{admonition} Using ngsPETSc for mesh refinement\n",
    "In `ngsPETSc`, we provide the function `GeometricModel.refineMarkedElements` which we\n",
    "pass the entities we would like to refine, and the topological dimensions of those entities.\n",
    "The function returns a refined mesh, with corresponding cell and facet markers extracted from\n",
    "the NetGen model.\n",
    "```"
   ]
  },
  {
   "cell_type": "code",
   "execution_count": null,
   "id": "26",
   "metadata": {
    "tags": [
     "scroll-output"
    ]
   },
   "outputs": [],
   "source": [
    "max_iterations = 15\n",
    "exact = 3.375610652693620492628**2\n",
    "termination_criteria = 1e-5\n",
    "for i in range(max_iterations):\n",
    "    lam, uh_r, _ = solve(curved_mesh, ft, region_map)\n",
    "\n",
    "    relative_error = (lam - exact) / abs(exact)\n",
    "    PETSc.Sys.Print(\n",
    "        f\"Iteration {i + 1}/{max_iterations}, {lam=:.5e}, {exact=:.5e}, {relative_error=:.2e}\"\n",
    "    )\n",
    "\n",
    "    cells_to_mark = mark_cells(uh_r, lam)\n",
    "    mesh, (_, ft) = geoModel.refineMarkedElements(mesh.topology.dim, cells_to_mark)\n",
    "    curved_mesh = geoModel.curveField(order)\n",
    "    write_frame(plotter, uh_r)\n",
    "\n",
    "    if relative_error < termination_criteria:\n",
    "        PETSc.Sys.Print(f\"Converged in {i + 1} iterations.\")\n",
    "        break\n",
    "plotter.close()"
   ]
  },
  {
   "cell_type": "markdown",
   "id": "27",
   "metadata": {},
   "source": [
    "<img src=\"./amr.gif\" alt=\"gif\" class=\"bg-primary mb-1\" width=\"800px\">"
   ]
  }
 ],
 "metadata": {
  "jupytext": {
   "cell_metadata_filter": "tags,-all",
   "formats": "ipynb,py:light",
   "main_language": "python"
  }
 },
 "nbformat": 4,
 "nbformat_minor": 5
}
