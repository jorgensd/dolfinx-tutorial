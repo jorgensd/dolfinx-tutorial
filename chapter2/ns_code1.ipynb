{
 "cells": [
  {
   "cell_type": "markdown",
   "metadata": {},
   "source": [
    "# Test problem 1: Channel flow (Poiseuille flow)\n",
    "\n",
    "Authors: Anders Logg and Hans Petter Langtangen\n",
    "\n",
    "Adapted to DOLFINx by: Jørgen S. Dokken\n",
    "\n",
    "In this section, you will learn how to:\n",
    "- Solve the Navier-Stokes problem using a splitting scheme\n",
    "- Visualize functions from higher order Lagrangian spaces\n",
    "\n",
    "In this section, we will compute the flow between two infinite plates, so-called channel or Poiseuille flow.\n",
    "As we shall see, this problem has an analytical solution.\n",
    "Let $H$ be the distance between the plates and  $L$ the length of the channel. There are no body forces.\n",
    "\n",
    "We may scale the problem first to get rid of seemingly independent physical parameters. The physics of this problem is governed by viscous effects only, in the direction perpendicular to the flow, so a time scale should be based on diffusion across the channel: $t_v=H^2/\\nu$. We let $U$, some characteristic inflow velocity, be the velocity scale and $H$ the spatial scale. The pressure scale is taken as the characteristic shear stress, $\\mu U/H$, since this is a primary example of shear flow. Inserting $\\bar{x}=x/H, \\bar{y}=y/H, \\bar{z}=z/H, \\bar{u}=u/U, \\bar{p}=Hp/{\\mu U}$, and $\\bar{t}=H^2/\\nu$ in the equations results in the scaled Navier-Stokes equations (dropping the bars after scaling)\n",
    "```{math}\n",
    ":label: ns-scaled\n",
    "\\frac{\\partial u}{\\partial t}+ \\mathrm{Re} u \\cdot \\nabla u &= -\\nabla p + \\nabla^2 u,\\\\\n",
    "\\nabla \\cdot u &=0.\n",
    "```\n",
    "A detailed derivation for scaling of the Navier-Stokes equation for a large variety of physical situations can be found in {cite}`Langtangen2016scaling` (Chapter 4.2) by Hans Petter Langtangen and Geir K. Pedersen.\n",
    "\n",
    "Here, $\\mathrm{Re}=\\rho UH/\\mu$ is the Reynolds number. Because of the time and pressure scales, which are different from convection dominated fluid flow, the Reynolds number is associated with the convective term and not the viscosity term.\n",
    "\n",
    "The exact solution is derived by assuming $u=(u_x(x,y,z),0,0)$ with the $x$-axis pointing along the channel. Since $\\nabla \\cdot u = 0$, $u$ cannot be dependent on $x$.\n",
    "\n",
    "The physics of channel flow is also two-dimensional so we can omit the $z$-coordinate (more precisely: $\\partial/\\partial z = 0$). Inserting $u=(u_x, 0, 0)$ in the (scaled) governing equations gives $u_x''(y)=\\frac{\\partial p}{\\partial x}$.\n",
    "Differentiating this equation with respect to $x$ shows that\n",
    "$\\frac{\\partial^2p}{\\partial x^2}=0$ so $\\partial p/\\partial x$ is a constant here called $-\\beta$. This is the driving force of the flow and can be specified as a known parameter in the problem. Integrating $u_x''(x,y)=-\\beta$ over the width of the channel, $[0,1]$, and requiring $u=(0,0,0)$ at the channel walls, results in $u_x=\\frac{1}{2}\\beta y(1-y)$. The characteristic inlet velocity $U$ can be taken as the maximum inflow at $y=0.5$, implying $\\beta=8$. The length of the  channel, $L/H$ in the scaled model, has no impact on the result, so for simplicity we just compute on the unit square. Mathematically, the pressure must be prescribed at a point, but since $p$ does not depend on $y$, we can set $p$ to a known value, e.g. zero, along the outlet boundary $x=1$. The result is\n",
    "$p(x)=8(1-x)$ and $u_x=4y(1-y)$.\n",
    "\n",
    "The boundary conditions can be set as $p=8$ at $x=0$, $p=0$ at $x=1$ and $u=(0,0,0)$ on the walls $y=0,1$. This defines the pressure drop and should result in unit maximum velocity at the inlet and outlet and a parabolic velocity profile without no further specifications. Note that it is only meaningful to solve the Navier-Stokes equations in 2D or 3D geometries, although the underlying mathematical problem collapses to two $1D$ problems, one for $u_x(y)$ and one for $p(x)$.\n",
    "\n",
    "The scaled model is not so easy to simulate using a standard Navier-Stokes solver with dimensions. However, one can argue that the convection term is zero, so the Re coefficient in front of this term in the scaled PDEs is not important and can be set to unity. In that case, setting $\\rho=\\mu=1$ in the original Navier-Stokes equations resembles the scaled model.\n",
    "\n",
    "For a specific engineering problem one wants to simulate a specific fluid and set corresponding parameters. A general solver is therefore most naturally implemented with dimensions and using the original physical parameters.\n",
    "However, scaling may greatly simplify numerical simulations.\n",
    "First of all, it shows that all fluids behave in the  same way; it does not matter whether we have oil, gas, or water flowing between two plates, and it does not matter how fast the flow is (up to some critical value of the Reynolds number where the flow becomes unstable and transitions  to a complicated turbulent flow of totally different nature.)\n",
    " This means that one simulation is enough to cover all types of channel flow!\n",
    "In other applications, scaling shows that it might be necessary to just set the fraction of some parameters (dimensionless numbers) rather than the parameters themselves. This simplifies exploring the input parameter space which is often the purpose of simulation. Frequently, the scaled problem is run by setting some of the input parameters with dimension to fixed values (often unity)."
   ]
  },
  {
   "cell_type": "markdown",
   "metadata": {},
   "source": [
    "## Implementation\n",
    "\n",
    "Author: Jørgen S. Dokken\n",
    "\n",
    "As in the previous example, we load the DOLFINx module, along with the `mpi4py` module, and create the unit square mesh and define the run-time and temporal discretization"
   ]
  },
  {
   "cell_type": "code",
   "execution_count": null,
   "metadata": {
    "tags": []
   },
   "outputs": [],
   "source": [
    "from mpi4py import MPI\n",
    "from petsc4py import PETSc\n",
    "import numpy as np\n",
    "import pyvista\n",
    "\n",
    "from dolfinx.fem import Constant, Function, functionspace, assemble_scalar, dirichletbc, form, locate_dofs_geometrical\n",
    "from dolfinx.fem.petsc import assemble_matrix, assemble_vector, apply_lifting, create_vector, set_bc\n",
    "from dolfinx.io import VTXWriter\n",
    "from dolfinx.mesh import create_unit_square\n",
    "from dolfinx.plot import vtk_mesh\n",
    "from basix.ufl import element\n",
    "from ufl import (FacetNormal, Identity, TestFunction, TrialFunction,\n",
    "                 div, dot, ds, dx, inner, lhs, nabla_grad, rhs, sym)\n",
    "\n",
    "mesh = create_unit_square(MPI.COMM_WORLD, 10, 10)\n",
    "t = 0\n",
    "T = 10\n",
    "num_steps = 500\n",
    "dt = T / num_steps"
   ]
  },
  {
   "cell_type": "markdown",
   "metadata": {},
   "source": [
    "As opposed to the previous demos, we will create our two function spaces using the `ufl` element definitions as input"
   ]
  },
  {
   "cell_type": "code",
   "execution_count": null,
   "metadata": {
    "tags": []
   },
   "outputs": [],
   "source": [
    "v_cg2 = element(\"Lagrange\", mesh.topology.cell_name(), 2, shape=(mesh.geometry.dim, ))\n",
    "s_cg1 = element(\"Lagrange\", mesh.topology.cell_name(), 1)\n",
    "V = functionspace(mesh, v_cg2)\n",
    "Q = functionspace(mesh, s_cg1)"
   ]
  },
  {
   "cell_type": "markdown",
   "metadata": {},
   "source": [
    "The first space `V` is a vector valued function space for the velocity, while `Q` is a scalar valued function space for pressure. We use piecewise quadratic elements for the velocity and piecewise linear elements for the pressure. When creating the vector finite element, the dimension of the vector element will be set to the geometric dimension of the mesh. One can easily create vector-valued function spaces with other dimensions by replacing `(mesh.geometry.dim, )` with something else, like\n",
    "```\n",
    "v_cg  basix.ufl.element(\"Lagrange\", mesh.topology.cell_name(), 2, shape=(10,))\n",
    "```\n",
    "or \n",
    "```\n",
    "tensor_element = basix.ufl.element(\"Lagrange\", mesh.topology.cell_name(), 2, shape=(3, 3))\n",
    "```\n",
    "or\n",
    "```\n",
    "tensor_element = basix.ufl.element(\"Lagrange\", mesh.topology.cell_name(), 2, shape=(3, 2, 4))\n",
    "```\n",
    "\n",
    "\n",
    "```{admonition} Stable finite element spaces for the Navier-Stokes equation\n",
    "It is well-known that certain finite element spaces are not *stable* for the Navier-Stokes equations, or even for the  simpler Stokes equation. The prime example of an unstable pair of finite element spaces is to use first order degree continuous piecewise polynomials for both the velocity and the pressure.\n",
    "Using an unstable pair of spaces typically results in a solution with *spurious* (unwanted, non-physical) oscillations in the pressure solution. The simple remedy is to use continuous piecewise quadratic elements for the velocity and continuous piecewise linear elements for the pressure. Together, these elements form the so-called *Taylor-Hood* element. Spurious oscillations may occur also for splitting methods if an unstable element pair is used.\n",
    "\n",
    "Since we have two different function spaces, we need to create two sets of trial and test functions:"
   ]
  },
  {
   "cell_type": "code",
   "execution_count": null,
   "metadata": {},
   "outputs": [],
   "source": [
    "u = TrialFunction(V)\n",
    "v = TestFunction(V)\n",
    "p = TrialFunction(Q)\n",
    "q = TestFunction(Q)"
   ]
  },
  {
   "cell_type": "markdown",
   "metadata": {},
   "source": [
    "As we have seen in [Linear elasticity problem](./linearelasticity_code) we can use Python-functions to create the different Dirichlet conditions. For this problem, we have three Dirichlet condition: First, we will set $u=0$ at the walls of the channel, that is at $y=0$ and $y=1$. In this case, we will use `dolfinx.fem.locate_dofs_geometrical`"
   ]
  },
  {
   "cell_type": "code",
   "execution_count": null,
   "metadata": {},
   "outputs": [],
   "source": [
    "def walls(x):\n",
    "    return np.logical_or(np.isclose(x[1], 0), np.isclose(x[1], 1))"
   ]
  },
  {
   "cell_type": "code",
   "execution_count": null,
   "metadata": {},
   "outputs": [],
   "source": [
    "wall_dofs = locate_dofs_geometrical(V, walls)\n",
    "u_noslip = np.array((0,) * mesh.geometry.dim, dtype=PETSc.ScalarType)\n",
    "bc_noslip = dirichletbc(u_noslip, wall_dofs, V)"
   ]
  },
  {
   "cell_type": "markdown",
   "metadata": {},
   "source": [
    "Second, we will set $p=8$ at the inflow ($x=0$)"
   ]
  },
  {
   "cell_type": "code",
   "execution_count": null,
   "metadata": {},
   "outputs": [],
   "source": [
    "def inflow(x):\n",
    "    return np.isclose(x[0], 0)"
   ]
  },
  {
   "cell_type": "code",
   "execution_count": null,
   "metadata": {},
   "outputs": [],
   "source": [
    "inflow_dofs = locate_dofs_geometrical(Q, inflow)\n",
    "bc_inflow = dirichletbc(PETSc.ScalarType(8), inflow_dofs, Q)"
   ]
  },
  {
   "cell_type": "markdown",
   "metadata": {},
   "source": [
    "And finally, $p=0$ at the outflow ($x=1$). This will result in a pressure gradient that will accelerate the flow from the initial state with zero velocity. At the end, we collect the boundary conditions for the velocity and pressure in Python lists so we can easily access them in the following computation."
   ]
  },
  {
   "cell_type": "code",
   "execution_count": null,
   "metadata": {},
   "outputs": [],
   "source": [
    "def outflow(x):\n",
    "    return np.isclose(x[0], 1)"
   ]
  },
  {
   "cell_type": "code",
   "execution_count": null,
   "metadata": {},
   "outputs": [],
   "source": [
    "outflow_dofs = locate_dofs_geometrical(Q, outflow)\n",
    "bc_outflow = dirichletbc(PETSc.ScalarType(0), outflow_dofs, Q)\n",
    "bcu = [bc_noslip]\n",
    "bcp = [bc_inflow, bc_outflow]"
   ]
  },
  {
   "cell_type": "markdown",
   "metadata": {},
   "source": [
    "We now move on to the  definition of the three variational forms, one for each step in the IPCS scheme. Let us look at the definition of the first variational problem and the relevant parameters."
   ]
  },
  {
   "cell_type": "code",
   "execution_count": null,
   "metadata": {},
   "outputs": [],
   "source": [
    "u_n = Function(V)\n",
    "u_n.name = \"u_n\"\n",
    "U = 0.5 * (u_n + u)\n",
    "n = FacetNormal(mesh)\n",
    "f = Constant(mesh, PETSc.ScalarType((0, 0)))\n",
    "k = Constant(mesh, PETSc.ScalarType(dt))\n",
    "mu = Constant(mesh, PETSc.ScalarType(1))\n",
    "rho = Constant(mesh, PETSc.ScalarType(1))"
   ]
  },
  {
   "cell_type": "markdown",
   "metadata": {},
   "source": [
    "```{admonition} Usage of \"dolfinx.Constant\"\n",
    "Note that we have wrapped several parameters as constants. This is to reduce the compilation-time of the variational formulations. By wrapping them as a constant, we can change the variable\n",
    "```\n",
    "The next step is to set up the variational form of the first step.\n",
    "As the variational problem contains a mix of known and unknown quantities, we will use the following naming convention: `u` (mathematically $u^{n+1}$) is known as a trial function in the variational form. `u_` is the most recently computed approximation ($u^{n+1}$ available as a `Function` object), `u_n` is $u^n$, and the same convention goes for `p,p_` ($p^{n+1}$) and `p_n` (p^n)."
   ]
  },
  {
   "cell_type": "code",
   "execution_count": null,
   "metadata": {},
   "outputs": [],
   "source": [
    "# Define strain-rate tensor\n",
    "def epsilon(u):\n",
    "    return sym(nabla_grad(u))\n",
    "\n",
    "# Define stress tensor\n",
    "\n",
    "\n",
    "def sigma(u, p):\n",
    "    return 2 * mu * epsilon(u) - p * Identity(len(u))\n",
    "\n",
    "\n",
    "# Define the variational problem for the first step\n",
    "p_n = Function(Q)\n",
    "p_n.name = \"p_n\"\n",
    "F1 = rho * dot((u - u_n) / k, v) * dx\n",
    "F1 += rho * dot(dot(u_n, nabla_grad(u_n)), v) * dx\n",
    "F1 += inner(sigma(U, p_n), epsilon(v)) * dx\n",
    "F1 += dot(p_n * n, v) * ds - dot(mu * nabla_grad(U) * n, v) * ds\n",
    "F1 -= dot(f, v) * dx\n",
    "a1 = form(lhs(F1))\n",
    "L1 = form(rhs(F1))"
   ]
  },
  {
   "cell_type": "markdown",
   "metadata": {},
   "source": [
    "Note that we have used the `ufl`-functions `lhs` and `rhs` to sort out the bilinear form $a(u,v)$ and linear form $L(v)$. This is particulary convenient in longer and more complicated variational forms. With our particular discretization $a(u,v)$ `a1` is not time dependent, and only has to be assembled once, while the right hand side is dependent on the solution from the previous time step (`u_n`). Thus, we do as for the [](./heat_code), and create the matrix outside the time-loop."
   ]
  },
  {
   "cell_type": "code",
   "execution_count": null,
   "metadata": {},
   "outputs": [],
   "source": [
    "A1 = assemble_matrix(a1, bcs=bcu)\n",
    "A1.assemble()\n",
    "b1 = create_vector(L1)"
   ]
  },
  {
   "cell_type": "markdown",
   "metadata": {},
   "source": [
    "We now set up similar variational formulations and structures for the second and third step"
   ]
  },
  {
   "cell_type": "code",
   "execution_count": null,
   "metadata": {},
   "outputs": [],
   "source": [
    "# Define variational problem for step 2\n",
    "u_ = Function(V)\n",
    "a2 = form(dot(nabla_grad(p), nabla_grad(q)) * dx)\n",
    "L2 = form(dot(nabla_grad(p_n), nabla_grad(q)) * dx - (rho / k) * div(u_) * q * dx)\n",
    "A2 = assemble_matrix(a2, bcs=bcp)\n",
    "A2.assemble()\n",
    "b2 = create_vector(L2)\n",
    "\n",
    "# Define variational problem for step 3\n",
    "p_ = Function(Q)\n",
    "a3 = form(rho * dot(u, v) * dx)\n",
    "L3 = form(rho * dot(u_, v) * dx - k * dot(nabla_grad(p_ - p_n), v) * dx)\n",
    "A3 = assemble_matrix(a3)\n",
    "A3.assemble()\n",
    "b3 = create_vector(L3)"
   ]
  },
  {
   "cell_type": "markdown",
   "metadata": {},
   "source": [
    "As we have create all the linear structures for the problem, we can now create a solver for each of them using PETSc. We can therefore customize the solution strategy for each step. For the tentative velocity step and pressure correction step, we will use the Stabilized version of BiConjugate Gradient to solve the linear system, and using algebraic multigrid for preconditioning. For the last step, the velocity update, we use a conjugate gradient method with successive over relaxation, Gauss Seidel (SOR) preconditioning."
   ]
  },
  {
   "cell_type": "code",
   "execution_count": null,
   "metadata": {},
   "outputs": [],
   "source": [
    "# Solver for step 1\n",
    "solver1 = PETSc.KSP().create(mesh.comm)\n",
    "solver1.setOperators(A1)\n",
    "solver1.setType(PETSc.KSP.Type.BCGS)\n",
    "pc1 = solver1.getPC()\n",
    "pc1.setType(PETSc.PC.Type.HYPRE)\n",
    "pc1.setHYPREType(\"boomeramg\")\n",
    "\n",
    "# Solver for step 2\n",
    "solver2 = PETSc.KSP().create(mesh.comm)\n",
    "solver2.setOperators(A2)\n",
    "solver2.setType(PETSc.KSP.Type.BCGS)\n",
    "pc2 = solver2.getPC()\n",
    "pc2.setType(PETSc.PC.Type.HYPRE)\n",
    "pc2.setHYPREType(\"boomeramg\")\n",
    "\n",
    "# Solver for step 3\n",
    "solver3 = PETSc.KSP().create(mesh.comm)\n",
    "solver3.setOperators(A3)\n",
    "solver3.setType(PETSc.KSP.Type.CG)\n",
    "pc3 = solver3.getPC()\n",
    "pc3.setType(PETSc.PC.Type.SOR)"
   ]
  },
  {
   "cell_type": "markdown",
   "metadata": {},
   "source": [
    "We prepare output files for the velocity and pressure data, and write the mesh and initial conditions to file"
   ]
  },
  {
   "cell_type": "code",
   "execution_count": null,
   "metadata": {},
   "outputs": [],
   "source": [
    "from pathlib import Path\n",
    "folder = Path(\"results\")\n",
    "folder.mkdir(exist_ok=True, parents=True)\n",
    "vtx_u = VTXWriter(mesh.comm, folder / \"poiseuille_u.bp\", u_n, engine=\"BP4\")\n",
    "vtx_p = VTXWriter(mesh.comm, folder / \"poiseuille_p.bp\", p_n, engine=\"BP4\")\n",
    "vtx_u.write(t)\n",
    "vtx_p.write(t)"
   ]
  },
  {
   "cell_type": "markdown",
   "metadata": {},
   "source": [
    "We also interpolate the analytical solution into our function-space and create a variational formulation for the $L^2$-error.\n"
   ]
  },
  {
   "cell_type": "code",
   "execution_count": null,
   "metadata": {},
   "outputs": [],
   "source": [
    "\n",
    "\n",
    "def u_exact(x):\n",
    "    values = np.zeros((2, x.shape[1]), dtype=PETSc.ScalarType)\n",
    "    values[0] = 4 * x[1] * (1.0 - x[1])\n",
    "    return values\n",
    "\n",
    "\n",
    "u_ex = Function(V)\n",
    "u_ex.interpolate(u_exact)\n",
    "\n",
    "L2_error = form(dot(u_ - u_ex, u_ - u_ex) * dx)"
   ]
  },
  {
   "cell_type": "markdown",
   "metadata": {},
   "source": [
    "The next step is to create the loop over time. Note that we for all three steps only have to assemble the right hand side and apply the boundary condition using lifting."
   ]
  },
  {
   "cell_type": "code",
   "execution_count": null,
   "metadata": {
    "tags": []
   },
   "outputs": [],
   "source": [
    "for i in range(num_steps):\n",
    "    # Update current time step\n",
    "    t += dt\n",
    "\n",
    "    # Step 1: Tentative veolcity step\n",
    "    with b1.localForm() as loc_1:\n",
    "        loc_1.set(0)\n",
    "    assemble_vector(b1, L1)\n",
    "    apply_lifting(b1, [a1], [bcu])\n",
    "    b1.ghostUpdate(addv=PETSc.InsertMode.ADD_VALUES, mode=PETSc.ScatterMode.REVERSE)\n",
    "    set_bc(b1, bcu)\n",
    "    solver1.solve(b1, u_.x.petsc_vec)\n",
    "    u_.x.scatter_forward()\n",
    "\n",
    "    # Step 2: Pressure corrrection step\n",
    "    with b2.localForm() as loc_2:\n",
    "        loc_2.set(0)\n",
    "    assemble_vector(b2, L2)\n",
    "    apply_lifting(b2, [a2], [bcp])\n",
    "    b2.ghostUpdate(addv=PETSc.InsertMode.ADD_VALUES, mode=PETSc.ScatterMode.REVERSE)\n",
    "    set_bc(b2, bcp)\n",
    "    solver2.solve(b2, p_.x.petsc_vec)\n",
    "    p_.x.scatter_forward()\n",
    "\n",
    "    # Step 3: Velocity correction step\n",
    "    with b3.localForm() as loc_3:\n",
    "        loc_3.set(0)\n",
    "    assemble_vector(b3, L3)\n",
    "    b3.ghostUpdate(addv=PETSc.InsertMode.ADD_VALUES, mode=PETSc.ScatterMode.REVERSE)\n",
    "    solver3.solve(b3, u_.x.petsc_vec)\n",
    "    u_.x.scatter_forward()\n",
    "    # Update variable with solution form this time step\n",
    "    u_n.x.array[:] = u_.x.array[:]\n",
    "    p_n.x.array[:] = p_.x.array[:]\n",
    "\n",
    "    # Write solutions to file\n",
    "    vtx_u.write(t)\n",
    "    vtx_p.write(t)\n",
    "\n",
    "    # Compute error at current time-step\n",
    "    error_L2 = np.sqrt(mesh.comm.allreduce(assemble_scalar(L2_error), op=MPI.SUM))\n",
    "    error_max = mesh.comm.allreduce(np.max(u_.x.petsc_vec.array - u_ex.x.petsc_vec.array), op=MPI.MAX)\n",
    "    # Print error only every 20th step and at the last step\n",
    "    if (i % 20 == 0) or (i == num_steps - 1):\n",
    "        print(f\"Time {t:.2f}, L2-error {error_L2:.2e}, Max error {error_max:.2e}\")\n",
    "# Close xmdf file\n",
    "vtx_u.close()\n",
    "vtx_p.close()\n",
    "b1.destroy()\n",
    "b2.destroy()\n",
    "b3.destroy()\n",
    "solver1.destroy()\n",
    "solver2.destroy()\n",
    "solver3.destroy()"
   ]
  },
  {
   "cell_type": "markdown",
   "metadata": {},
   "source": [
    "## Verification\n",
    "As for the previous problems we compute the error at each degree of freedom and the $L^2(\\Omega)$-error. We start with the  initial condition $u=(0,0)$. We have not specified the initial condition explicitly, and FEniCSx will initialize all `Function`s including `u_n` and `u_` to zero. Since the exact solution is quadratic, we expect to reach machine precision within finite time. For our implementation, we observe that the error quickly approaches zero, and is of order $10^{-6}$ at $T=10$\n",
    "\n",
    "## Visualization of vectors\n",
    "We have already looked at how to plot higher order functions and vector functions. In this section we will look at how to visualize vector functions with glyphs, instead of warping the mesh."
   ]
  },
  {
   "cell_type": "code",
   "execution_count": null,
   "metadata": {},
   "outputs": [],
   "source": [
    "topology, cell_types, geometry = vtk_mesh(V)\n",
    "values = np.zeros((geometry.shape[0], 3), dtype=np.float64)\n",
    "values[:, :len(u_n)] = u_n.x.array.real.reshape((geometry.shape[0], len(u_n)))\n",
    "\n",
    "# Create a point cloud of glyphs\n",
    "function_grid = pyvista.UnstructuredGrid(topology, cell_types, geometry)\n",
    "function_grid[\"u\"] = values\n",
    "glyphs = function_grid.glyph(orient=\"u\", factor=0.2)\n",
    "\n",
    "# Create a pyvista-grid for the mesh\n",
    "mesh.topology.create_connectivity(mesh.topology.dim, mesh.topology.dim)\n",
    "grid = pyvista.UnstructuredGrid(*vtk_mesh(mesh, mesh.topology.dim))\n",
    "\n",
    "# Create plotter\n",
    "plotter = pyvista.Plotter()\n",
    "plotter.add_mesh(grid, style=\"wireframe\", color=\"k\")\n",
    "plotter.add_mesh(glyphs)\n",
    "plotter.view_xy()\n",
    "if not pyvista.OFF_SCREEN:\n",
    "    plotter.show()\n",
    "else:\n",
    "    fig_as_array = plotter.screenshot(\"glyphs.png\")"
   ]
  },
  {
   "cell_type": "markdown",
   "metadata": {},
   "source": [
    "## References\n",
    "```{bibliography}\n",
    ":filter: docname in docnames\n",
    "```"
   ]
  }
 ],
 "metadata": {
  "jupytext": {
   "formats": "ipynb,py:light"
  },
  "kernelspec": {
   "display_name": "Python 3 (ipykernel)",
   "language": "python",
   "name": "python3"
  },
  "language_info": {
   "codemirror_mode": {
    "name": "ipython",
    "version": 3
   },
   "file_extension": ".py",
   "mimetype": "text/x-python",
   "name": "python",
   "nbconvert_exporter": "python",
   "pygments_lexer": "ipython3",
   "version": "3.10.12"
  }
 },
 "nbformat": 4,
 "nbformat_minor": 4
}
