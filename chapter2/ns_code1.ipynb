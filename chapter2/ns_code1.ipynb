{
 "cells": [
  {
   "cell_type": "markdown",
   "metadata": {},
   "source": [
    "# Test problem 1: Channel flow (Poiseuille flow)\n",
    "\n",
    "Authors: Anders Logg and Hans Petter Langtangen\n",
    "\n",
    "Adapted to DOLFINx by: Jørgen S. Dokken\n",
    "\n",
    "In this section, you will learn how to:\n",
    "- Solve the Navier-Stokes problem using a splitting scheme\n",
    "- Visualize functions from higher order Lagrangian spaces\n",
    "\n",
    "In this section, we will compute the flow between two infinite plates, so-called channel or Poiseuille flow.\n",
    "As we shall see, this problem has an analytical solution.\n",
    "Let $H$ be the distance between the plates and  $L$ the length of the channel. There are no body forces.\n",
    "\n",
    "We may scale the problem first to get rid of seemingly independent physical parameters.\n",
    "The physics of this problem are governed by viscous effects only, in the direction perpendicular to the flow,\n",
    "so a time scale should be based on diffusion across the channel: $t_v=H^2/\\nu$.\n",
    "We let $U$, some characteristic inflow velocity, be the velocity scale and $H$ the spatial scale.\n",
    "The pressure scale is taken as the characteristic shear stress, $\\mu U/H$, as this is a primary example of shear flow.\n",
    "Inserting $\\bar{x}=x/H, \\bar{y}=y/H, \\bar{z}=z/H, \\bar{u}=u/U, \\bar{p}=Hp/{\\mu U}$, and $\\bar{t}=H^2/\\nu$\n",
    "in the equations results in the scaled Navier-Stokes equations (dropping the bars after scaling)\n",
    "```{math}\n",
    ":label: ns-scaled\n",
    "\\frac{\\partial u}{\\partial t}+ \\mathrm{Re} u \\cdot \\nabla u &= -\\nabla p + \\nabla^2 u,\\\\\n",
    "\\nabla \\cdot u &=0.\n",
    "```\n",
    "A detailed derivation for scaling of the Navier-Stokes equation for a large variety of physical situations\n",
    "can be found in {cite}`Langtangen2016scaling` (Chapter 4.2) by Hans Petter Langtangen and Geir K. Pedersen.\n",
    "\n",
    "Here, $\\mathrm{Re}=\\rho UH/\\mu$ is the Reynolds number.\n",
    "Because of the time and pressure scales, which are different from convection dominated fluid flow,\n",
    "the Reynolds number is associated with the convective term and not the viscosity term.\n",
    "\n",
    "The exact solution is derived by assuming $u=(u_x(x,y,z),0,0)$ with the $x$-axis pointing along the channel.\n",
    "Since $\\nabla \\cdot u = 0$, $u$ cannot be dependent on $x$.\n",
    "\n",
    "The physics of channel flow is also two-dimensional so we can omit the $z$-coordinate\n",
    "(more precisely: $\\partial/\\partial z = 0$).\n",
    "Inserting $u=(u_x, 0, 0)$ in the (scaled) governing equations gives $u_x''(y)=\\frac{\\partial p}{\\partial x}$.\n",
    "Differentiating this equation with respect to $x$ shows that\n",
    "$\\frac{\\partial^2p}{\\partial x^2}=0$ so $\\partial p/\\partial x$ is a constant here called $-\\beta$.\n",
    "This is the driving force of the flow and can be specified as a known parameter in the problem.\n",
    "Integrating $u_x''(x,y)=-\\beta$ over the width of the channel, $[0,1]$,\n",
    "and requiring $u=(0,0,0)$ at the channel walls, results in $u_x=\\frac{1}{2}\\beta y(1-y)$.\n",
    "The characteristic inlet velocity $U$ can be taken as the maximum inflow at $y=0.5$, implying $\\beta=8$.\n",
    "The length of the  channel, $L/H$ in the scaled model, has no impact on the result,\n",
    "so for simplicity we just compute on the unit square.\n",
    "Mathematically, the pressure must be prescribed at a point, but since $p$ does not depend on $y$,\n",
    "we can set $p$ to a known value, e.g. zero, along the outlet boundary $x=1$.\n",
    "The result is $p(x)=8(1-x)$ and $u_x=4y(1-y)$.\n",
    "\n",
    "The boundary conditions can be set as $p=8$ at $x=0$, $p=0$ at $x=1$ and $u=(0,0,0)$ on the walls $y=0,1$.\n",
    "This defines the pressure drop and should result in unit maximum velocity at the inlet and outlet and\n",
    " a parabolic velocity profile without no further specifications.\n",
    "Note that it is only meaningful to solve the Navier-Stokes equations in 2D or 3D geometries,\n",
    "although the underlying mathematical problem collapses to two $1D$ problems, one for $u_x(y)$ and one for $p(x)$.\n",
    "\n",
    "The scaled model is not so easy to simulate using a standard Navier-Stokes solver with dimensions.\n",
    "However, one can argue that the convection term is zero, so the Re coefficient in front of this term in\n",
    "the scaled PDEs is not important and can be set to unity.\n",
    "In that case, setting $\\rho=\\mu=1$ in the original Navier-Stokes equations resembles the scaled model.\n",
    "\n",
    "For a specific engineering problem one wants to simulate a specific fluid and set corresponding parameters.\n",
    "A general solver is therefore most naturally implemented with dimensions and using the original physical parameters.\n",
    "However, scaling may greatly simplify numerical simulations.\n",
    "First of all, it shows that all fluids behave in the  same way;\n",
    "it does not matter whether we have oil, gas, or water flowing between two plates.\n",
    "Secondly, it does not matter how fast the flow is, up to some critical value of the Reynolds number where the\n",
    "flow becomes unstable and transitions to a complicated turbulent flow of totally different nature.\n",
    "This means that one simulation is enough to cover all types of channel flow!\n",
    "In other applications, scaling shows that it might be necessary to just set the fraction of some parameters\n",
    "(dimensionless numbers) rather than the parameters themselves.\n",
    "This simplifies exploring the input parameter space which is often the purpose of simulation.\n",
    "Frequently, the scaled problem is run by setting some of the input parameters with dimension\n",
    "to fixed values (often unity)."
   ]
  },
  {
   "cell_type": "markdown",
   "metadata": {},
   "source": [
    "## Implementation\n",
    "\n",
    "Author: Jørgen S. Dokken\n",
    "\n",
    "As in the previous example, we load the DOLFINx module, along with the `mpi4py` module,\n",
    "and create the unit square mesh and define the run-time and temporal discretization"
   ]
  },
  {
   "cell_type": "code",
   "execution_count": null,
   "metadata": {
    "tags": []
   },
   "outputs": [],
   "source": [
    "from mpi4py import MPI\n",
    "from petsc4py import PETSc\n",
    "import numpy as np\n",
    "import pyvista\n",
    "\n",
    "from dolfinx.fem import (\n",
    "    Constant,\n",
    "    Function,\n",
    "    functionspace,\n",
    "    assemble_scalar,\n",
    "    dirichletbc,\n",
    "    form,\n",
    "    locate_dofs_geometrical,\n",
    ")\n",
    "from dolfinx.fem.petsc import (\n",
    "    assemble_matrix,\n",
    "    assemble_vector,\n",
    "    apply_lifting,\n",
    "    create_vector,\n",
    "    set_bc,\n",
    ")\n",
    "from dolfinx.io import VTXWriter\n",
    "from dolfinx.mesh import create_unit_square\n",
    "from dolfinx.plot import vtk_mesh\n",
    "from basix.ufl import element\n",
    "from ufl import (\n",
    "    FacetNormal,\n",
    "    Identity,\n",
    "    TestFunction,\n",
    "    TrialFunction,\n",
    "    div,\n",
    "    dot,\n",
    "    ds,\n",
    "    dx,\n",
    "    inner,\n",
    "    lhs,\n",
    "    nabla_grad,\n",
    "    rhs,\n",
    "    sym,\n",
    ")\n",
    "\n",
    "mesh = create_unit_square(MPI.COMM_WORLD, 10, 10)\n",
    "t = 0.0\n",
    "T = 10.0\n",
    "num_steps = 500\n",
    "dt = T / num_steps"
   ]
  },
  {
   "cell_type": "markdown",
   "metadata": {},
   "source": [
    "As opposed to the previous demos, we will create our two function spaces using the `ufl` element definitions as input"
   ]
  },
  {
   "cell_type": "code",
   "execution_count": null,
   "metadata": {
    "tags": []
   },
   "outputs": [],
   "source": [
    "v_cg2 = element(\"Lagrange\", mesh.basix_cell(), 2, shape=(mesh.geometry.dim,))\n",
    "s_cg1 = element(\"Lagrange\", mesh.basix_cell(), 1)\n",
    "V = functionspace(mesh, v_cg2)\n",
    "Q = functionspace(mesh, s_cg1)"
   ]
  },
  {
   "cell_type": "markdown",
   "metadata": {},
   "source": [
    "The first space `V` is a vector valued function space for the velocity,\n",
    "while `Q` is a scalar valued function space for pressure.\n",
    "We use piecewise quadratic elements for the velocity and piecewise linear elements for the pressure.\n",
    "One can easily create vector-valued function spaces with other dimensions by replacing\n",
    "`shape=(mesh.geometry.dim, )` with something else, like\n",
    "```\n",
    "v_cg  basix.ufl.element(\"Lagrange\", mesh.basix_cell(), 2, shape=(10,))\n",
    "```\n",
    "or\n",
    "```\n",
    "tensor_element = basix.ufl.element(\"Lagrange\", mesh.basix_cell(), 2, shape=(3, 3))\n",
    "```\n",
    "or\n",
    "```\n",
    "tensor_element = basix.ufl.element(\"Lagrange\", mesh.basix_cell(), 2, shape=(3, 2, 4))\n",
    "```\n",
    "\n",
    "\n",
    "```{admonition} Stable finite element spaces for the Navier-Stokes equation\n",
    "It is well-known that certain finite element spaces are not *stable* for the Navier-Stokes equations,\n",
    "or even for the simpler Stokes equation.\n",
    "The prime example of an unstable pair of finite element spaces is to use first order degree continuous\n",
    "piecewise polynomials for both the velocity and the pressure.\n",
    "Using an unstable pair of spaces typically results in a solution with *spurious* (unwanted, non-physical)\n",
    "oscillations in the pressure solution.\n",
    "The simple remedy is to use continuous piecewise quadratic elements for the velocity and continuous\n",
    "piecewise linear elements for the pressure.\n",
    "Together, these elements form the so-called *Taylor-Hood* element.\n",
    "Spurious oscillations may occur also for splitting methods if an unstable element pair is used.\n",
    "\n",
    "Since we have two different function spaces, we need to create two sets of trial and test functions:"
   ]
  },
  {
   "cell_type": "code",
   "execution_count": null,
   "metadata": {
    "lines_to_next_cell": 2
   },
   "outputs": [],
   "source": [
    "u = TrialFunction(V)\n",
    "v = TestFunction(V)\n",
    "p = TrialFunction(Q)\n",
    "q = TestFunction(Q)"
   ]
  },
  {
   "cell_type": "markdown",
   "metadata": {
    "lines_to_next_cell": 2
   },
   "source": [
    "As we have seen in [Linear elasticity problem](./linearelasticity_code) we can use Python-functions\n",
    "to create the different Dirichlet conditions.\n",
    "For this problem, we have three Dirichlet condition:\n",
    "First, we will set $u=0$ at the walls of the channel, that is at $y=0$ and $y=1$.\n",
    "In this case, we will use `dolfinx.fem.locate_dofs_geometrical`"
   ]
  },
  {
   "cell_type": "code",
   "execution_count": null,
   "metadata": {},
   "outputs": [],
   "source": [
    "def walls(x):\n",
    "    return np.logical_or(np.isclose(x[1], 0), np.isclose(x[1], 1))\n",
    "\n",
    "\n",
    "wall_dofs = locate_dofs_geometrical(V, walls)\n",
    "u_noslip = np.array((0,) * mesh.geometry.dim, dtype=PETSc.ScalarType)\n",
    "bc_noslip = dirichletbc(u_noslip, wall_dofs, V)"
   ]
  },
  {
   "cell_type": "markdown",
   "metadata": {
    "lines_to_next_cell": 2
   },
   "source": [
    "Second, we will set $p=8$ at the inflow ($x=0$)"
   ]
  },
  {
   "cell_type": "code",
   "execution_count": null,
   "metadata": {},
   "outputs": [],
   "source": [
    "def inflow(x):\n",
    "    return np.isclose(x[0], 0)\n",
    "\n",
    "\n",
    "inflow_dofs = locate_dofs_geometrical(Q, inflow)\n",
    "bc_inflow = dirichletbc(PETSc.ScalarType(8), inflow_dofs, Q)"
   ]
  },
  {
   "cell_type": "markdown",
   "id": "11",
   "metadata": {
    "lines_to_next_cell": 2
   },
   "source": [
    "And finally, $p=0$ at the outflow ($x=1$).\n",
    "This will result in a pressure gradient that will accelerate the flow from the initial state with zero velocity.\n",
    "At the end, we collect the boundary conditions for the velocity and pressure in Python lists so we\n",
    "can easily access them in the following computation."
   ]
  },
  {
   "cell_type": "code",
   "execution_count": null,
   "id": "12",
   "metadata": {},
   "outputs": [],
   "source": [
    "def outflow(x):\n",
    "    return np.isclose(x[0], 1)\n",
    "\n",
    "\n",
    "outflow_dofs = locate_dofs_geometrical(Q, outflow)\n",
    "bc_outflow = dirichletbc(PETSc.ScalarType(0), outflow_dofs, Q)\n",
    "bcu = [bc_noslip]\n",
    "bcp = [bc_inflow, bc_outflow]"
   ]
  },
  {
   "cell_type": "markdown",
   "id": "13",
   "metadata": {},
   "source": [
    "We now move on to the  definition of the three variational forms, one for each step in the IPCS scheme.\n",
    "Let us look at the definition of the first variational problem and the relevant parameters."
   ]
  },
  {
   "cell_type": "code",
   "execution_count": null,
   "id": "14",
   "metadata": {
    "lines_to_next_cell": 2
   },
   "outputs": [],
   "source": [
    "u_n = Function(V)\n",
    "u_n.name = \"u_n\"\n",
    "U = 0.5 * (u_n + u)\n",
    "n = FacetNormal(mesh)\n",
    "f = Constant(mesh, PETSc.ScalarType((0, 0)))\n",
    "k = Constant(mesh, PETSc.ScalarType(dt))\n",
    "mu = Constant(mesh, PETSc.ScalarType(1))\n",
    "rho = Constant(mesh, PETSc.ScalarType(1))"
   ]
  },
  {
   "cell_type": "markdown",
   "id": "15",
   "metadata": {
    "lines_to_next_cell": 2
   },
   "source": [
    "```{admonition} Usage of \"dolfinx.fem.Constant\"\n",
    "Note that we have wrapped several parameters as constants.\n",
    "This is to reduce the compilation-time of the variational formulations.\n",
    "By wrapping them as a constant, we can change the variable\n",
    "```\n",
    "The next step is to set up the variational form of the first step.\n",
    "As the variational problem contains a mix of known and unknown quantities,\n",
    "we will use the following naming convention: `u` (mathematically $u^{n+1}$) is known as a trial function\n",
    "in the variational form. `u_` is the most recently computed approximation\n",
    "($u^{n+1}$ available as a `Function` object), `u_n` is $u^n$, and the same convention\n",
    "goes for `p,p_` ($p^{n+1}$) and `p_n` (p^n)."
   ]
  },
  {
   "cell_type": "code",
   "execution_count": null,
   "id": "16",
   "metadata": {},
   "outputs": [],
   "source": [
    "def epsilon(u):\n",
    "    \"\"\"Strain-rate tensor.\"\"\"\n",
    "    return sym(nabla_grad(u))\n",
    "\n",
    "\n",
    "def sigma(u, p):\n",
    "    \"\"\"Stress tensor.\"\"\"\n",
    "    return 2 * mu * epsilon(u) - p * Identity(len(u))"
   ]
  },
  {
   "cell_type": "markdown",
   "id": "17",
   "metadata": {},
   "source": [
    "Define the variational problem for the first step"
   ]
  },
  {
   "cell_type": "code",
   "execution_count": null,
   "metadata": {},
   "outputs": [],
   "source": [
    "p_n = Function(Q)\n",
    "p_n.name = \"p_n\"\n",
    "F1 = rho * dot((u - u_n) / k, v) * dx\n",
    "F1 += rho * dot(dot(u_n, nabla_grad(u_n)), v) * dx\n",
    "F1 += inner(sigma(U, p_n), epsilon(v)) * dx\n",
    "F1 += dot(p_n * n, v) * ds - dot(mu * nabla_grad(U) * n, v) * ds\n",
    "F1 -= dot(f, v) * dx\n",
    "a1 = form(lhs(F1))\n",
    "L1 = form(rhs(F1))"
   ]
  },
  {
   "cell_type": "markdown",
   "metadata": {},
   "source": [
    "Note that we have used the `ufl`-functions `lhs` and `rhs` to sort out the bilinear form\n",
    "$a(u,v)$ and linear form $L(v)$.\n",
    "This is particulary convenient in longer and more complicated variational forms.\n",
    "With our particular discretization $a(u,v)$ `a1` is not time dependent,\n",
    "and only has to be assembled once, while the right hand side is dependent on the solution\n",
    "from the previous time step (`u_n`).\n",
    "Thus, we do as for the [](./heat_code), and create the matrix outside the time-loop."
   ]
  },
  {
   "cell_type": "code",
   "execution_count": null,
   "metadata": {},
   "outputs": [],
   "source": [
    "A1 = assemble_matrix(a1, bcs=bcu)\n",
    "A1.assemble()\n",
    "b1 = create_vector(L1)"
   ]
  },
  {
   "cell_type": "markdown",
   "metadata": {},
   "source": [
    "We now set up similar variational formulations and structures for the second and third step"
   ]
  },
  {
   "cell_type": "code",
   "execution_count": null,
   "metadata": {},
   "outputs": [],
   "source": [
    "# Define variational problem for step 2\n",
    "u_ = Function(V)\n",
    "a2 = form(dot(nabla_grad(p), nabla_grad(q)) * dx)\n",
    "L2 = form(dot(nabla_grad(p_n), nabla_grad(q)) * dx - (rho / k) * div(u_) * q * dx)\n",
    "A2 = assemble_matrix(a2, bcs=bcp)\n",
    "A2.assemble()\n",
    "b2 = create_vector(L2)\n",
    "\n",
    "# Define variational problem for step 3\n",
    "p_ = Function(Q)\n",
    "a3 = form(rho * dot(u, v) * dx)\n",
    "L3 = form(rho * dot(u_, v) * dx - k * dot(nabla_grad(p_ - p_n), v) * dx)\n",
    "A3 = assemble_matrix(a3)\n",
    "A3.assemble()\n",
    "b3 = create_vector(L3)"
   ]
  },
  {
   "cell_type": "markdown",
   "metadata": {},
   "source": [
    "As we have create all the linear structures for the problem, we can now create a solver for each of them using PETSc.\n",
    "We can therefore customize the solution strategy for each step.\n",
    "For the tentative velocity step and pressure correction step,\n",
    "we will use the Stabilized version of BiConjugate Gradient to solve the linear system,\n",
    "and using algebraic multigrid for preconditioning.\n",
    "For the last step, the velocity update, we use a conjugate gradient method with successive over relaxation,\n",
    "Gauss Seidel (SOR) preconditioning."
   ]
  },
  {
   "cell_type": "code",
   "execution_count": null,
   "metadata": {},
   "outputs": [],
   "source": [
    "# Solver for step 1\n",
    "solver1 = PETSc.KSP().create(mesh.comm)\n",
    "solver1.setOperators(A1)\n",
    "solver1.setType(PETSc.KSP.Type.BCGS)\n",
    "pc1 = solver1.getPC()\n",
    "pc1.setType(PETSc.PC.Type.HYPRE)\n",
    "pc1.setHYPREType(\"boomeramg\")\n",
    "\n",
    "# Solver for step 2\n",
    "solver2 = PETSc.KSP().create(mesh.comm)\n",
    "solver2.setOperators(A2)\n",
    "solver2.setType(PETSc.KSP.Type.BCGS)\n",
    "pc2 = solver2.getPC()\n",
    "pc2.setType(PETSc.PC.Type.HYPRE)\n",
    "pc2.setHYPREType(\"boomeramg\")\n",
    "\n",
    "# Solver for step 3\n",
    "solver3 = PETSc.KSP().create(mesh.comm)\n",
    "solver3.setOperators(A3)\n",
    "solver3.setType(PETSc.KSP.Type.CG)\n",
    "pc3 = solver3.getPC()\n",
    "pc3.setType(PETSc.PC.Type.SOR)"
   ]
  },
  {
   "cell_type": "markdown",
   "metadata": {},
   "source": [
    "We prepare output files for the velocity and pressure data, and write the mesh and initial conditions to file"
   ]
  },
  {
   "cell_type": "code",
   "execution_count": null,
   "id": "26",
   "metadata": {},
   "outputs": [],
   "source": [
    "from pathlib import Path\n",
    "\n",
    "folder = Path(\"results\")\n",
    "folder.mkdir(exist_ok=True, parents=True)\n",
    "vtx_u = VTXWriter(mesh.comm, folder / \"poiseuille_u.bp\", u_n, engine=\"BP4\")\n",
    "vtx_p = VTXWriter(mesh.comm, folder / \"poiseuille_p.bp\", p_n, engine=\"BP4\")\n",
    "vtx_u.write(t)\n",
    "vtx_p.write(t)"
   ]
  },
  {
   "cell_type": "markdown",
   "metadata": {},
   "source": [
    "We also interpolate the analytical solution into our function-space and create a variational formulation for the $L^2$-error.\n"
   ]
  },
  {
   "cell_type": "code",
   "execution_count": null,
   "metadata": {},
   "outputs": [],
   "source": [
    "\n",
    "\n",
    "def u_exact(x):\n",
    "    values = np.zeros((2, x.shape[1]), dtype=PETSc.ScalarType)\n",
    "    values[0] = 4 * x[1] * (1.0 - x[1])\n",
    "    return values\n",
    "\n",
    "\n",
    "u_ex = Function(V)\n",
    "u_ex.interpolate(u_exact)\n",
    "\n",
    "L2_error = form(dot(u_ - u_ex, u_ - u_ex) * dx)"
   ]
  },
  {
   "cell_type": "markdown",
   "metadata": {},
   "source": [
    "The next step is to create the loop over time. Note that we for all three steps only have to assemble the right hand side and apply the boundary condition using lifting."
   ]
  },
  {
   "cell_type": "code",
   "execution_count": null,
   "metadata": {
    "tags": []
   },
   "outputs": [],
   "source": [
    "for i in range(num_steps):\n",
    "    # Update current time step\n",
    "    t += dt\n",
    "\n",
    "    # Step 1: Tentative veolcity step\n",
    "    with b1.localForm() as loc_1:\n",
    "        loc_1.set(0)\n",
    "    assemble_vector(b1, L1)\n",
    "    apply_lifting(b1, [a1], [bcu])\n",
    "    b1.ghostUpdate(addv=PETSc.InsertMode.ADD_VALUES, mode=PETSc.ScatterMode.REVERSE)\n",
    "    set_bc(b1, bcu)\n",
    "    solver1.solve(b1, u_.x.petsc_vec)\n",
    "    u_.x.scatter_forward()\n",
    "\n",
    "    # Step 2: Pressure corrrection step\n",
    "    with b2.localForm() as loc_2:\n",
    "        loc_2.set(0)\n",
    "    assemble_vector(b2, L2)\n",
    "    apply_lifting(b2, [a2], [bcp])\n",
    "    b2.ghostUpdate(addv=PETSc.InsertMode.ADD_VALUES, mode=PETSc.ScatterMode.REVERSE)\n",
    "    set_bc(b2, bcp)\n",
    "    solver2.solve(b2, p_.x.petsc_vec)\n",
    "    p_.x.scatter_forward()\n",
    "\n",
    "    # Step 3: Velocity correction step\n",
    "    with b3.localForm() as loc_3:\n",
    "        loc_3.set(0)\n",
    "    assemble_vector(b3, L3)\n",
    "    b3.ghostUpdate(addv=PETSc.InsertMode.ADD_VALUES, mode=PETSc.ScatterMode.REVERSE)\n",
    "    solver3.solve(b3, u_.x.petsc_vec)\n",
    "    u_.x.scatter_forward()\n",
    "    # Update variable with solution form this time step\n",
    "    u_n.x.array[:] = u_.x.array[:]\n",
    "    p_n.x.array[:] = p_.x.array[:]\n",
    "\n",
    "    # Write solutions to file\n",
    "    vtx_u.write(t)\n",
    "    vtx_p.write(t)\n",
    "\n",
    "    # Compute error at current time-step\n",
    "    error_L2 = np.sqrt(mesh.comm.allreduce(assemble_scalar(L2_error), op=MPI.SUM))\n",
    "    error_max = mesh.comm.allreduce(\n",
    "        np.max(u_.x.petsc_vec.array - u_ex.x.petsc_vec.array), op=MPI.MAX\n",
    "    )\n",
    "    # Print error only every 20th step and at the last step\n",
    "    if (i % 20 == 0) or (i == num_steps - 1):\n",
    "        print(f\"Time {t:.2f}, L2-error {error_L2:.2e}, Max error {error_max:.2e}\")\n",
    "# Close xmdf file\n",
    "vtx_u.close()\n",
    "vtx_p.close()\n",
    "b1.destroy()\n",
    "b2.destroy()\n",
    "b3.destroy()\n",
    "solver1.destroy()\n",
    "solver2.destroy()\n",
    "solver3.destroy()"
   ]
  },
  {
   "cell_type": "markdown",
   "id": "31",
   "metadata": {},
   "source": [
    "## Verification\n",
    "As for the previous problems we compute the error at each degree of freedom and the $L^2(\\Omega)$-error.\n",
    "We start with the  initial condition $u=(0,0)$.\n",
    "We have not specified the initial condition explicitly, and FEniCSx will initialize all\n",
    "`Function`s including `u_n` and `u_` to zero.\n",
    "Since the exact solution is quadratic, we expect to reach machine precision within finite time.\n",
    "For our implementation, we observe that the error quickly approaches zero, and is of order $10^{-6}$ at $T=10$\n",
    "\n",
    "## Visualization of vectors\n",
    "We have already looked at how to plot higher order functions and vector functions.\n",
    "In this section we will look at how to visualize vector functions with glyphs, instead of warping the mesh."
   ]
  },
  {
   "cell_type": "code",
   "execution_count": null,
   "id": "32",
   "metadata": {},
   "outputs": [],
   "source": [
    "pyvista.start_xvfb(1.0)\n",
    "\n",
    "topology, cell_types, geometry = vtk_mesh(V)\n",
    "values = np.zeros((geometry.shape[0], 3), dtype=np.float64)\n",
    "values[:, : len(u_n)] = u_n.x.array.real.reshape((geometry.shape[0], len(u_n)))\n",
    "\n",
    "# Create a point cloud of glyphs\n",
    "function_grid = pyvista.UnstructuredGrid(topology, cell_types, geometry)\n",
    "function_grid[\"u\"] = values\n",
    "glyphs = function_grid.glyph(orient=\"u\", factor=0.2)\n",
    "\n",
    "# Create a pyvista-grid for the mesh\n",
    "tdim = mesh.topology.dim\n",
    "mesh.topology.create_connectivity(tdim, tdim)\n",
    "grid = pyvista.UnstructuredGrid(*vtk_mesh(mesh, tdim))\n",
    "\n",
    "# Create plotter\n",
    "plotter = pyvista.Plotter()\n",
    "plotter.add_mesh(grid, style=\"wireframe\", color=\"k\")\n",
    "plotter.add_mesh(glyphs)\n",
    "plotter.view_xy()\n",
    "\n",
    "if not pyvista.OFF_SCREEN:\n",
    "    plotter.show()\n",
    "else:\n",
    "    fig_as_array = plotter.screenshot(\"glyphs.png\")"
   ]
  },
  {
   "cell_type": "markdown",
   "metadata": {},
   "source": [
    "## References\n",
    "```{bibliography}\n",
    ":filter: docname in docnames\n",
    "```"
   ]
  }
 ],
 "metadata": {
  "jupytext": {
   "formats": "ipynb,py:light"
  },
  "kernelspec": {
   "display_name": "Python 3 (ipykernel)",
   "language": "python",
   "name": "python3"
  },
  "language_info": {
   "codemirror_mode": {
    "name": "ipython",
    "version": 3
   },
   "file_extension": ".py",
   "mimetype": "text/x-python",
   "name": "python",
   "nbconvert_exporter": "python",
   "pygments_lexer": "ipython3",
   "version": "3.10.12"
  }
 },
 "nbformat": 4,
 "nbformat_minor": 4
}
