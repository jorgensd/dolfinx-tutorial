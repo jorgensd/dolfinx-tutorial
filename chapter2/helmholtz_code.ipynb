{
 "cells": [
  {
   "cell_type": "markdown",
   "metadata": {},
   "source": [
    "# Implementation\n",
    "Author: Antonio Baiano Svizzero and Jørgen S. Dokken\n",
    "\n",
    "In this tutorial, you will learn how to:\n",
    "- Define acoustic velocity and impedance boundary conditions\n",
    "- Compute acoustic sound pressure for multiple frequencies\n",
    "- Compute the Sound Pressure Level (SPL) at a given microphone position\n",
    "\n",
    "## Test problem\n",
    "As an example, we will model a plane wave propagating in a tube.\n",
    "While it is a basic test case, the code can be adapted to way more complex problems where velocity and impedance boundary conditions are needed.\n",
    "We will apply a velocity boundary condition $v_n = 0.001$ to one end of the tube and an impedance $Z$ computed with the Delaney-Bazley model,\n",
    "supposing that a layer of thickness $d = 0.02$ and flow resistivity $\\sigma = 1e4$ is placed at the second end of the tube.\n",
    "The choice of such impedance (the one of a plane wave propagating in free field) will give, as a result, a solution with no reflections.\n",
    "\n",
    "First, we create the mesh with gmsh, also setting the physical group for velocity and impedance boundary conditions and the respective tags."
   ]
  },
  {
   "cell_type": "code",
   "execution_count": 1,
   "metadata": {},
   "outputs": [
    {
     "name": "stdout",
     "output_type": "stream",
     "text": [
      "Info    : Meshing 1D...\n",
      "Info    : [  0%] Meshing curve 1 (Line)\n",
      "Info    : [ 10%] Meshing curve 2 (Line)\n",
      "Info    : [ 20%] Meshing curve 3 (Line)\n",
      "Info    : [ 30%] Meshing curve 4 (Line)\n",
      "Info    : [ 40%] Meshing curve 5 (Line)\n",
      "Info    : [ 50%] Meshing curve 6 (Line)\n",
      "Info    : [ 60%] Meshing curve 7 (Line)\n",
      "Info    : [ 60%] Meshing curve 8 (Line)\n",
      "Info    : [ 70%] Meshing curve 9 (Line)\n",
      "Info    : [ 80%] Meshing curve 10 (Line)\n",
      "Info    : [ 90%] Meshing curve 11 (Line)\n",
      "Info    : [100%] Meshing curve 12 (Line)\n",
      "Info    : Done meshing 1D (Wall 0.000926869s, CPU 0.000589s)\n",
      "Info    : Meshing 2D...\n",
      "Info    : [  0%] Meshing surface 1 (Plane, Frontal-Delaunay)\n",
      "Info    : [ 20%] Meshing surface 2 (Plane, Frontal-Delaunay)\n",
      "Info    : [ 40%] Meshing surface 3 (Plane, Frontal-Delaunay)\n",
      "Info    : [ 60%] Meshing surface 4 (Plane, Frontal-Delaunay)\n",
      "Info    : [ 70%] Meshing surface 5 (Plane, Frontal-Delaunay)\n",
      "Info    : [ 90%] Meshing surface 6 (Plane, Frontal-Delaunay)\n",
      "Info    : Done meshing 2D (Wall 0.0311526s, CPU 0.030342s)\n",
      "Info    : Meshing 3D...\n",
      "Info    : 3D Meshing 1 volume with 1 connected component\n",
      "Info    : Tetrahedrizing 1285 nodes...\n",
      "Info    : Done tetrahedrizing 1293 nodes (Wall 0.0127086s, CPU 0.011753s)\n",
      "Info    : Reconstructing mesh...\n",
      "Info    :  - Creating surface mesh\n",
      "Info    :  - Identifying boundary edges\n",
      "Info    :  - Recovering boundary\n",
      "Info    : Done reconstructing mesh (Wall 0.0264354s, CPU 0.02449s)\n",
      "Info    : Found volume 1\n",
      "Info    : It. 0 - 0 nodes created - worst tet radius 2.85527 (nodes removed 0 0)\n",
      "Info    : 3D refinement terminated (1746 nodes total):\n",
      "Info    :  - 0 Delaunay cavities modified for star shapeness\n",
      "Info    :  - 0 nodes could not be inserted\n",
      "Info    :  - 6588 tetrahedra created in 0.0199287 sec. (330577 tets/s)\n",
      "Info    : 0 node relocations\n",
      "Info    : Done meshing 3D (Wall 0.0772706s, CPU 0.07553s)\n",
      "Info    : Optimizing mesh...\n",
      "Info    : Optimizing volume 1\n",
      "Info    : Optimization starts (volume = 0.01) with worst = 0.0138257 / average = 0.769909:\n",
      "Info    : 0.00 < quality < 0.10 :        18 elements\n",
      "Info    : 0.10 < quality < 0.20 :        69 elements\n",
      "Info    : 0.20 < quality < 0.30 :        66 elements\n",
      "Info    : 0.30 < quality < 0.40 :        67 elements\n",
      "Info    : 0.40 < quality < 0.50 :       150 elements\n",
      "Info    : 0.50 < quality < 0.60 :       273 elements\n",
      "Info    : 0.60 < quality < 0.70 :       913 elements\n",
      "Info    : 0.70 < quality < 0.80 :      1842 elements\n",
      "Info    : 0.80 < quality < 0.90 :      2090 elements\n",
      "Info    : 0.90 < quality < 1.00 :      1095 elements\n",
      "Info    : 152 edge swaps, 0 node relocations (volume = 0.01): worst = 0.300511 / average = 0.784453 (Wall 0.00193693s, CPU 0.00201s)\n",
      "Info    : No ill-shaped tets in the mesh :-)\n",
      "Info    : 0.00 < quality < 0.10 :         0 elements\n",
      "Info    : 0.10 < quality < 0.20 :         0 elements\n",
      "Info    : 0.20 < quality < 0.30 :         0 elements\n",
      "Info    : 0.30 < quality < 0.40 :        67 elements\n",
      "Info    : 0.40 < quality < 0.50 :       135 elements\n",
      "Info    : 0.50 < quality < 0.60 :       271 elements\n",
      "Info    : 0.60 < quality < 0.70 :       907 elements\n",
      "Info    : 0.70 < quality < 0.80 :      1872 elements\n",
      "Info    : 0.80 < quality < 0.90 :      2113 elements\n",
      "Info    : 0.90 < quality < 1.00 :      1081 elements\n",
      "Info    : Done optimizing mesh (Wall 0.00743052s, CPU 0.007641s)\n",
      "Info    : 1746 nodes 9265 elements\n"
     ]
    }
   ],
   "source": [
    "import gmsh\n",
    "\n",
    "gmsh.initialize()\n",
    "\n",
    "# meshsize settings\n",
    "meshsize = 0.02\n",
    "gmsh.option.setNumber(\"Mesh.MeshSizeMax\", meshsize)\n",
    "gmsh.option.setNumber(\"Mesh.MeshSizeMax\", meshsize)\n",
    "\n",
    "\n",
    "# create geometry\n",
    "L = 1\n",
    "W = 0.1\n",
    "\n",
    "gmsh.model.occ.addBox(0, 0, 0, L, W, W)\n",
    "gmsh.model.occ.synchronize()\n",
    "\n",
    "# setup physical groups\n",
    "v_bc_tag = 2\n",
    "Z_bc_tag = 3\n",
    "gmsh.model.addPhysicalGroup(3, [1], 1, \"air_volume\")\n",
    "gmsh.model.addPhysicalGroup(2, [1], v_bc_tag, \"velocity_BC\")\n",
    "gmsh.model.addPhysicalGroup(2, [2], Z_bc_tag, \"impedance\")\n",
    "\n",
    "# mesh generation\n",
    "gmsh.model.mesh.generate(3)"
   ]
  },
  {
   "cell_type": "markdown",
   "metadata": {},
   "source": [
    "Then we import the gmsh mesh with the ```dolfinx.io.gmshio``` function."
   ]
  },
  {
   "cell_type": "code",
   "execution_count": null,
   "metadata": {},
   "outputs": [],
   "source": [
    "from mpi4py import MPI\n",
    "from dolfinx import fem, io, default_scalar_type, geometry\n",
    "from dolfinx.fem.petsc import LinearProblem\n",
    "import ufl\n",
    "import numpy as np\n",
    "import numpy.typing as npt\n",
    "\n",
    "mesh_data = io.gmshio.model_to_mesh(gmsh.model, MPI.COMM_WORLD, 0, gdim=3)\n",
    "domain = mesh_data.mesh\n",
    "assert mesh_data.facet_tags is not None\n",
    "facet_tags = mesh_data.facet_tags"
   ]
  },
  {
   "cell_type": "markdown",
   "id": "92d8cd12",
   "metadata": {},
   "source": [
    "We define the function space for our unknown $p$ and define the range of frequencies we want to solve the Helmholtz equation for."
   ]
  },
  {
   "cell_type": "code",
   "execution_count": null,
   "id": "06cebc38",
   "metadata": {},
   "outputs": [],
   "source": [
    "\n",
    "V = fem.functionspace(domain, (\"Lagrange\", 1))\n",
    "\n",
    "# Discrete frequency range\n",
    "freq = np.arange(10, 1000, 5)  # Hz\n",
    "\n",
    "# Air parameters\n",
    "rho0 = 1.225  # kg/m^3\n",
    "c = 340  # m/s\n"
   ]
  },
  {
   "cell_type": "markdown",
   "metadata": {
    "lines_to_next_cell": 2
   },
   "source": [
    "## Boundary conditions\n",
    "\n",
    "The Delaney-Bazley model is used to compute the characteristic impedance and wavenumber of the porous layer,\n",
    "treated as an equivalent fluid with complex valued properties\n",
    "\n",
    "$$\n",
    "\\begin{align}\n",
    "Z_c(\\omega) &= \\rho_0 c_0 \\left[1 + 0.0571 X^{-0.754} - j 0.087 X^{-0.732}\\right],\\\\\n",
    "k_c(\\omega) &= \\frac{\\omega}{c_0} \\left[1 + 0.0978 X^{-0.700} - j 0.189 X^{-0.595}\\right],\\\\\n",
    "\\end{align}\n",
    "$$\n",
    "\n",
    "where $X = \\frac{\\rho_0 f}{\\sigma}$.\n",
    "\n",
    "With these, we can compute the surface impedance, that in the case of a rigid passive absorber placed on a rigid wall is given by the formula\n",
    "$$\n",
    "\\begin{align}\n",
    "Z_s = -j Z_c cot(k_c d).\n",
    "\\end{align}\n",
    "$$\n",
    "\n",
    "Let's create a function to compute it.\n",
    "\n"
   ]
  },
  {
   "cell_type": "code",
   "execution_count": 3,
   "metadata": {},
   "outputs": [],
   "source": [
    "# Impedance calculation\n",
    "def delany_bazley_layer(f, rho0, c, sigma):\n",
    "    X = rho0 * f / sigma\n",
    "    Zc = rho0 * c * (1 + 0.0571 * X**-0.754 - 1j * 0.087 * X**-0.732)\n",
    "    kc = 2 * np.pi * f / c * (1 + 0.0978 * (X**-0.700) - 1j * 0.189 * (X**-0.595))\n",
    "    Z_s = -1j * Zc * (1 / np.tan(kc * d))\n",
    "    return Z_s\n",
    "\n",
    "\n",
    "sigma = 1.5e4\n",
    "d = 0.01\n",
    "Z_s = delany_bazley_layer(freq, rho0, c, sigma)"
   ]
  },
  {
   "cell_type": "markdown",
   "metadata": {},
   "source": [
    "Since we are going to compute a sound pressure spectrum, all the variables that depend on frequency (that are $\\omega$, $k$ and $Z$) need to be updated in the frequency loop.\n",
    "To make this possible, we will initialize them as dolfinx constants.\n",
    "Then, we define the value for the normal velocity on the first end of the tube"
   ]
  },
  {
   "cell_type": "code",
   "execution_count": 4,
   "metadata": {},
   "outputs": [],
   "source": [
    "omega = fem.Constant(domain, default_scalar_type(0))\n",
    "k = fem.Constant(domain, default_scalar_type(0))\n",
    "Z = fem.Constant(domain, default_scalar_type(0))\n",
    "v_n = 1e-5"
   ]
  },
  {
   "cell_type": "markdown",
   "metadata": {},
   "source": [
    "We also need to specify the integration measure $ds$, by using ```ufl```, and its built in integration measures"
   ]
  },
  {
   "cell_type": "code",
   "execution_count": 5,
   "metadata": {},
   "outputs": [],
   "source": [
    "ds = ufl.Measure(\"ds\", domain=domain, subdomain_data=facet_tags)"
   ]
  },
  {
   "cell_type": "markdown",
   "metadata": {},
   "source": [
    "## Variational Formulation\n",
    "We can now write the variational formulation."
   ]
  },
  {
   "cell_type": "code",
   "execution_count": 6,
   "metadata": {},
   "outputs": [],
   "source": [
    "p = ufl.TrialFunction(V)\n",
    "v = ufl.TestFunction(V)\n",
    "\n",
    "a = (\n",
    "    ufl.inner(ufl.grad(p), ufl.grad(v)) * ufl.dx\n",
    "    + 1j * rho0 * omega / Z * ufl.inner(p, v) * ds(Z_bc_tag)\n",
    "    - k**2 * ufl.inner(p, v) * ufl.dx\n",
    ")\n",
    "L = -1j * omega * rho0 * ufl.inner(v_n, v) * ds(v_bc_tag)"
   ]
  },
  {
   "cell_type": "markdown",
   "metadata": {},
   "source": [
    "The class ```LinearProblem``` is used to setup the PETSc backend and assemble the system vector and matrices.\n",
    "The solution will be stored in a `dolfinx.fem.Function`, ```p_a```."
   ]
  },
  {
   "cell_type": "code",
   "execution_count": 7,
   "metadata": {
    "lines_to_end_of_cell_marker": 2
   },
   "outputs": [],
   "source": [
    "p_a = fem.Function(V)\n",
    "p_a.name = \"pressure\"\n",
    "\n",
    "problem = LinearProblem(\n",
    "    a,\n",
    "    L,\n",
    "    u=p_a,\n",
    "    petsc_options={\n",
    "        \"ksp_type\": \"preonly\",\n",
    "        \"pc_type\": \"lu\",\n",
    "        \"pc_factor_mat_solver_type\": \"mumps\",\n",
    "    },\n",
    ")"
   ]
  },
  {
   "cell_type": "markdown",
   "metadata": {
    "lines_to_next_cell": 2
   },
   "source": [
    "## Computing the pressure at a given location\n",
    "Before starting our frequency loop, we can build a function that, given a microphone position,\n",
    "computes the sound pressure at its location.\n",
    "We will use the a similar method as in [Deflection of a membrane](../chapter1/membrane_code).\n",
    "However, as the domain doesn't deform in time, we cache the collision detection"
   ]
  },
  {
   "cell_type": "code",
   "execution_count": 8,
   "metadata": {},
   "outputs": [],
   "source": [
    "class MicrophonePressure:\n",
    "    def __init__(self, domain, microphone_position):\n",
    "        \"\"\"Initialize microphone(s).\n",
    "\n",
    "        Args:\n",
    "            domain: The domain to insert microphones on\n",
    "            microphone_position: Position of the microphone(s).\n",
    "                Assumed to be ordered as ``(mic0_x, mic1_x, ..., mic0_y, mic1_y, ..., mic0_z, mic1_z, ...)``\n",
    "\n",
    "        \"\"\"\n",
    "        self._domain = domain\n",
    "        self._position = np.asarray(\n",
    "            microphone_position, dtype=domain.geometry.x.dtype\n",
    "        ).reshape(3, -1)\n",
    "        self._local_cells, self._local_position = self.compute_local_microphones()\n",
    "\n",
    "    def compute_local_microphones(\n",
    "        self,\n",
    "    ) -> tuple[npt.NDArray[np.int32], npt.NDArray[np.floating]]:\n",
    "        \"\"\"\n",
    "        Compute the local microphone positions for a distributed mesh\n",
    "\n",
    "        Returns:\n",
    "            Two lists (local_cells, local_points) containing the local cell indices and the local points\n",
    "        \"\"\"\n",
    "        points = self._position.T\n",
    "        bb_tree = geometry.bb_tree(self._domain, self._domain.topology.dim)\n",
    "\n",
    "        cells = []\n",
    "        points_on_proc = []\n",
    "\n",
    "        cell_candidates = geometry.compute_collisions_points(bb_tree, points)\n",
    "        colliding_cells = geometry.compute_colliding_cells(\n",
    "            domain, cell_candidates, points\n",
    "        )\n",
    "\n",
    "        for i, point in enumerate(points):\n",
    "            if len(colliding_cells.links(i)) > 0:\n",
    "                points_on_proc.append(point)\n",
    "                cells.append(colliding_cells.links(i)[0])\n",
    "\n",
    "        return np.asarray(cells, dtype=np.int32), np.asarray(\n",
    "            points_on_proc, dtype=domain.geometry.x.dtype\n",
    "        )\n",
    "\n",
    "    def listen(\n",
    "        self, recompute_collisions: bool = False\n",
    "    ) -> npt.NDArray[np.complexfloating]:\n",
    "        if recompute_collisions:\n",
    "            self._local_cells, self._local_position = self.compute_local_microphones()\n",
    "        if len(self._local_cells) > 0:\n",
    "            return p_a.eval(self._local_position, self._local_cells)\n",
    "        else:\n",
    "            return np.zeros(0, dtype=default_scalar_type)"
   ]
  },
  {
   "cell_type": "markdown",
   "metadata": {},
   "source": [
    "The pressure spectrum is initialized as a numpy array and the microphone location is assigned"
   ]
  },
  {
   "cell_type": "code",
   "execution_count": 9,
   "metadata": {},
   "outputs": [],
   "source": [
    "p_mic = np.zeros((len(freq), 1), dtype=complex)\n",
    "\n",
    "mic = np.array([0.5, 0.05, 0.05])\n",
    "microphone = MicrophonePressure(domain, mic)"
   ]
  },
  {
   "cell_type": "markdown",
   "metadata": {},
   "source": [
    "## Frequency loop\n",
    "\n",
    "Finally, we can write the frequency loop, where we update the values of the frequency-dependent variables and solve the system for each frequency"
   ]
  },
  {
   "cell_type": "code",
   "execution_count": 10,
   "metadata": {},
   "outputs": [],
   "source": [
    "for nf in range(0, len(freq)):\n",
    "    k.value = 2 * np.pi * freq[nf] / c\n",
    "    omega.value = 2 * np.pi * freq[nf]\n",
    "    Z.value = Z_s[nf]\n",
    "\n",
    "    problem.solve()\n",
    "    p_a.x.scatter_forward()\n",
    "\n",
    "    p_f = microphone.listen()\n",
    "    p_f = domain.comm.gather(p_f, root=0)\n",
    "\n",
    "    if domain.comm.rank == 0:\n",
    "        assert p_f is not None\n",
    "        p_mic[nf] = np.hstack(p_f)"
   ]
  },
  {
   "cell_type": "markdown",
   "metadata": {},
   "source": [
    "## SPL spectrum\n",
    "After the computation, the pressure spectrum at the prescribed location is available.\n",
    "Such a spectrum is usually shown using the decibel (dB) scale to obtain the SPL, with the RMS pressure as input,\n",
    "defined as $p_{rms} = \\frac{p}{\\sqrt{2}}$."
   ]
  },
  {
   "cell_type": "code",
   "execution_count": 11,
   "metadata": {},
   "outputs": [
    {
     "data": {
      "image/png": "[encoded data removed]",
      "text/plain": [
       "<Figure size 2500x800 with 1 Axes>"
      ]
     },
     "metadata": {},
     "output_type": "display_data"
    }
   ],
   "source": [
    "if domain.comm.rank == 0:\n",
    "    import matplotlib.pyplot as plt\n",
    "\n",
    "    fig = plt.figure(figsize=(25, 8))\n",
    "    plt.plot(freq, 20 * np.log10(np.abs(p_mic) / np.sqrt(2) / 2e-5), linewidth=2)\n",
    "    plt.grid(True)\n",
    "    plt.xlabel(\"Frequency [Hz]\")\n",
    "    plt.ylabel(\"SPL [dB]\")\n",
    "    plt.xlim([freq[0], freq[-1]])\n",
    "    plt.ylim([0, 90])\n",
    "    plt.legend()\n",
    "    plt.show()"
   ]
  }
 ],
 "metadata": {
  "jupytext": {
   "formats": "ipynb,py:light"
  },
  "kernelspec": {
   "display_name": "Python 3 (DOLFINx complex)",
   "language": "python",
   "name": "python3-complex"
  },
  "language_info": {
   "codemirror_mode": {
    "name": "ipython",
    "version": 3
   },
   "file_extension": ".py",
   "mimetype": "text/x-python",
   "name": "python",
   "nbconvert_exporter": "python",
   "pygments_lexer": "ipython3",
   "version": "3.12.7"
  }
 },
 "nbformat": 4,
 "nbformat_minor": 2
}
