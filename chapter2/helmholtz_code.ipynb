{
 "cells": [
  {
   "cell_type": "markdown",
   "metadata": {},
   "source": [
    "# Implementation\n",
    "Author: Antonio Baiano Svizzero and Jørgen S. Dokken\n",
    "\n",
    "In this tutorial, you will learn how to:\n",
    "- Define acoustic velocity and impedance boundary conditions\n",
    "- Compute acoustic sound pressure for multiple frequencies\n",
    "- Compute the Sound Pressure Level (SPL) at a given microphone position\n",
    "\n",
    "## Test problem\n",
    "As an example, we will model a plane wave propagating in a tube.\n",
    "While it is a basic test case, the code can be adapted to way more complex problems where\n",
    "velocity and impedance boundary conditions are needed.\n",
    "We will apply a velocity boundary condition $v_n = 0.001$ to one end of the tube\n",
    "(for the sake of simplicity, in this basic example, we are ignoring the point source, which can be applied with scifem)\n",
    "and an impedance $Z$ computed with the Delaney-Bazley model,\n",
    "supposing that a layer of thickness $d = 0.02$ and flow resistivity $\\sigma = 1e4$ is\n",
    "placed at the second end of the tube.\n",
    "The choice of such impedance (the one of a plane wave propagating in free field) will give, as a result,\n",
    "a solution with no reflections.\n",
    "\n",
    "First, we create the mesh with gmsh, also setting the physical group for velocity and impedance boundary\n",
    "conditions and the respective tags."
   ]
  },
  {
   "cell_type": "code",
   "execution_count": null,
   "metadata": {},
   "outputs": [],
   "source": [
    "import gmsh\n",
    "\n",
    "gmsh.initialize()\n",
    "\n",
    "# meshsize settings\n",
    "meshsize = 0.02\n",
    "gmsh.option.setNumber(\"Mesh.MeshSizeMax\", meshsize)\n",
    "gmsh.option.setNumber(\"Mesh.MeshSizeMax\", meshsize)\n",
    "\n",
    "\n",
    "# create geometry\n",
    "L = 1\n",
    "W = 0.1\n",
    "\n",
    "gmsh.model.occ.addBox(0, 0, 0, L, W, W)\n",
    "gmsh.model.occ.synchronize()\n",
    "\n",
    "# setup physical groups\n",
    "v_bc_tag = 2\n",
    "Z_bc_tag = 3\n",
    "gmsh.model.addPhysicalGroup(3, [1], 1, \"air_volume\")\n",
    "gmsh.model.addPhysicalGroup(2, [1], v_bc_tag, \"velocity_BC\")\n",
    "gmsh.model.addPhysicalGroup(2, [2], Z_bc_tag, \"impedance\")\n",
    "\n",
    "# mesh generation\n",
    "gmsh.model.mesh.generate(3)"
   ]
  },
  {
   "cell_type": "markdown",
   "metadata": {},
   "source": [
    "Then we import the gmsh mesh with the ```dolfinx.io.gmshio``` function."
   ]
  },
  {
   "cell_type": "code",
   "execution_count": null,
   "metadata": {},
   "outputs": [],
   "source": [
    "from mpi4py import MPI\n",
    "from dolfinx import (\n",
    "    fem,\n",
    "    io,\n",
    "    default_scalar_type,\n",
    "    geometry,\n",
    "    __version__ as dolfinx_version,\n",
    ")\n",
    "from dolfinx.fem.petsc import LinearProblem\n",
    "import ufl\n",
    "import numpy as np\n",
    "import numpy.typing as npt\n",
    "from packaging.version import Version\n",
    "\n",
    "mesh_data = io.gmshio.model_to_mesh(gmsh.model, MPI.COMM_WORLD, 0, gdim=3)\n",
    "if Version(dolfinx_version) > Version(\"0.9.0\"):\n",
    "    domain = mesh_data.mesh\n",
    "    assert mesh_data.facet_tags is not None\n",
    "    facet_tags = mesh_data.facet_tags\n",
    "else:\n",
    "    domain, _, facet_tags = mesh_data\n"
   ]
  },
  {
   "cell_type": "markdown",
   "id": "4",
   "metadata": {},
   "source": [
    "We define the function space for our unknown $p$ and define the range of frequencies we want to solve the Helmholtz equation for."
   ]
  },
  {
   "cell_type": "code",
   "execution_count": null,
   "id": "5",
   "metadata": {},
   "outputs": [],
   "source": [
    "\n",
    "V = fem.functionspace(domain, (\"Lagrange\", 1))\n",
    "\n",
    "# Discrete frequency range\n",
    "freq = np.arange(10, 1000, 5)  # Hz\n",
    "\n",
    "# Air parameters\n",
    "rho0 = 1.225  # kg/m^3\n",
    "c = 340  # m/s\n"
   ]
  },
  {
   "cell_type": "markdown",
   "metadata": {
    "lines_to_next_cell": 2
   },
   "source": [
    "## Boundary conditions\n",
    "\n",
    "The Delaney-Bazley model is used to compute the characteristic impedance and wavenumber of the porous layer,\n",
    "treated as an equivalent fluid with complex valued properties\n",
    "\n",
    "\\begin{align}\n",
    "Z_c(\\omega) &= \\rho_0 c_0 \\left[1 + 0.0571 X^{-0.754} - j 0.087 X^{-0.732}\\right],\\\\\n",
    "k_c(\\omega) &= \\frac{\\omega}{c_0} \\left[1 + 0.0978 X^{-0.700} - j 0.189 X^{-0.595}\\right],\\\\\n",
    "\\end{align}\n",
    "\n",
    "where $X = \\frac{\\rho_0 f}{\\sigma}$.\n",
    "\n",
    "With these, we can compute the surface impedance, that in the case of a rigid passive absorber placed on a rigid wall is given by the formula\n",
    "\n",
    "$$\n",
    "Z_s = -j Z_c cot(k_c d).\n",
    "$$\n",
    "\n",
    "Let's create a function to compute it.\n",
    "\n"
   ]
  },
  {
   "cell_type": "code",
   "execution_count": null,
   "metadata": {},
   "outputs": [],
   "source": [
    "# Impedance calculation\n",
    "def delany_bazley_layer(f, rho0, c, sigma):\n",
    "    X = rho0 * f / sigma\n",
    "    Zc = rho0 * c * (1 + 0.0571 * X**-0.754 - 1j * 0.087 * X**-0.732)\n",
    "    kc = 2 * np.pi * f / c * (1 + 0.0978 * (X**-0.700) - 1j * 0.189 * (X**-0.595))\n",
    "    Z_s = -1j * Zc * (1 / np.tan(kc * d))\n",
    "    return Z_s\n",
    "\n",
    "\n",
    "sigma = 1.5e4\n",
    "d = 0.01\n",
    "Z_s = delany_bazley_layer(freq, rho0, c, sigma)"
   ]
  },
  {
   "cell_type": "markdown",
   "metadata": {},
   "source": [
    "Since we are going to compute a sound pressure spectrum, all the variables that depend on frequency\n",
    "($\\omega$, $k$ and $Z$) need to be updated in the frequency loop.\n",
    "To make this possible, we will initialize them as dolfinx constants.\n",
    "Then, we define the value for the normal velocity on the first end of the tube"
   ]
  },
  {
   "cell_type": "code",
   "execution_count": null,
   "metadata": {},
   "outputs": [],
   "source": [
    "omega = fem.Constant(domain, default_scalar_type(0))\n",
    "k = fem.Constant(domain, default_scalar_type(0))\n",
    "Z = fem.Constant(domain, default_scalar_type(0))\n",
    "v_n = 1e-5"
   ]
  },
  {
   "cell_type": "markdown",
   "metadata": {},
   "source": [
    "We also need to specify the integration measure $ds$, by using `ufl`, and its built in integration measures"
   ]
  },
  {
   "cell_type": "code",
   "execution_count": null,
   "metadata": {},
   "outputs": [],
   "source": [
    "ds = ufl.Measure(\"ds\", domain=domain, subdomain_data=facet_tags)"
   ]
  },
  {
   "cell_type": "markdown",
   "metadata": {},
   "source": [
    "## Variational Formulation\n",
    "We can now write the variational formulation."
   ]
  },
  {
   "cell_type": "code",
   "execution_count": null,
   "metadata": {},
   "outputs": [],
   "source": [
    "p = ufl.TrialFunction(V)\n",
    "v = ufl.TestFunction(V)\n",
    "\n",
    "a = (\n",
    "    ufl.inner(ufl.grad(p), ufl.grad(v)) * ufl.dx\n",
    "    + 1j * rho0 * omega / Z * ufl.inner(p, v) * ds(Z_bc_tag)\n",
    "    - k**2 * ufl.inner(p, v) * ufl.dx\n",
    ")\n",
    "L = -1j * omega * rho0 * ufl.inner(v_n, v) * ds(v_bc_tag)"
   ]
  },
  {
   "cell_type": "markdown",
   "metadata": {},
   "source": [
    "The class ```LinearProblem``` is used to setup the PETSc backend and assemble the system vector and matrices.\n",
    "The solution will be stored in a `dolfinx.fem.Function`, ```p_a```."
   ]
  },
  {
   "cell_type": "code",
   "execution_count": null,
   "metadata": {
    "lines_to_end_of_cell_marker": 2
   },
   "outputs": [],
   "source": [
    "p_a = fem.Function(V)\n",
    "p_a.name = \"pressure\"\n",
    "\n",
    "problem = LinearProblem(\n",
    "    a,\n",
    "    L,\n",
    "    u=p_a,\n",
    "    petsc_options={\n",
    "        \"ksp_type\": \"preonly\",\n",
    "        \"pc_type\": \"lu\",\n",
    "        \"pc_factor_mat_solver_type\": \"mumps\",\n",
    "    },\n",
    "    petsc_options_prefix=\"helmholtz\",\n",
    ")"
   ]
  },
  {
   "cell_type": "markdown",
   "metadata": {
    "lines_to_next_cell": 2
   },
   "source": [
    "## Computing the pressure at a given location\n",
    "Before starting our frequency loop, we can build a function that, given a microphone position,\n",
    "computes the sound pressure at its location.\n",
    "We will use the a similar method as in [Deflection of a membrane](../chapter1/membrane_code).\n",
    "However, as the domain doesn't deform in time, we cache the collision detection"
   ]
  },
  {
   "cell_type": "code",
   "execution_count": null,
   "metadata": {},
   "outputs": [],
   "source": [
    "class MicrophonePressure:\n",
    "    def __init__(self, domain, microphone_position):\n",
    "        \"\"\"Initialize microphone(s).\n",
    "\n",
    "        Args:\n",
    "            domain: The domain to insert microphones on\n",
    "            microphone_position: Position of the microphone(s).\n",
    "                Assumed to be ordered as ``(mic0_x, mic1_x, ..., mic0_y, mic1_y, ..., mic0_z, mic1_z, ...)``\n",
    "\n",
    "        \"\"\"\n",
    "        self._domain = domain\n",
    "        self._position = np.asarray(\n",
    "            microphone_position, dtype=domain.geometry.x.dtype\n",
    "        ).reshape(3, -1)\n",
    "        self._local_cells, self._local_position = self.compute_local_microphones()\n",
    "\n",
    "    def compute_local_microphones(\n",
    "        self,\n",
    "    ) -> tuple[npt.NDArray[np.int32], npt.NDArray[np.floating]]:\n",
    "        \"\"\"\n",
    "        Compute the local microphone positions for a distributed mesh\n",
    "\n",
    "        Returns:\n",
    "            Two lists (local_cells, local_points) containing the local cell indices and the local points\n",
    "        \"\"\"\n",
    "        points = self._position.T\n",
    "        bb_tree = geometry.bb_tree(self._domain, self._domain.topology.dim)\n",
    "\n",
    "        cells = []\n",
    "        points_on_proc = []\n",
    "\n",
    "        cell_candidates = geometry.compute_collisions_points(bb_tree, points)\n",
    "        colliding_cells = geometry.compute_colliding_cells(\n",
    "            domain, cell_candidates, points\n",
    "        )\n",
    "\n",
    "        for i, point in enumerate(points):\n",
    "            if len(colliding_cells.links(i)) > 0:\n",
    "                points_on_proc.append(point)\n",
    "                cells.append(colliding_cells.links(i)[0])\n",
    "\n",
    "        return np.asarray(cells, dtype=np.int32), np.asarray(\n",
    "            points_on_proc, dtype=domain.geometry.x.dtype\n",
    "        )\n",
    "\n",
    "    def listen(\n",
    "        self, recompute_collisions: bool = False\n",
    "    ) -> npt.NDArray[np.complexfloating]:\n",
    "        if recompute_collisions:\n",
    "            self._local_cells, self._local_position = self.compute_local_microphones()\n",
    "        if len(self._local_cells) > 0:\n",
    "            return p_a.eval(self._local_position, self._local_cells)\n",
    "        else:\n",
    "            return np.zeros(0, dtype=default_scalar_type)"
   ]
  },
  {
   "cell_type": "markdown",
   "metadata": {},
   "source": [
    "The pressure spectrum is initialized as a numpy array and the microphone location is assigned"
   ]
  },
  {
   "cell_type": "code",
   "execution_count": null,
   "metadata": {},
   "outputs": [],
   "source": [
    "p_mic = np.zeros((len(freq), 1), dtype=complex)\n",
    "\n",
    "mic = np.array([0.5, 0.05, 0.05])\n",
    "microphone = MicrophonePressure(domain, mic)"
   ]
  },
  {
   "cell_type": "markdown",
   "metadata": {},
   "source": [
    "## Frequency loop\n",
    "\n",
    "Finally, we can write the frequency loop, where we update the values of the frequency-dependent variables and solve the system for each frequency"
   ]
  },
  {
   "cell_type": "code",
   "execution_count": null,
   "metadata": {},
   "outputs": [],
   "source": [
    "for nf in range(0, len(freq)):\n",
    "    k.value = 2 * np.pi * freq[nf] / c\n",
    "    omega.value = 2 * np.pi * freq[nf]\n",
    "    Z.value = Z_s[nf]\n",
    "\n",
    "    problem.solve()\n",
    "    p_a.x.scatter_forward()\n",
    "\n",
    "    p_f = microphone.listen()\n",
    "    p_f = domain.comm.gather(p_f, root=0)\n",
    "\n",
    "    if domain.comm.rank == 0:\n",
    "        assert p_f is not None\n",
    "        p_mic[nf] = np.hstack(p_f)"
   ]
  },
  {
   "cell_type": "markdown",
   "metadata": {},
   "source": [
    "## SPL spectrum\n",
    "After the computation, the pressure spectrum at the prescribed location is available.\n",
    "Such a spectrum is usually shown using the decibel (dB) scale to obtain the SPL, with the RMS pressure as input,\n",
    "defined as $p_{rms} = \\frac{p}{\\sqrt{2}}$."
   ]
  },
  {
   "cell_type": "code",
   "execution_count": null,
   "metadata": {},
   "outputs": [],
   "source": [
    "if domain.comm.rank == 0:\n",
    "    import matplotlib.pyplot as plt\n",
    "\n",
    "    fig = plt.figure(figsize=(25, 8))\n",
    "    plt.plot(freq, 20 * np.log10(np.abs(p_mic) / np.sqrt(2) / 2e-5), linewidth=2)\n",
    "    plt.grid(True)\n",
    "    plt.xlabel(\"Frequency [Hz]\")\n",
    "    plt.ylabel(\"SPL [dB]\")\n",
    "    plt.xlim([freq[0], freq[-1]])\n",
    "    plt.ylim([0, 90])\n",
    "    plt.legend()\n",
    "    plt.show()"
   ]
  }
 ],
 "metadata": {
  "jupytext": {
   "formats": "ipynb,py:light"
  },
  "kernelspec": {
   "display_name": "Python 3 (DOLFINx complex)",
   "language": "python",
   "name": "python3-complex"
  },
  "language_info": {
   "codemirror_mode": {
    "name": "ipython",
    "version": 3
   },
   "file_extension": ".py",
   "mimetype": "text/x-python",
   "name": "python",
   "nbconvert_exporter": "python",
   "pygments_lexer": "ipython3",
   "version": "3.12.7"
  }
 },
 "nbformat": 4,
 "nbformat_minor": 2
}
