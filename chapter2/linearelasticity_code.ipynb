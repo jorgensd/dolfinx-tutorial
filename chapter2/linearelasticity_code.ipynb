{
 "cells": [
  {
   "cell_type": "markdown",
   "metadata": {},
   "source": [
    "# Implementation\n",
    "Author: Jørgen S. Dokken\n",
    "\n",
    "In this tutorial, you will learn how to:\n",
    "- Use a vector function space\n",
    "- Create a constant boundary condition on a vector space\n",
    "- Visualize cell wise constant functions\n",
    "- Compute Von Mises stresses\n",
    "\n",
    "## Test problem\n",
    "As a test example, we will model a clamped beam deformed under its own weigth in 3D. This can be modeled, by setting the right-hand side body force per unit volume to $f=(0,0,-\\rho g)$ with $\\rho$ the density of the beam and $g$ the acceleration of gravity. The beam is box-shaped with length $L$ and has a square cross section of width $W$. We set $u=u_D=(0,0,0)$ at the clamped end, x=0. The rest of the boundary is traction free, that is, we set $T=0$. We start by defining the physical variables used in the program."
   ]
  },
  {
   "cell_type": "code",
   "execution_count": null,
   "metadata": {
    "tags": []
   },
   "outputs": [],
   "source": [
    "# Scaled variable\n",
    "import pyvista\n",
    "from dolfinx import mesh, fem, plot, io, default_scalar_type\n",
    "from dolfinx.fem.petsc import LinearProblem\n",
    "from mpi4py import MPI\n",
    "import ufl\n",
    "import numpy as np\n",
    "L = 1\n",
    "W = 0.2\n",
    "mu = 1\n",
    "rho = 1\n",
    "delta = W / L\n",
    "gamma = 0.4 * delta**2\n",
    "beta = 1.25\n",
    "lambda_ = beta\n",
    "g = gamma"
   ]
  },
  {
   "cell_type": "markdown",
   "metadata": {},
   "source": [
    "We then create the mesh, which will consist of hexahedral elements, along with the function space.\n",
    "As we want a vector element with three compoenets, we add `(3, )` or `(domain.geometry.dim, )` to the element tuple to make it a triplet\n",
    "However, we also could have used `basix.ufl`s functionality, creating a vector element `element = basix.ufl.element(\"Lagrange\", domain.topology.cell_name(), 1, shape=(domain.geometry.dim,))`, and intitializing the function space as `V = dolfinx.fem.functionspace(domain, element)`."
   ]
  },
  {
   "cell_type": "code",
   "execution_count": null,
   "metadata": {
    "tags": []
   },
   "outputs": [],
   "source": [
    "domain = mesh.create_box(MPI.COMM_WORLD, [np.array([0, 0, 0]), np.array([L, W, W])],\n",
    "                         [20, 6, 6], cell_type=mesh.CellType.hexahedron)\n",
    "V = fem.functionspace(domain, (\"Lagrange\", 1, (domain.geometry.dim, )))"
   ]
  },
  {
   "cell_type": "markdown",
   "metadata": {},
   "source": [
    "## Boundary conditions\n",
    "As we would like to clamp the boundary at $x=0$, we do this by using a marker function, which locate the facets where $x$ is close to zero by machine precision."
   ]
  },
  {
   "cell_type": "code",
   "execution_count": null,
   "metadata": {},
   "outputs": [],
   "source": [
    "def clamped_boundary(x):\n",
    "    return np.isclose(x[0], 0)\n",
    "\n",
    "\n",
    "fdim = domain.topology.dim - 1\n",
    "boundary_facets = mesh.locate_entities_boundary(domain, fdim, clamped_boundary)\n",
    "\n",
    "u_D = np.array([0, 0, 0], dtype=default_scalar_type)\n",
    "bc = fem.dirichletbc(u_D, fem.locate_dofs_topological(V, fdim, boundary_facets), V)"
   ]
  },
  {
   "cell_type": "markdown",
   "metadata": {},
   "source": [
    "As we want the traction $T$ over the remaining boundary to be $0$, we create a `dolfinx.Constant`"
   ]
  },
  {
   "cell_type": "code",
   "execution_count": null,
   "metadata": {},
   "outputs": [],
   "source": [
    "T = fem.Constant(domain, default_scalar_type((0, 0, 0)))"
   ]
  },
  {
   "cell_type": "markdown",
   "metadata": {},
   "source": [
    "We also want to specify the integration measure $\\mathrm{d}s$, which should be the integral over the boundary of our domain. We do this by using `ufl`, and its built in integration measures"
   ]
  },
  {
   "cell_type": "code",
   "execution_count": null,
   "metadata": {},
   "outputs": [],
   "source": [
    "ds = ufl.Measure(\"ds\", domain=domain)"
   ]
  },
  {
   "cell_type": "markdown",
   "metadata": {},
   "source": [
    "## Variational formulation\n",
    "We are now ready to create our variational formulation in close to mathematical syntax, as for the previous problems."
   ]
  },
  {
   "cell_type": "code",
   "execution_count": null,
   "metadata": {},
   "outputs": [],
   "source": [
    "def epsilon(u):\n",
    "    return ufl.sym(ufl.grad(u))  # Equivalent to 0.5*(ufl.nabla_grad(u) + ufl.nabla_grad(u).T)\n",
    "\n",
    "\n",
    "def sigma(u):\n",
    "    return lambda_ * ufl.nabla_div(u) * ufl.Identity(len(u)) + 2 * mu * epsilon(u)\n",
    "\n",
    "\n",
    "u = ufl.TrialFunction(V)\n",
    "v = ufl.TestFunction(V)\n",
    "f = fem.Constant(domain, default_scalar_type((0, 0, -rho * g)))\n",
    "a = ufl.inner(sigma(u), epsilon(v)) * ufl.dx\n",
    "L = ufl.dot(f, v) * ufl.dx + ufl.dot(T, v) * ds"
   ]
  },
  {
   "cell_type": "markdown",
   "metadata": {},
   "source": [
    "```{note}\n",
    "Note that we used `nabla_grad` and optionally `nabla_div` for the variational formulation, as oposed to our previous usage of\n",
    "`div` and `grad`. This is because for scalar functions $\\nabla u$ has a clear meaning\n",
    "$\\nabla u = \\left(\\frac{\\partial u}{\\partial x}, \\frac{\\partial u}{\\partial y}, \\frac{\\partial u}{\\partial z} \\right)$.\n",
    "\n",
    "However, if $u$ is vector valued, the meaning is less clear. Some sources define $\\nabla u$ as a matrix with the elements $\\frac{\\partial u_j}{\\partial x_i}$, while other  sources prefer\n",
    "$\\frac{\\partial u_i}{\\partial x_j}$. In DOLFINx `grad(u)` is defined as the matrix with elements $\\frac{\\partial u_i}{\\partial x_j}$. However, as it is common in continuum mechanics to use the other definition, `ufl` supplies us with `nabla_grad` for this purpose.\n",
    "```\n",
    "\n",
    "## Solve the linear variational problem\n",
    "As in the previous demos, we assemble the matrix and right hand side vector and use PETSc to solve our variational problem"
   ]
  },
  {
   "cell_type": "code",
   "execution_count": null,
   "metadata": {},
   "outputs": [],
   "source": [
    "problem = LinearProblem(a, L, bcs=[bc], petsc_options={\"ksp_type\": \"preonly\", \"pc_type\": \"lu\"})\n",
    "uh = problem.solve()"
   ]
  },
  {
   "cell_type": "markdown",
   "metadata": {},
   "source": [
    "## Visualization"
   ]
  },
  {
   "cell_type": "markdown",
   "metadata": {},
   "source": [
    "As in the previous demos, we can either use Pyvista or Paraview for visualization. We start by using Pyvista. Instead of adding scalar values to the grid, we add vectors."
   ]
  },
  {
   "cell_type": "code",
   "execution_count": null,
   "metadata": {},
   "outputs": [],
   "source": [
    "pyvista.start_xvfb()\n",
    "\n",
    "# Create plotter and pyvista grid\n",
    "p = pyvista.Plotter()\n",
    "topology, cell_types, geometry = plot.vtk_mesh(V)\n",
    "grid = pyvista.UnstructuredGrid(topology, cell_types, geometry)\n",
    "\n",
    "# Attach vector values to grid and warp grid by vector\n",
    "grid[\"u\"] = uh.x.array.reshape((geometry.shape[0], 3))\n",
    "actor_0 = p.add_mesh(grid, style=\"wireframe\", color=\"k\")\n",
    "warped = grid.warp_by_vector(\"u\", factor=1.5)\n",
    "actor_1 = p.add_mesh(warped, show_edges=True)\n",
    "p.show_axes()\n",
    "if not pyvista.OFF_SCREEN:\n",
    "    p.show()\n",
    "else:\n",
    "    figure_as_array = p.screenshot(\"deflection.png\")"
   ]
  },
  {
   "cell_type": "markdown",
   "metadata": {},
   "source": [
    "We could also use Paraview for visualizing this.\n",
    "As explained in previous sections, we save the solution with `XDMFFile`.\n",
    "After opening the file `deformation.xdmf` in Paraview and pressing `Apply`, one can press the `Warp by vector button` ![Warp by vector](warp_by_vector.png) or go through the top menu (`Filters->Alphabetical->Warp by Vector`) and press `Apply`. We can also change the color of the deformed beam by changing the value in the color menu ![color](color.png) from `Solid Color` to `Deformation`."
   ]
  },
  {
   "cell_type": "code",
   "execution_count": null,
   "metadata": {},
   "outputs": [],
   "source": [
    "with io.XDMFFile(domain.comm, \"deformation.xdmf\", \"w\") as xdmf:\n",
    "    xdmf.write_mesh(domain)\n",
    "    uh.name = \"Deformation\"\n",
    "    xdmf.write_function(uh)"
   ]
  },
  {
   "cell_type": "markdown",
   "metadata": {},
   "source": [
    "## Stress computation\n",
    "As soon as the displacement is computed, we can compute various stress measures. We will compute the von Mises stress defined as $\\sigma_m=\\sqrt{\\frac{3}{2}s:s}$ where $s$ is the deviatoric stress tensor $s(u)=\\sigma(u)-\\frac{1}{3}\\mathrm{tr}(\\sigma(u))I$."
   ]
  },
  {
   "cell_type": "code",
   "execution_count": null,
   "metadata": {},
   "outputs": [],
   "source": [
    "s = sigma(uh) - 1. / 3 * ufl.tr(sigma(uh)) * ufl.Identity(len(uh))\n",
    "von_Mises = ufl.sqrt(3. / 2 * ufl.inner(s, s))"
   ]
  },
  {
   "cell_type": "markdown",
   "metadata": {},
   "source": [
    "The `von_Mises` variable is now an expression that must be projected into an appropriate function space so that we can visualize it. As `uh` is a linear combination of first order piecewise continuous functions, the von Mises stresses will be a cell-wise constant function."
   ]
  },
  {
   "cell_type": "code",
   "execution_count": null,
   "metadata": {},
   "outputs": [],
   "source": [
    "V_von_mises = fem.functionspace(domain, (\"DG\", 0))\n",
    "stress_expr = fem.Expression(von_Mises, V_von_mises.element.interpolation_points)\n",
    "stresses = fem.Function(V_von_mises)\n",
    "stresses.interpolate(stress_expr)"
   ]
  },
  {
   "cell_type": "markdown",
   "metadata": {},
   "source": [
    "In the previous sections, we have only visualized first order Lagrangian functions. However, the Von Mises stresses are piecewise constant on each cell. Therefore, we modify our plotting routine slightly. The first thing we notice is that we  now set values for each cell, which has a one to one correspondence with the degrees of freedom in the function space."
   ]
  },
  {
   "cell_type": "code",
   "execution_count": null,
   "metadata": {
    "tags": []
   },
   "outputs": [],
   "source": [
    "warped.cell_data[\"VonMises\"] = stresses.x.petsc_vec.array\n",
    "warped.set_active_scalars(\"VonMises\")\n",
    "p = pyvista.Plotter()\n",
    "p.add_mesh(warped)\n",
    "p.show_axes()\n",
    "if not pyvista.OFF_SCREEN:\n",
    "    p.show()\n",
    "else:\n",
    "    stress_figure = p.screenshot(f\"stresses.png\")"
   ]
  }
 ],
 "metadata": {
  "jupytext": {
   "formats": "ipynb,py:light"
  },
  "kernelspec": {
   "display_name": "Python 3 (ipykernel)",
   "language": "python",
   "name": "python3"
  },
  "language_info": {
   "codemirror_mode": {
    "name": "ipython",
    "version": 3
   },
   "file_extension": ".py",
   "mimetype": "text/x-python",
   "name": "python",
   "nbconvert_exporter": "python",
   "pygments_lexer": "ipython3",
   "version": "3.10.12"
  }
 },
 "nbformat": 4,
 "nbformat_minor": 4
}
