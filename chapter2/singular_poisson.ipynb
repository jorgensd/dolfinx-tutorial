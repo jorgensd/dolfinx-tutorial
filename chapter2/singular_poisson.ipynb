{
 "cells": [
  {
   "cell_type": "markdown",
   "id": "0",
   "metadata": {},
   "source": [
    "# Singular Poisson problem\n",
    "Author: Jørgen S. Dokken\n",
    "\n",
    "In this example, we will solve the singular Poisson problem by attaching information about the\n",
    "nullspace of the discretized problem to the matrix system."
   ]
  },
  {
   "cell_type": "markdown",
   "id": "1",
   "metadata": {},
   "source": [
    "The problem is defined as\n",
    "\n",
    "\\begin{align}\n",
    "   -\\Delta u &= f &&\\text{in } \\Omega,\\\\\n",
    "   -\\nabla u \\cdot \\mathbf{n} &= \\mathbf{g} &&\\text{on } \\partial\\Omega.\n",
    "\\end{align}\n",
    "\n",
    "This problem has a nullspace, i.e. if we take a solution of the problem above, say $\\tilde u$ and\n",
    "add a constant $c$ to it, $u_c=\\tilde u + c$, we still have a solution to the problem."
   ]
  },
  {
   "cell_type": "markdown",
   "id": "2",
   "metadata": {},
   "source": [
    "We will use a manufactured solution on a unit square to investigate this problem, namely\n",
    "\n",
    "\\begin{align}\n",
    " u(x, y) &= \\sin(2\\pi x)\\\\\n",
    " f(x, y) &= -4\\pi^2\\sin(2\\pi x)\\\\\n",
    " g(x, y) &=\n",
    " \\begin{cases}\n",
    "   -2\\pi  & \\text{if } x=0,\\\\\n",
    "   2\\pi & \\text{if } x=1,\\\\\n",
    "   0 & \\text{otherwise.}\n",
    " \\end{cases}\n",
    "\\end{align}"
   ]
  },
  {
   "cell_type": "markdown",
   "id": "3",
   "metadata": {},
   "source": [
    "As we have discretized the Poisson problem in other tutorials, we create a simple wrapper function to set up the variational problem,\n",
    "given a manufactured solution"
   ]
  },
  {
   "cell_type": "code",
   "execution_count": null,
   "id": "4",
   "metadata": {},
   "outputs": [],
   "source": [
    "import dolfinx.fem.petsc\n",
    "from mpi4py import MPI\n",
    "import numpy as np\n",
    "import typing\n",
    "import ufl\n",
    "\n",
    "\n",
    "def u_ex(mod, x):\n",
    "    return mod.sin(2 * mod.pi * x[0])\n",
    "\n",
    "\n",
    "def setup_problem(\n",
    "    N: int,\n",
    ") -> typing.Tuple[dolfinx.fem.FunctionSpace, dolfinx.fem.Form, dolfinx.fem.Form]:\n",
    "    \"\"\"Set up bilinear and linear form of the singular Poisson problem\n",
    "\n",
    "    Args:\n",
    "        N (int): Number of elements in each direction of the mesh.\n",
    "\n",
    "    Returns:\n",
    "        The function space, the bilinear form and the linear form of the problem.\n",
    "\n",
    "    \"\"\"\n",
    "\n",
    "    domain = dolfinx.mesh.create_unit_square(\n",
    "        MPI.COMM_WORLD, N, N, cell_type=dolfinx.mesh.CellType.quadrilateral\n",
    "    )\n",
    "    V = dolfinx.fem.functionspace(domain, (\"Lagrange\", 1))\n",
    "    u = ufl.TrialFunction(V)\n",
    "    v = ufl.TestFunction(V)\n",
    "\n",
    "    x = ufl.SpatialCoordinate(domain)\n",
    "    u_exact = u_ex(ufl, x)\n",
    "    f = -ufl.div(ufl.grad(u_exact))\n",
    "    n = ufl.FacetNormal(domain)\n",
    "    g = -ufl.dot(ufl.grad(u_exact), n)\n",
    "\n",
    "    F = ufl.dot(ufl.grad(u), ufl.grad(v)) * ufl.dx\n",
    "    F += ufl.inner(g, v) * ufl.ds\n",
    "    F -= f * v * ufl.dx\n",
    "    return V, *dolfinx.fem.form(ufl.system(F))"
   ]
  },
  {
   "cell_type": "markdown",
   "id": "5",
   "metadata": {},
   "source": [
    "With the above convenience function set up, we can now address the nullspace.\n",
    "We will use PETSc for this, by attaching additional information to the assembled matrices.\n",
    "PETSc has a convenience functon for creating constant nullspaces, which we will use here."
   ]
  },
  {
   "cell_type": "code",
   "execution_count": null,
   "id": "6",
   "metadata": {},
   "outputs": [],
   "source": [
    "from petsc4py import PETSc\n",
    "\n",
    "nullspace = PETSc.NullSpace().create(constant=True, comm=MPI.COMM_WORLD)"
   ]
  },
  {
   "cell_type": "markdown",
   "id": "7",
   "metadata": {},
   "source": [
    "## Direct solver\n",
    "We start by considering the singular problem using a direct solver (MUMPS).\n",
    "Mumps has some additional options to support singular matrices, which we will use."
   ]
  },
  {
   "cell_type": "code",
   "execution_count": null,
   "id": "8",
   "metadata": {},
   "outputs": [],
   "source": [
    "petsc_options = {\n",
    "    \"ksp_error_if_not_converged\": True,\n",
    "    \"ksp_type\": \"preonly\",\n",
    "    \"pc_type\": \"lu\",\n",
    "    \"pc_factor_mat_solver_type\": \"mumps\",\n",
    "    \"ksp_monitor\": None,\n",
    "}"
   ]
  },
  {
   "cell_type": "markdown",
   "id": "9",
   "metadata": {},
   "source": [
    "Next, we set up the the KSP solver"
   ]
  },
  {
   "cell_type": "code",
   "execution_count": null,
   "id": "10",
   "metadata": {},
   "outputs": [],
   "source": [
    "ksp = PETSc.KSP().create(MPI.COMM_WORLD)\n",
    "ksp.setOptionsPrefix(\"singular_direct\")\n",
    "opts = PETSc.Options()\n",
    "opts.prefixPush(ksp.getOptionsPrefix())\n",
    "for key, value in petsc_options.items():\n",
    "    opts[key] = value\n",
    "ksp.setFromOptions()\n",
    "for key, value in petsc_options.items():\n",
    "    del opts[key]\n",
    "opts.prefixPop()"
   ]
  },
  {
   "cell_type": "markdown",
   "id": "11",
   "metadata": {},
   "source": [
    "and we assemble the bilinear and linear forms, and create the matrix `A` and right hand side vector `b`."
   ]
  },
  {
   "cell_type": "code",
   "execution_count": null,
   "id": "12",
   "metadata": {},
   "outputs": [],
   "source": [
    "V, a, L = setup_problem(40)\n",
    "A = dolfinx.fem.petsc.assemble_matrix(a)\n",
    "A.assemble()\n",
    "b = dolfinx.fem.petsc.assemble_vector(L)\n",
    "b.ghostUpdate(addv=PETSc.InsertMode.ADD_VALUES, mode=PETSc.ScatterMode.REVERSE)\n",
    "ksp.setOperators(A)"
   ]
  },
  {
   "cell_type": "markdown",
   "id": "13",
   "metadata": {},
   "source": [
    "Next,  We first check that this indeed is the nullspace of `A`, then attach the nullspace to the matrix `A`."
   ]
  },
  {
   "cell_type": "code",
   "execution_count": null,
   "id": "14",
   "metadata": {},
   "outputs": [],
   "source": [
    "assert nullspace.test(A)\n",
    "A.setNullSpace(nullspace)"
   ]
  },
  {
   "cell_type": "markdown",
   "id": "15",
   "metadata": {},
   "source": [
    "Then, we can solve the linear system of equations"
   ]
  },
  {
   "cell_type": "code",
   "execution_count": null,
   "id": "16",
   "metadata": {},
   "outputs": [],
   "source": [
    "uh = dolfinx.fem.Function(V)\n",
    "ksp.solve(b, uh.x.petsc_vec)\n",
    "uh.x.scatter_forward()\n",
    "\n",
    "ksp.destroy()"
   ]
  },
  {
   "cell_type": "markdown",
   "id": "17",
   "metadata": {
    "lines_to_next_cell": 2
   },
   "source": [
    "We can now check the $L^2$-error against the analytical solution"
   ]
  },
  {
   "cell_type": "code",
   "execution_count": null,
   "id": "18",
   "metadata": {},
   "outputs": [],
   "source": [
    "def compute_L2_error(uh: dolfinx.fem.Function) -> float:\n",
    "    mesh = uh.function_space.mesh\n",
    "    u_exact = u_ex(ufl, ufl.SpatialCoordinate(mesh))\n",
    "    error_L2 = dolfinx.fem.form(ufl.inner(uh - u_exact, uh - u_exact) * ufl.dx)\n",
    "    error_local = dolfinx.fem.assemble_scalar(error_L2)\n",
    "    return np.sqrt(mesh.comm.allreduce(error_local, op=MPI.SUM))"
   ]
  },
  {
   "cell_type": "code",
   "execution_count": null,
   "id": "19",
   "metadata": {},
   "outputs": [],
   "source": [
    "print(f\"Direct solver L2 error {compute_L2_error(uh):.5e}\")"
   ]
  },
  {
   "cell_type": "markdown",
   "id": "20",
   "metadata": {},
   "source": [
    "We also check that the mean value of the solution is equal to the mean value of the manufactured solution."
   ]
  },
  {
   "cell_type": "code",
   "execution_count": null,
   "id": "21",
   "metadata": {},
   "outputs": [],
   "source": [
    "u_exact = u_ex(ufl, ufl.SpatialCoordinate(V.mesh))\n",
    "ex_mean = V.mesh.comm.allreduce(\n",
    "    dolfinx.fem.assemble_scalar(dolfinx.fem.form(u_exact * ufl.dx)), op=MPI.SUM\n",
    ")\n",
    "approx_mean = V.mesh.comm.allreduce(\n",
    "    dolfinx.fem.assemble_scalar(dolfinx.fem.form(uh * ufl.dx)), op=MPI.SUM\n",
    ")\n",
    "print(f\"Mean value of manufactured solution: {ex_mean}\")\n",
    "print(f\"Mean value of computed solution (direct solver): {approx_mean}\")\n",
    "assert np.isclose(ex_mean, approx_mean), \"Mean values do not match!\""
   ]
  },
  {
   "cell_type": "markdown",
   "id": "22",
   "metadata": {},
   "source": [
    "## Iterative solver\n",
    "We can also solve the problem above using an iterative solver,\n",
    "for instance GMRES with AMG preconditioning.\n",
    "We therefore select a new set of PETSc options, and create a new KSP solver."
   ]
  },
  {
   "cell_type": "code",
   "execution_count": null,
   "id": "23",
   "metadata": {},
   "outputs": [],
   "source": [
    "ksp_iterative = PETSc.KSP().create(MPI.COMM_WORLD)\n",
    "ksp_iterative.setOptionsPrefix(\"singular_iterative\")\n",
    "petsc_options_iterative = {\n",
    "    \"ksp_error_if_not_converged\": True,\n",
    "    \"ksp_monitor\": None,\n",
    "    \"ksp_type\": \"gmres\",\n",
    "    \"pc_type\": \"hypre\",\n",
    "    \"pc_hypre_type\": \"boomeramg\",\n",
    "    \"pc_hypre_boomeramg_max_iter\": 1,\n",
    "    \"pc_hypre_boomeramg_cycle_type\": \"v\",\n",
    "    \"ksp_rtol\": 1.0e-13,\n",
    "}\n",
    "opts.prefixPush(ksp_iterative.getOptionsPrefix())\n",
    "for key, value in petsc_options_iterative.items():\n",
    "    opts[key] = value\n",
    "ksp_iterative.setFromOptions()\n",
    "for key, value in petsc_options_iterative.items():\n",
    "    del opts[key]\n",
    "opts.prefixPop()"
   ]
  },
  {
   "cell_type": "markdown",
   "id": "24",
   "metadata": {},
   "source": [
    "Instead of setting the nullspace, we attach it as a near nullspace, for the multigrid preconditioner."
   ]
  },
  {
   "cell_type": "code",
   "execution_count": null,
   "id": "25",
   "metadata": {},
   "outputs": [],
   "source": [
    "A_iterative = dolfinx.fem.petsc.assemble_matrix(a)\n",
    "A_iterative.assemble()\n",
    "A_iterative.setNearNullSpace(nullspace)\n",
    "ksp_iterative.setOperators(A_iterative)"
   ]
  },
  {
   "cell_type": "code",
   "execution_count": null,
   "id": "26",
   "metadata": {},
   "outputs": [],
   "source": [
    "uh_iterative = dolfinx.fem.Function(V)"
   ]
  },
  {
   "cell_type": "code",
   "execution_count": null,
   "id": "27",
   "metadata": {},
   "outputs": [],
   "source": [
    "ksp_iterative.solve(b, uh_iterative.x.petsc_vec)\n",
    "uh_iterative.x.scatter_forward()"
   ]
  },
  {
   "cell_type": "markdown",
   "id": "28",
   "metadata": {
    "lines_to_next_cell": 2
   },
   "source": [
    "For the iterative solver, we subtract the mean value of the approximated solution,\n",
    "and add the mean value of manufactured solution before computing the error."
   ]
  },
  {
   "cell_type": "code",
   "execution_count": null,
   "id": "29",
   "metadata": {},
   "outputs": [],
   "source": [
    "approx_mean = V.mesh.comm.allreduce(\n",
    "    dolfinx.fem.assemble_scalar(dolfinx.fem.form(uh_iterative * ufl.dx)), op=MPI.SUM\n",
    ")\n",
    "print(\"Mean value of computed solution (iterative solver):\", approx_mean)\n",
    "uh_iterative.x.array[:] += ex_mean - approx_mean\n",
    "approx_mean = V.mesh.comm.allreduce(\n",
    "    dolfinx.fem.assemble_scalar(dolfinx.fem.form(uh_iterative * ufl.dx)), op=MPI.SUM\n",
    ")\n",
    "print(\n",
    "    \"Mean value of computed solution (iterative solver) post normalization:\",\n",
    "    approx_mean,\n",
    ")\n",
    "print(f\"Iterative solver L2 error {compute_L2_error(uh_iterative):.5e}\")"
   ]
  },
  {
   "cell_type": "code",
   "execution_count": null,
   "id": "30",
   "metadata": {},
   "outputs": [],
   "source": [
    "np.testing.assert_allclose(uh.x.array, uh_iterative.x.array, rtol=1e-10, atol=1e-12)"
   ]
  }
 ],
 "metadata": {
  "jupytext": {
   "cell_metadata_filter": "-all",
   "formats": "ipynb,py:light",
   "main_language": "python"
  }
 },
 "nbformat": 4,
 "nbformat_minor": 5
}
