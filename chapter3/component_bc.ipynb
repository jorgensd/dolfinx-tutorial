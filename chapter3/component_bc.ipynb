{
 "cells": [
  {
   "cell_type": "markdown",
   "metadata": {},
   "source": [
    "# Component-wise Dirichlet BC\n",
    "Author: Jørgen S. Dokken\n",
    "\n",
    "In this section, we will learn how to prescribe Dirichlet boundary conditions on a component of your unknown $u_h$.\n",
    "We will illustrate the problem using a vector element. However, the method generalizes to any mixed element.\n",
    "\n",
    "We will use a slightly modified version of [the linear elasticity demo](./../chapter2/linearelasticity_code), namely\n",
    "\n",
    "$$\n",
    "-\\nabla \\cdot \\sigma (u) = f\\quad \\text{in } \\Omega,\n",
    "$$\n",
    "\n",
    "$$\n",
    "\\sigma \\cdot n = 0 \\quad \\text{on } \\partial \\Omega_N,\n",
    "$$\n",
    "\n",
    "$$\n",
    "u= 0\\quad \\text{at } \\partial\\Omega_{D},\n",
    "$$\n",
    "\n",
    "$$\n",
    "u_x=0 \\quad \\text{at } \\partial\\Omega_{Dx},\n",
    "$$\n",
    "\n",
    "$$\n",
    "\\sigma(u)= \\lambda \\mathrm{tr}(\\epsilon(u))I + 2 \\mu \\epsilon(u), \\qquad \\epsilon(u) = \\frac{1}{2}\\left(\\nabla u + (\\nabla u )^T\\right).\n",
    "$$\n",
    "We will consider a two dimensional box spanning $[0,L]\\times[0,H]$, where\n",
    "$\\partial\\Omega_N$ is the left and right side of the beam, $\\partial\\Omega_D$ the bottom of the  beam, while $\\partial\\Omega_{Dx}$ is the right side of the beam.\n",
    "We will prescribe a displacement $u_x=0$ on the right side of the beam, while the beam is being deformed under its own weight. The sides of the box are traction free."
   ]
  },
  {
   "cell_type": "code",
   "execution_count": null,
   "metadata": {
    "tags": []
   },
   "outputs": [],
   "source": [
    "import pyvista\n",
    "import numpy as np\n",
    "import sys\n",
    "from mpi4py import MPI\n",
    "from ufl import (\n",
    "    Identity,\n",
    "    Measure,\n",
    "    TestFunction,\n",
    "    TrialFunction,\n",
    "    dot,\n",
    "    dx,\n",
    "    inner,\n",
    "    grad,\n",
    "    nabla_div,\n",
    "    sym,\n",
    ")\n",
    "from dolfinx import default_scalar_type\n",
    "from dolfinx.mesh import CellType, create_rectangle, locate_entities_boundary\n",
    "from dolfinx.fem.petsc import LinearProblem\n",
    "from dolfinx.fem import (\n",
    "    Constant,\n",
    "    dirichletbc,\n",
    "    Function,\n",
    "    functionspace,\n",
    "    locate_dofs_geometrical,\n",
    "    locate_dofs_topological,\n",
    ")\n",
    "from dolfinx.plot import vtk_mesh\n",
    "\n",
    "L = 1\n",
    "H = 1.3\n",
    "lambda_ = 1.25\n",
    "mu = 1\n",
    "rho = 1\n",
    "g = 1"
   ]
  },
  {
   "cell_type": "markdown",
   "metadata": {},
   "source": [
    "As in the previous demos, we define our mesh and function space."
   ]
  },
  {
   "cell_type": "code",
   "execution_count": null,
   "metadata": {
    "lines_to_next_cell": 2,
    "tags": []
   },
   "outputs": [],
   "source": [
    "mesh = create_rectangle(\n",
    "    MPI.COMM_WORLD, np.array([[0, 0], [L, H]]), [30, 30], cell_type=CellType.triangle\n",
    ")\n",
    "V = functionspace(mesh, (\"Lagrange\", 1, (mesh.geometry.dim,)))"
   ]
  },
  {
   "cell_type": "markdown",
   "metadata": {
    "lines_to_next_cell": 2
   },
   "source": [
    "## Boundary conditions\n",
    "As we would like to clamp the boundary at $x=0$, we do this by using a marker function, we use `dolfinx.fem.locate_dofs_geometrical` to identify the relevant degrees of freedom."
   ]
  },
  {
   "cell_type": "code",
   "execution_count": null,
   "metadata": {
    "tags": []
   },
   "outputs": [],
   "source": [
    "def clamped_boundary(x):\n",
    "    return np.isclose(x[1], 0)\n",
    "\n",
    "\n",
    "u_zero = np.array((0,) * mesh.geometry.dim, dtype=default_scalar_type)\n",
    "bc = dirichletbc(u_zero, locate_dofs_geometrical(V, clamped_boundary), V)"
   ]
  },
  {
   "cell_type": "markdown",
   "metadata": {},
   "source": [
    "Next we would like to constrain the $x$-component of our solution at $x=L$ to $0$. We start by creating the sub space only containing the $x$\n",
    "-component."
   ]
  },
  {
   "cell_type": "markdown",
   "metadata": {
    "lines_to_next_cell": 2
   },
   "source": [
    "Next, we locate the degrees of freedom on the top boundary.\n",
    "However, as the boundary condition is in a sub space of our solution,\n",
    "we have to carefully decide whoe to locate the degrees of freedom.\n",
    "In the example below, we will use a constant value as the prescribed value.\n",
    "This means that we can use `dolfinx.fem.locate_dofs_topological`\n",
    "on the (un-collapsed) sub space to locate the degrees of freedom on the boundary.\n",
    "If you want to use a spatially dependent function, see\n",
    "[FEniCS Workshop: Dirichlet conditions in mixed spaces](https://jsdokken.com/FEniCS-workshop/src/deep_dive/mixed_problems.html#dirichlet-conditions-in-mixed-spaces)\n",
    "for a detailed discussion."
   ]
  },
  {
   "cell_type": "code",
   "execution_count": null,
   "metadata": {
    "tags": []
   },
   "outputs": [],
   "source": [
    "def right(x):\n",
    "    return np.logical_and(np.isclose(x[0], L), x[1] < H)\n",
    "\n",
    "\n",
    "boundary_facets = locate_entities_boundary(mesh, mesh.topology.dim - 1, right)\n",
    "boundary_dofs_x = locate_dofs_topological(\n",
    "    V.sub(0), mesh.topology.dim - 1, boundary_facets\n",
    ")"
   ]
  },
  {
   "cell_type": "markdown",
   "metadata": {},
   "source": [
    "We can now create our Dirichlet condition"
   ]
  },
  {
   "cell_type": "code",
   "execution_count": null,
   "metadata": {
    "tags": []
   },
   "outputs": [],
   "source": [
    "bcx = dirichletbc(default_scalar_type(0), boundary_dofs_x, V.sub(0))\n",
    "bcs = [bc, bcx]"
   ]
  },
  {
   "cell_type": "markdown",
   "metadata": {},
   "source": [
    "As we want the traction $T$ over the remaining boundary to be $0$, we create a `dolfinx.fem.Constant`"
   ]
  },
  {
   "cell_type": "code",
   "execution_count": null,
   "metadata": {
    "tags": []
   },
   "outputs": [],
   "source": [
    "T = Constant(mesh, default_scalar_type((0, 0)))"
   ]
  },
  {
   "cell_type": "markdown",
   "metadata": {},
   "source": [
    "We also want to specify the integration measure $\\mathrm{d}s$, which should be the integral over the boundary of our domain. We do this by using `ufl`, and its built in integration measures"
   ]
  },
  {
   "cell_type": "code",
   "execution_count": null,
   "metadata": {
    "lines_to_next_cell": 2,
    "tags": []
   },
   "outputs": [],
   "source": [
    "ds = Measure(\"ds\", domain=mesh)"
   ]
  },
  {
   "cell_type": "markdown",
   "metadata": {
    "lines_to_next_cell": 2
   },
   "source": [
    "## Variational formulation\n",
    "We are now ready to create our variational formulation in close to mathematical syntax, as for the previous problems."
   ]
  },
  {
   "cell_type": "code",
   "execution_count": null,
   "metadata": {
    "tags": []
   },
   "outputs": [],
   "source": [
    "def epsilon(u):\n",
    "    return sym(grad(u))\n",
    "\n",
    "\n",
    "def sigma(u):\n",
    "    return lambda_ * nabla_div(u) * Identity(len(u)) + 2 * mu * epsilon(u)\n",
    "\n",
    "\n",
    "u = TrialFunction(V)\n",
    "v = TestFunction(V)\n",
    "f = Constant(mesh, default_scalar_type((0, -rho * g)))\n",
    "a = inner(sigma(u), epsilon(v)) * dx\n",
    "L = dot(f, v) * dx + dot(T, v) * ds"
   ]
  },
  {
   "cell_type": "markdown",
   "metadata": {},
   "source": [
    "## Solve the linear variational problem\n",
    "As in the previous demos, we assemble the matrix and right hand side vector and use PETSc to solve our variational problem"
   ]
  },
  {
   "cell_type": "code",
   "execution_count": null,
   "metadata": {
    "tags": []
   },
   "outputs": [],
   "source": [
    "problem = LinearProblem(\n",
    "    a,\n",
    "    L,\n",
    "    bcs=bcs,\n",
    "    petsc_options={\"ksp_type\": \"preonly\", \"pc_type\": \"lu\"},\n",
    "    petsc_options_prefix=\"component_bc_\",\n",
    ")\n",
    "uh = problem.solve()"
   ]
  },
  {
   "cell_type": "markdown",
   "metadata": {},
   "source": [
    "## Visualization"
   ]
  },
  {
   "cell_type": "code",
   "execution_count": null,
   "metadata": {
    "tags": []
   },
   "outputs": [],
   "source": [
    "if sys.platform == \"linux\" and pyvista.OFF_SCREEN:\n",
    "    pyvista.start_xvfb(1.0)\n",
    "\n",
    "# Create plotter and pyvista grid\n",
    "p = pyvista.Plotter()\n",
    "topology, cell_types, x = vtk_mesh(V)\n",
    "grid = pyvista.UnstructuredGrid(topology, cell_types, x)\n",
    "\n",
    "# Attach vector values to grid and warp grid by vector\n",
    "\n",
    "vals = np.zeros((x.shape[0], 3))\n",
    "vals[:, : len(uh)] = uh.x.array.reshape((x.shape[0], len(uh)))\n",
    "grid[\"u\"] = vals\n",
    "actor_0 = p.add_mesh(grid, style=\"wireframe\", color=\"k\")\n",
    "warped = grid.warp_by_vector(\"u\", factor=1.5)\n",
    "actor_1 = p.add_mesh(warped, opacity=0.8)\n",
    "p.view_xy()\n",
    "if not pyvista.OFF_SCREEN:\n",
    "    p.show()\n",
    "else:\n",
    "    fig_array = p.screenshot(\"component.png\")"
   ]
  }
 ],
 "metadata": {
  "jupytext": {
   "formats": "ipynb,py:light"
  },
  "kernelspec": {
   "display_name": "Python 3 (ipykernel)",
   "language": "python",
   "name": "python3"
  },
  "language_info": {
   "codemirror_mode": {
    "name": "ipython",
    "version": 3
   },
   "file_extension": ".py",
   "mimetype": "text/x-python",
   "name": "python",
   "nbconvert_exporter": "python",
   "pygments_lexer": "ipython3",
   "version": "3.10.12"
  }
 },
 "nbformat": 4,
 "nbformat_minor": 4
}
