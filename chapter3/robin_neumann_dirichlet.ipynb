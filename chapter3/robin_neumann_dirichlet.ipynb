{
 "cells": [
  {
   "cell_type": "markdown",
   "metadata": {},
   "source": [
    "# Setting multiple Dirichlet, Neumann, and Robin conditions\n",
    "Author: Hans Petter Langtangen and Anders Logg\n",
    "\n",
    "We consider the variable coefficient example from [the previous section](subdomains.ipynb). In this section we will cover how to apply a mixture of Dirichlet, Neumann and Robin type boundary conditions for this type of problem.\n",
    "\n",
    "We divide our boundary into three distinct sections:\n",
    "- $\\Gamma_D$ for Dirichlet conditions:\n",
    "$u=u_D^i \\text{ on } \\Gamma_D^i, \\dots$ where $\\Gamma_D=\\Gamma_D^0\\cup \\Gamma_D^1 \\cup \\dots$.\n",
    "- $\\Gamma_N$ for Neumann conditions: $-\\kappa \\frac{\\partial u}{\\partial n}=g_j \\text{ on } \\Gamma_N^j$ where $\\Gamma_N=\\Gamma_N^0\\cup \\Gamma_N^1 \\cup \\dots$.\n",
    "- $\\Gamma_R$ for Robin conditions: $-\\kappa \\frac{\\partial u}{\\partial n}=r(u-s)$\n",
    "\n",
    "where $r$ and $s$ are specified functions. The Robin condition is most often used to model heat transfer to the surroundings and arises naturally from Newton's cooling law.\n",
    "In that case, $r$ is a heat transfer coefficient, and $s$ is the temperature of the surroundings. \n",
    "Both can be space and time-dependent. The Robin conditions apply at some parts $\\Gamma_R^0,\\Gamma_R^1,\\dots$, of the boundary:\n",
    "\n",
    "$$\n",
    "    -\\kappa \\frac{\\partial u}{\\partial n}=r_k(u-s_k) \\text{ on } \\Gamma_R^k\n",
    "$$\n",
    "\n",
    "\n",
    "## The PDE problem and variational formulation\n",
    "We can summarize the PDE problem as\n",
    "\n",
    "$$\n",
    "-\\nabla (\\kappa \\nabla u) = f \\qquad \\text{in } \\Omega,\n",
    "$$\n",
    "$$\n",
    "u=u_D^i \\qquad \\text{on } \\Gamma_D^i,\n",
    "$$\n",
    "$$\n",
    "-\\kappa \\frac{\\partial u}{\\partial n}=g_j \\quad\\text{on } \\Gamma_N^j,\n",
    "$$\n",
    "$$\n",
    "-\\kappa \\frac{\\partial u}{\\partial n}=r_k(u-s_k)\\quad \\text{ on } \\Gamma_R^k, \n",
    "$$\n",
    "\n",
    "As usual, we multiply by a test function and integrate by parts.\n",
    "\n",
    "$$\n",
    "-\\int_{\\Omega}\\nabla \\cdot (\\kappa \\nabla u)v ~\\mathrm{d} x = \\int_{\\Omega}\\kappa \\nabla u\\cdot \\nabla v~\\mathrm{d} x - \\int_{\\partial\\Omega}\\kappa \\frac{\\partial u}{\\partial n} v ~\\mathrm{d} s.\n",
    "$$\n",
    "\n",
    "On the Dirichlet part ($\\Gamma_D^i$), the boundary integral vanishes since $v=0$. On the remaining part of the boundary, we split the boundary into contributions from the Neumann parts ($\\Gamma_N^i$) and Robin parts ($\\Gamma_R^i$).\n",
    "Inserting the boundary conditions, we obtain\n",
    "\n",
    "$$\n",
    "-\\int_{\\partial\\Omega}\\kappa\\frac{\\partial u }{\\partial n }v~\\mathrm{d} s=\\sum_i \\int_{\\Gamma_N^i} g_iv~\\mathrm{d} s + \\sum_i\\int_{\\Gamma_R^i}r_i(u-s_i)v~\\mathrm{d}s.\n",
    "$$\n",
    "\n",
    "Thus we have the following variational problem\n",
    "\n",
    "$$\n",
    "F(u, v)=\\int_\\Omega \\kappa \\nabla u \\cdot \\nabla v~\\mathrm{d} x + \\sum_i\\int_{\\Gamma_N^i}g_i v~\\mathrm{d}s +\\sum_i\\int_{\\Gamma_R^i}r_i(u-s_i)v~\\mathrm{d}s - \\int_\\Omega fv~\\mathrm{d} x = 0.\n",
    "$$\n",
    "\n",
    "We have been used to writing the variational formulation as $a(u,v)=L(v)$, which requires that we identify the integrals dependent on the trial function $u$ and collect these in $a(u,v)$, while the remaining terms form $L(v)$. We note that the Robin condition has a contribution to both $a(u,v)$ and $L(v)$. \n",
    "We then have\n",
    "\n",
    "$$\n",
    "a(u,v)= \\int_{\\Omega} \\kappa \\nabla u \\cdot \\nabla v ~\\mathrm{d} x + \\sum_i \\int_{\\Gamma_R^i}r_i u v~\\mathrm{d} s,\n",
    "$$\n",
    "$$\n",
    "L(v) = \\int_{\\Omega} fv~\\mathrm{d} x - \\sum_i \\int_{\\Gamma_N^i}g_i v~\\mathrm{d} s + \\sum_i \\int_{\\Gamma_R^i}r_i s_i v ~\\mathrm{d}s.\n",
    "$$"
   ]
  },
  {
   "cell_type": "markdown",
   "metadata": {},
   "source": [
    "## Implementation\n",
    "Author: Jørgen S. Dokken\n",
    "\n",
    "We start by defining the domain $\\Omega$ as the unit square $[0,1]\\times[0,1]$."
   ]
  },
  {
   "cell_type": "code",
   "execution_count": null,
   "metadata": {},
   "outputs": [],
   "source": [
    "from dolfinx import default_scalar_type\n",
    "from dolfinx.fem import (Constant,  Function, functionspace, assemble_scalar, \n",
    "                         dirichletbc, form, locate_dofs_topological)\n",
    "from dolfinx.fem.petsc import LinearProblem\n",
    "from dolfinx.io import XDMFFile\n",
    "from dolfinx.mesh import create_unit_square, locate_entities, meshtags\n",
    "from dolfinx.plot import vtk_mesh\n",
    "\n",
    "from mpi4py import MPI\n",
    "from ufl import (FacetNormal, Measure, SpatialCoordinate, TestFunction, TrialFunction, \n",
    "                 div, dot, dx, grad, inner, lhs, rhs)\n",
    "\n",
    "import numpy as np\n",
    "import pyvista\n",
    "\n",
    "mesh = create_unit_square(MPI.COMM_WORLD, 10, 10)"
   ]
  },
  {
   "cell_type": "markdown",
   "metadata": {},
   "source": [
    "In this section, we will solve the Poisson problem for the manufactured solution $u_{ex} = 1+x^2+2y^2$, which yields $\\kappa=1$, $f=-6$. The next step is to define the parameters of the boundary condition, and where we should apply them. In this example, we will apply the following\n",
    "\n",
    "$$\n",
    "u = u_D \\qquad \\text{for } x=0,1\n",
    "$$\n",
    "$$\n",
    "-\\kappa \\frac{\\partial u}{\\partial n} = r(u-s) \\quad \\text{for } y=0\n",
    "$$\n",
    "$$\n",
    "-\\kappa \\frac{\\partial u}{\\partial n} =g_0 \\quad\\text{for } y = 1\n",
    "$$\n",
    "\n",
    "To reproduce the analytical solution, we have that \n",
    "\n",
    "$$\n",
    "    u_D=u_{ex}=1+x^2+2y^2\n",
    "$$\n",
    "$$\n",
    "    g_0=-\\left.\\frac{\\partial u_{ex}}{\\partial y}\\right\\vert_{y=1}=-4y\\vert_{y=1}=-4\n",
    "$$\n",
    "\n",
    "The Robin condition can be specified in many ways. As\n",
    "$-\\left.\\frac{\\partial u_{ex}}{\\partial n}\\right\\vert_{y=0}=\\left.\\frac{\\partial u_{ex}}{\\partial y}\\right\\vert_{y=0}=4y=0,$\n",
    "we can specify $r\\neq 0$ arbitrarily and $s=u_{ex}$. We choose $r=1000$.\n",
    "We can now create all the necessary variable definitions and the traditional part of the variational form."
   ]
  },
  {
   "cell_type": "code",
   "execution_count": null,
   "metadata": {},
   "outputs": [],
   "source": [
    "u_ex = lambda x: 1 + x[0]**2 + 2*x[1]**2\n",
    "x = SpatialCoordinate(mesh)\n",
    "# Define physical parameters and boundary condtions\n",
    "s = u_ex(x)\n",
    "f = -div(grad(u_ex(x)))\n",
    "n = FacetNormal(mesh)\n",
    "g = -dot(n, grad(u_ex(x)))\n",
    "kappa = Constant(mesh, default_scalar_type(1))\n",
    "r = Constant(mesh, default_scalar_type(1000))\n",
    "# Define function space and standard part of variational form\n",
    "V = functionspace(mesh, (\"Lagrange\", 1))\n",
    "u, v = TrialFunction(V), TestFunction(V)\n",
    "F = kappa * inner(grad(u), grad(v)) * dx - inner(f, v) * dx"
   ]
  },
  {
   "cell_type": "markdown",
   "metadata": {},
   "source": [
    "We start by identifying the facets contained in each boundary and create a custom integration measure `ds`."
   ]
  },
  {
   "cell_type": "code",
   "execution_count": null,
   "metadata": {},
   "outputs": [],
   "source": [
    "boundaries = [(1, lambda x: np.isclose(x[0], 0)),\n",
    "              (2, lambda x: np.isclose(x[0], 1)),\n",
    "              (3, lambda x: np.isclose(x[1], 0)),\n",
    "              (4, lambda x: np.isclose(x[1], 1))]"
   ]
  },
  {
   "cell_type": "markdown",
   "metadata": {},
   "source": [
    "We now loop through all the boundary conditions and create `MeshTags` identifying the facets for each boundary condition."
   ]
  },
  {
   "cell_type": "code",
   "execution_count": null,
   "metadata": {},
   "outputs": [],
   "source": [
    "facet_indices, facet_markers = [], []\n",
    "fdim = mesh.topology.dim - 1\n",
    "for (marker, locator) in boundaries:\n",
    "    facets = locate_entities(mesh, fdim, locator)\n",
    "    facet_indices.append(facets)\n",
    "    facet_markers.append(np.full_like(facets, marker))\n",
    "facet_indices = np.hstack(facet_indices).astype(np.int32)\n",
    "facet_markers = np.hstack(facet_markers).astype(np.int32)\n",
    "sorted_facets = np.argsort(facet_indices)\n",
    "facet_tag = meshtags(mesh, fdim, facet_indices[sorted_facets], facet_markers[sorted_facets])"
   ]
  },
  {
   "cell_type": "markdown",
   "metadata": {},
   "source": [
    "## Debugging boundary condition\n",
    "To debug boundary conditions, the easiest thing to do is to visualize the boundary in Paraview by writing the `MeshTags` to file. We can then inspect individual boundaries using the `Threshold`-filter."
   ]
  },
  {
   "cell_type": "code",
   "execution_count": null,
   "metadata": {},
   "outputs": [],
   "source": [
    "mesh.topology.create_connectivity(mesh.topology.dim-1, mesh.topology.dim)\n",
    "with XDMFFile(mesh.comm, \"facet_tags.xdmf\", \"w\") as xdmf:\n",
    "    xdmf.write_mesh(mesh)\n",
    "    xdmf.write_meshtags(facet_tag, mesh.geometry)"
   ]
  },
  {
   "cell_type": "markdown",
   "metadata": {},
   "source": [
    "Now we can create a custom integration measure `ds`, which can be used to restrict integration. If we integrate over `ds(1)`, we only integrate over facets marked with value 1 in the corresponding `facet_tag`."
   ]
  },
  {
   "cell_type": "code",
   "execution_count": null,
   "metadata": {},
   "outputs": [],
   "source": [
    "ds = Measure(\"ds\", domain=mesh, subdomain_data=facet_tag)"
   ]
  },
  {
   "cell_type": "markdown",
   "metadata": {},
   "source": [
    "We can now create a general boundary condition class."
   ]
  },
  {
   "cell_type": "code",
   "execution_count": null,
   "metadata": {},
   "outputs": [],
   "source": [
    "class BoundaryCondition():\n",
    "    def __init__(self, type, marker, values):\n",
    "        self._type = type\n",
    "        if type == \"Dirichlet\":\n",
    "            u_D = Function(V)\n",
    "            u_D.interpolate(values)\n",
    "            facets = facet_tag.find(marker)\n",
    "            dofs = locate_dofs_topological(V, fdim, facets)\n",
    "            self._bc = dirichletbc(u_D, dofs)\n",
    "        elif type == \"Neumann\":\n",
    "                self._bc = inner(values, v) * ds(marker)\n",
    "        elif type == \"Robin\":\n",
    "            self._bc = values[0] * inner(u-values[1], v)* ds(marker)\n",
    "        else:\n",
    "            raise TypeError(\"Unknown boundary condition: {0:s}\".format(type))\n",
    "    @property\n",
    "    def bc(self):\n",
    "        return self._bc\n",
    "\n",
    "    @property\n",
    "    def type(self):\n",
    "        return self._type\n",
    "\n",
    "# Define the Dirichlet condition\n",
    "boundary_conditions = [BoundaryCondition(\"Dirichlet\", 1, u_ex),\n",
    "                       BoundaryCondition(\"Dirichlet\", 2, u_ex),\n",
    "                       BoundaryCondition(\"Robin\", 3, (r, s)),\n",
    "                       BoundaryCondition(\"Neumann\", 4, g)]\n"
   ]
  },
  {
   "cell_type": "markdown",
   "metadata": {},
   "source": [
    "We can now loop through the boundary condition and append them to `L(v)` or the list of Dirichlet boundary conditions"
   ]
  },
  {
   "cell_type": "code",
   "execution_count": null,
   "metadata": {},
   "outputs": [],
   "source": [
    "bcs = []\n",
    "for condition in boundary_conditions:\n",
    "    if condition.type == \"Dirichlet\":\n",
    "        bcs.append(condition.bc)\n",
    "    else:\n",
    "        F += condition.bc"
   ]
  },
  {
   "cell_type": "markdown",
   "metadata": {},
   "source": [
    "We can now create the bilinear form $a$ and linear form $L$ by using the `ufl`-functions `lhs` and `rhs`"
   ]
  },
  {
   "cell_type": "code",
   "execution_count": null,
   "metadata": {},
   "outputs": [],
   "source": [
    "# Solve linear variational problem\n",
    "a = lhs(F)\n",
    "L = rhs(F)\n",
    "problem = LinearProblem(a, L, bcs=bcs, petsc_options={\"ksp_type\": \"preonly\", \"pc_type\": \"lu\"})\n",
    "uh = problem.solve()\n",
    "\n",
    "# Visualize solution\n",
    "pyvista_cells, cell_types, geometry = vtk_mesh(V)\n",
    "grid = pyvista.UnstructuredGrid(pyvista_cells, cell_types, geometry)\n",
    "grid.point_data[\"u\"] = uh.x.array\n",
    "grid.set_active_scalars(\"u\")\n",
    "\n",
    "plotter = pyvista.Plotter()\n",
    "plotter.add_text(\"uh\", position=\"upper_edge\", font_size=14, color=\"black\")\n",
    "plotter.add_mesh(grid, show_edges=True)\n",
    "plotter.view_xy()\n",
    "if not pyvista.OFF_SCREEN:\n",
    "    plotter.show()\n",
    "else:\n",
    "    figure = plotter.screenshot(\"robin_neumann_dirichlet.png\")"
   ]
  },
  {
   "cell_type": "markdown",
   "metadata": {},
   "source": [
    "## Verification\n",
    "As for the previous problems, we compute the error of our computed solution and compare it with the analytical solution."
   ]
  },
  {
   "cell_type": "code",
   "execution_count": null,
   "metadata": {
    "lines_to_next_cell": 0
   },
   "outputs": [],
   "source": [
    "# Compute L2 error and error at nodes\n",
    "V_ex = functionspace(mesh, (\"Lagrange\", 2))\n",
    "u_exact = Function(V_ex)\n",
    "u_exact.interpolate(u_ex)\n",
    "error_L2 = np.sqrt(mesh.comm.allreduce(assemble_scalar(form((uh - u_exact)**2 * dx)), op=MPI.SUM))\n",
    "\n",
    "u_vertex_values = uh.x.array\n",
    "uex_1 = Function(V)\n",
    "uex_1.interpolate(u_ex)\n",
    "u_ex_vertex_values = uex_1.x.array\n",
    "error_max = np.max(np.abs(u_vertex_values - u_ex_vertex_values))\n",
    "error_max = mesh.comm.allreduce(error_max, op=MPI.MAX)\n",
    "print(f\"Error_L2 : {error_L2:.2e}\")\n",
    "print(f\"Error_max : {error_max:.2e}\")"
   ]
  },
  {
   "cell_type": "code",
   "execution_count": null,
   "metadata": {
    "lines_to_next_cell": 2
   },
   "outputs": [],
   "source": []
  }
 ],
 "metadata": {
  "jupytext": {
   "formats": "ipynb,py:light"
  },
  "kernelspec": {
   "display_name": "Python 3 (ipykernel)",
   "language": "python",
   "name": "python3"
  },
  "language_info": {
   "codemirror_mode": {
    "name": "ipython",
    "version": 3
   },
   "file_extension": ".py",
   "mimetype": "text/x-python",
   "name": "python",
   "nbconvert_exporter": "python",
   "pygments_lexer": "ipython3",
   "version": "3.10.12"
  }
 },
 "nbformat": 4,
 "nbformat_minor": 4
}
