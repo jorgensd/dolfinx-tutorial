{
 "cells": [
  {
   "cell_type": "markdown",
   "id": "0",
   "metadata": {},
   "source": [
    "# The FEniCSx tutorial\n",
    "Author: Jørgen S. Dokken\n",
    "\n",
    "These webpages give a concise overview of the functionality of [DOLFINx](https://github.com/FEniCS/dolfinx/), including a gentle introduction to the finite element method.\n",
    "This webpage started as an adaptation of the FEniCS tutorial {cite}`FenicsTutorial`, but has evolved into a larger subset of tutorials.\n",
    "\n",
    "DOLFINx can be used as either C++ or Python software, but this tutorial will focus on Python programming, as it is the simplest and most effective approach for beginners. After having gone through this tutorial, the reader should familiarize themselves with the DOLFINx [documentation](https://docs.fenicsproject.org/dolfinx/main/python/), which includes the API and numerous demos.\n",
    "\n",
    "Comments and corrections to this webpage should be submitted to the issue tracker by going to the relevant page in the tutorial, then click the ![git](git.png)-symbol in the top right corner and \"open issue\".\n",
    "\n",
    "**Interactive tutorials**\n",
    "\n",
    "As this book has been published as a Jupyter Book, we provide interactive notebooks that can be run in the browser. To start such a notebook click the ![Binder symbol](binder.png)-symbol in the top right corner of the relevant tutorial."
   ]
  },
  {
   "cell_type": "code",
   "execution_count": null,
   "id": "1",
   "metadata": {},
   "outputs": [],
   "source": [
    "import dolfinx\n",
    "\n",
    "print(\n",
    "    f\"DOLFINx version: {dolfinx.__version__} based on GIT commit: {dolfinx.git_commit_hash} of https://github.com/FEniCS/dolfinx/\"\n",
    ")"
   ]
  },
  {
   "cell_type": "markdown",
   "id": "fcc98c0e",
   "metadata": {},
   "source": [
    "## Clickable API links\n",
    "For the modules imported in the tutorial, you can click any function or class to go to the respective API:"
   ]
  },
  {
   "cell_type": "code",
   "execution_count": null,
   "id": "c2f329cb",
   "metadata": {},
   "outputs": [],
   "source": [
    "from dolfinx.fem import functionspace  # Click `functionspace`\n",
    "from ufl import div, grad  # Click `div` and `grad`\n",
    "import numpy as np  # Click `numpy`\n",
    "\n",
    "print(functionspace, div, grad, np)"
   ]
  },
  {
   "cell_type": "markdown",
   "id": "2",
   "metadata": {},
   "source": [
    "**References**\n",
    "```{bibliography}\n",
    ":filter: docname in docnames\n",
    "```"
   ]
  },
  {
   "cell_type": "code",
   "execution_count": null,
   "id": "3",
   "metadata": {},
   "outputs": [],
   "source": []
  }
 ],
 "metadata": {
  "kernelspec": {
   "display_name": "Python 3 (ipykernel)",
   "language": "python",
   "name": "python3"
  },
  "language_info": {
   "codemirror_mode": {
    "name": "ipython",
    "version": 3
   },
   "file_extension": ".py",
   "mimetype": "text/x-python",
   "name": "python",
   "nbconvert_exporter": "python",
   "pygments_lexer": "ipython3",
   "version": "3.9.7"
  }
 },
 "nbformat": 4,
 "nbformat_minor": 5
}
