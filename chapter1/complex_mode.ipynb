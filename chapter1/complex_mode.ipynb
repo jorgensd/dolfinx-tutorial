{
 "cells": [
  {
   "cell_type": "markdown",
   "id": "0",
   "metadata": {},
   "source": [
    "# The Poisson problem with complex numbers\n",
    "\n",
    "Author: Jørgen S. Dokken\n",
    "\n",
    "Many PDEs, such as the [Helmholtz equation](https://docs.fenicsproject.org/dolfinx/v0.4.1/python/demos/demo_helmholtz.html) require complex-valued fields.\n",
    "\n",
    "For simplicity, let us consider a Poisson equation of the form:\n",
    "\n",
    "$$-\\Delta u = f \\text{ in } \\Omega,$$\n",
    "$$ f = -1 - 2j \\text{ in } \\Omega,$$\n",
    "$$ u = u_{exact} \\text{ on } \\partial\\Omega,$$\n",
    "$$u_{exact}(x, y) = \\frac{1}{2}x^2 + 1j\\cdot y^2,$$\n",
    "\n",
    "As in [Solving the Poisson equation](./fundamentals) we want to express our partial differential equation as a weak formulation.\n",
    "\n",
    "We start by defining our discrete function space $V_h$, such that $u_h\\in V_h$ and $u_h = \\sum_{i=1}^N c_i \\phi_i(x, y)$ where $\\phi_i$ are **real valued** global basis functions of our space $V_h$, and $c_i \\in \\mathcal{C}$ are the **complex valued** degrees of freedom.\n",
    "\n",
    "Next, we choose a test function $v\\in \\hat V_h$ where $\\hat V_h\\subset V_h$ such that $v\\vert_{\\partial\\Omega}=0$, as done in the first tutorial.\n",
    "We now need to define our inner product space. We choose the $L^2$ inner product spaces, which is a _[sesquilinear](https://en.wikipedia.org/wiki/Sesquilinear_form) 2-form_, meaning that $\\langle u, v\\rangle$ is a map from $V_h\\times V_h\\mapsto K$, and $\\langle u, v \\rangle = \\int_\\Omega u \\cdot \\bar v ~\\mathrm{d} x$. As it is sesquilinear, we have the following properties:\n",
    "\n",
    "$$\\langle u , v \\rangle = \\overline{\\langle v, u \\rangle},$$\n",
    "$$\\langle u , u \\rangle \\geq 0.$$\n",
    "\n",
    "We can now use this inner product space to do integration by parts\n",
    "\n",
    "$$\\int_\\Omega \\nabla u_h \\cdot \\nabla \\overline{v}~ \\mathrm{dx} = \\int_{\\Omega} f \\cdot \\overline{v} ~\\mathrm{d} s \\qquad \\forall v \\in \\hat{V}_h.$$\n",
    "\n",
    "## Installation of FEniCSx with complex number support\n",
    "\n",
    "FEniCSx supports both real and complex numbers, so we can create a function space with real valued or complex valued coefficients.\n"
   ]
  },
  {
   "cell_type": "code",
   "execution_count": null,
   "id": "1",
   "metadata": {},
   "outputs": [],
   "source": [
    "from mpi4py import MPI\n",
    "import dolfinx\n",
    "import numpy as np\n",
    "\n",
    "mesh = dolfinx.mesh.create_unit_square(MPI.COMM_WORLD, 10, 10)\n",
    "V = dolfinx.fem.functionspace(mesh, (\"Lagrange\", 1))\n",
    "u_r = dolfinx.fem.Function(V, dtype=np.float64)\n",
    "u_r.interpolate(lambda x: x[0])\n",
    "u_c = dolfinx.fem.Function(V, dtype=np.complex128)\n",
    "u_c.interpolate(lambda x: 0.5 * x[0] ** 2 + 1j * x[1] ** 2)\n",
    "print(u_r.x.array.dtype)\n",
    "print(u_c.x.array.dtype)"
   ]
  },
  {
   "cell_type": "markdown",
   "id": "2",
   "metadata": {},
   "source": [
    "However, as we would like to solve linear algebra problems of the form $Ax=b$, we need to be able to use matrices and vectors that support real and complex numbers. As [PETSc](https://petsc.org/release/) is one of the most popular interfaces to linear algebra packages, we need to be able to work with their matrix and vector structures.\n",
    "\n",
    "Unfortunately, PETSc only supports one floating type in their matrices, thus we need to install two versions of PETSc, one that supports `float64` and one that supports `complex128`. In the [docker images](https://hub.docker.com/r/dolfinx/dolfinx) for DOLFINx, both versions are installed, and one can switch between them by calling `source dolfinx-real-mode` or `source dolfinx-complex-mode`. For the `dolfinx/lab` images, one can change the Python kernel to be either the real or complex mode, by going to `Kernel->Change Kernel...` and choosing `Python3 (ipykernel)` (for real mode) or `Python3 (DOLFINx complex)` (for complex mode).\n",
    "\n",
    "We check that we are using the correct installation of PETSc by inspecting the scalar type."
   ]
  },
  {
   "cell_type": "code",
   "execution_count": null,
   "id": "3",
   "metadata": {},
   "outputs": [],
   "source": [
    "from petsc4py import PETSc\n",
    "from dolfinx.fem.petsc import assemble_vector\n",
    "\n",
    "print(PETSc.ScalarType)\n",
    "assert np.dtype(PETSc.ScalarType).kind == \"c\""
   ]
  },
  {
   "cell_type": "markdown",
   "id": "4",
   "metadata": {},
   "source": [
    "## Variational problem\n",
    "We are now ready to define our variational problem"
   ]
  },
  {
   "cell_type": "code",
   "execution_count": null,
   "id": "5",
   "metadata": {},
   "outputs": [],
   "source": [
    "import ufl\n",
    "\n",
    "u = ufl.TrialFunction(V)\n",
    "v = ufl.TestFunction(V)\n",
    "f = dolfinx.fem.Constant(mesh, PETSc.ScalarType(-1 - 2j))\n",
    "a = ufl.inner(ufl.grad(u), ufl.grad(v)) * ufl.dx\n",
    "L = ufl.inner(f, v) * ufl.dx"
   ]
  },
  {
   "cell_type": "markdown",
   "id": "6",
   "metadata": {},
   "source": [
    "Note that we have used the `PETSc.ScalarType` to wrap the constant source on the right hand side. This is because we want the integration kernels to assemble into the correct floating type.\n",
    "\n",
    "Secondly, note that we are using `ufl.inner` to describe multiplication of $f$ and $v$, even if they are scalar values. This is because `ufl.inner` takes the conjugate of the second argument, as decribed by the $L^2$ inner product. One could alternatively write this out explicitly\n",
    "\n",
    "### Inner-products and derivatives"
   ]
  },
  {
   "cell_type": "code",
   "execution_count": null,
   "id": "7",
   "metadata": {},
   "outputs": [],
   "source": [
    "L2 = f * ufl.conj(v) * ufl.dx\n",
    "print(L)\n",
    "print(L2)"
   ]
  },
  {
   "cell_type": "markdown",
   "id": "8",
   "metadata": {},
   "source": [
    "Similarly, if we want to use the function `ufl.derivative` to take derivatives of functionals, we need to take some special care. As `ufl.derivative` inserts a `ufl.TestFunction` to represent the variation, we need to take the conjugate of this to be able to use it to assemble vectors.\n"
   ]
  },
  {
   "cell_type": "code",
   "execution_count": null,
   "id": "9",
   "metadata": {},
   "outputs": [],
   "source": [
    "J = u_c**2 * ufl.dx\n",
    "F = ufl.derivative(J, u_c, ufl.conj(v))\n",
    "residual = assemble_vector(dolfinx.fem.form(F))\n",
    "print(residual.array)"
   ]
  },
  {
   "cell_type": "markdown",
   "id": "10",
   "metadata": {},
   "source": [
    "We define our Dirichlet condition and setup and solve the variational problem.\n",
    "## Solve variational problem"
   ]
  },
  {
   "cell_type": "code",
   "execution_count": null,
   "id": "11",
   "metadata": {},
   "outputs": [],
   "source": [
    "mesh.topology.create_connectivity(mesh.topology.dim - 1, mesh.topology.dim)\n",
    "boundary_facets = dolfinx.mesh.exterior_facet_indices(mesh.topology)\n",
    "boundary_dofs = dolfinx.fem.locate_dofs_topological(\n",
    "    V, mesh.topology.dim - 1, boundary_facets\n",
    ")\n",
    "bc = dolfinx.fem.dirichletbc(u_c, boundary_dofs)\n",
    "problem = dolfinx.fem.petsc.LinearProblem(\n",
    "    a, L, bcs=[bc], petsc_options_prefix=\"complex_poisson\"\n",
    ")\n",
    "uh = problem.solve()"
   ]
  },
  {
   "cell_type": "markdown",
   "id": "12",
   "metadata": {},
   "source": [
    "We compute the $L^2$ error and the max error.\n",
    "\n",
    "## Error computation\n"
   ]
  },
  {
   "cell_type": "code",
   "execution_count": null,
   "id": "13",
   "metadata": {},
   "outputs": [],
   "source": [
    "x = ufl.SpatialCoordinate(mesh)\n",
    "u_ex = 0.5 * x[0] ** 2 + 1j * x[1] ** 2\n",
    "L2_error = dolfinx.fem.form(\n",
    "    ufl.dot(uh - u_ex, uh - u_ex) * ufl.dx(metadata={\"quadrature_degree\": 5})\n",
    ")\n",
    "local_error = dolfinx.fem.assemble_scalar(L2_error)\n",
    "global_error = np.sqrt(mesh.comm.allreduce(local_error, op=MPI.SUM))\n",
    "max_error = mesh.comm.allreduce(np.max(np.abs(u_c.x.array - uh.x.array)))\n",
    "print(global_error, max_error)"
   ]
  },
  {
   "cell_type": "markdown",
   "id": "14",
   "metadata": {},
   "source": [
    "## Plotting\n",
    "\n",
    "Finally, we plot the real and imaginary solutions.\n"
   ]
  },
  {
   "cell_type": "code",
   "execution_count": null,
   "id": "15",
   "metadata": {},
   "outputs": [],
   "source": [
    "import pyvista\n",
    "\n",
    "pyvista.start_xvfb(0.1)\n",
    "mesh.topology.create_connectivity(mesh.topology.dim, mesh.topology.dim)\n",
    "p_mesh = pyvista.UnstructuredGrid(*dolfinx.plot.vtk_mesh(mesh, mesh.topology.dim))\n",
    "pyvista_cells, cell_types, geometry = dolfinx.plot.vtk_mesh(V)\n",
    "grid = pyvista.UnstructuredGrid(pyvista_cells, cell_types, geometry)\n",
    "grid.point_data[\"u_real\"] = uh.x.array.real\n",
    "grid.point_data[\"u_imag\"] = uh.x.array.imag\n",
    "_ = grid.set_active_scalars(\"u_real\")\n",
    "\n",
    "p_real = pyvista.Plotter()\n",
    "p_real.add_text(\"uh real\", position=\"upper_edge\", font_size=14, color=\"black\")\n",
    "p_real.add_mesh(grid, show_edges=True)\n",
    "p_real.view_xy()\n",
    "if not pyvista.OFF_SCREEN:\n",
    "    p_real.show()\n",
    "\n",
    "grid.set_active_scalars(\"u_imag\")\n",
    "p_imag = pyvista.Plotter()\n",
    "p_imag.add_text(\"uh imag\", position=\"upper_edge\", font_size=14, color=\"black\")\n",
    "p_imag.add_mesh(grid, show_edges=True)\n",
    "p_imag.view_xy()\n",
    "if not pyvista.OFF_SCREEN:\n",
    "    p_imag.show()"
   ]
  }
 ],
 "metadata": {
  "jupytext": {
   "formats": "ipynb,py:light"
  },
  "kernelspec": {
   "display_name": "Python 3 (DOLFINx complex)",
   "language": "python",
   "name": "python3-complex"
  },
  "language_info": {
   "codemirror_mode": {
    "name": "ipython",
    "version": 3
   },
   "file_extension": ".py",
   "mimetype": "text/x-python",
   "name": "python",
   "nbconvert_exporter": "python",
   "pygments_lexer": "ipython3",
   "version": "3.10.12"
  }
 },
 "nbformat": 4,
 "nbformat_minor": 5
}
