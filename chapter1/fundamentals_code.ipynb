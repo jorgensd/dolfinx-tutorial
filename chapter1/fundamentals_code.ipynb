{
 "cells": [
  {
   "cell_type": "markdown",
   "id": "0",
   "metadata": {},
   "source": [
    "# Implementation\n",
    "\n",
    "Author: Jørgen Schartum Dokken\n",
    "\n",
    "This implementation is an adaptation of the work in {cite}`FenicsTutorial` to DOLFINx.\n",
    "\n",
    "In this section, you will learn:\n",
    "- How to use the built-in meshes in DOLFINx\n",
    "- How to create a spatially varying Dirichlet boundary conditions on the whole domain boundary\n",
    "- How to define a weak formulation of your PDE\n",
    "- How to solve the resulting system of linear equations\n",
    "- How to visualize the solution using a variety of tools\n",
    "- How to compute the $L^2(\\Omega)$ error and the error at mesh vertices\n",
    "\n",
    "## Interactive tutorials\n",
    "```{admonition} Run the tutorial as Jupyter notebook in browser\n",
    "As this book has been published as a Jupyter Book, each code can be run in your browser as a Jupyter notebook.\n",
    "To start such a notebook click the rocket symbol in the top right corner of the relevant tutorial.\n",
    "```\n",
    "\n",
    "The Poisson problem has so far featured a general domain $\\Omega$ and general functions $u_D$ for\n",
    "the boundary conditions and $f$ for the right hand side.\n",
    "Therefore, we need to make specific choices of $\\Omega, u_D$ and $f$.\n",
    "A wise choice is to construct a problem  with a known analytical solution,\n",
    "so that we can check that the computed solution is correct.\n",
    "The primary candidates are lower-order polynomials.\n",
    "The continuous Galerkin finite element spaces of degree $r$ will exactly reproduce polynomials of degree $r$.\n",
    "<!-- Particularly, piecewise linear continuous Galerkin finite elements are able to exactly reproduce a quadratic polynomial on\n",
    "a uniformly partitioned mesh. -->\n",
    " We use this fact to construct a quadratic function in $2D$. In particular we choose\n",
    "\n",
    "$$\n",
    "\\begin{align}\n",
    " u_e(x,y)=1+x^2+2y^2\n",
    " \\end{align}\n",
    "$$\n",
    "\n",
    "Inserting $u_e$ in the original boundary problem, we find that\n",
    "\n",
    "$$\n",
    "\\begin{align}\n",
    "    f(x,y)= -6,\\qquad u_D(x,y)=u_e(x,y)=1+x^2+2y^2,\n",
    "\\end{align}\n",
    "$$\n",
    "\n",
    "regardless of the shape of the domain as long as we prescribe\n",
    "$u_e$ on the boundary.\n",
    "\n",
    "For simplicity, we choose the domain to be a unit square $\\Omega=[0,1]\\times [0,1]$\n",
    "\n",
    "This simple but very powerful method for constructing test problems is called _the method of manufactured solutions_.\n",
    "First pick a simple expression for the exact solution, plug into\n",
    "the equation to obtain the right-hand side (source term $f$).\n",
    "Then solve the equation with this right hand side, and using the exact solution as boundary condition.\n",
    "Finally, we create a program that tries to reproduce the exact solution.\n",
    "\n",
    "Note that in many cases, it can be hard to determine if the program works if it produces an error of size\n",
    "$10^{-5}$ on a $20 \\times 20$ grid.\n",
    "However, since we are using Sobolev spaces, we usually know about the numerical errors _asymptotic properties_.\n",
    "For instance that it is proportional to $h^2$ if $h$ is the size of a cell in the mesh.\n",
    "We can then compare the error on meshes with different $h$-values to see if the asymptotic behavior is correct.\n",
    "This technique will be explained in detail in the chapter [Improving your fenics code](./../chapter4/convergence).\n",
    "\n",
    "However, in cases where we have a solution we know that should have no approximation error,\n",
    "we know that the solution should be produced to machine precision by the program."
   ]
  },
  {
   "cell_type": "markdown",
   "id": "1",
   "metadata": {},
   "source": [
    "A major difference between a traditional FEniCS code and a FEniCSx code,\n",
    "is that one is not advised to use the wildcard import.\n",
    "We will see this throughout this first example.\n",
    "\n",
    "## Generating  simple meshes\n",
    "The next step is to define the discrete domain, _the mesh_.\n",
    "We do this by importing one of the built-in mesh generators.\n",
    "We will build a {py:func}`unit square mesh<dolfinx.mesh.create_unit_square>`, i.e. a mesh spanning $[0,1]\\times[0,1]$.\n",
    "It can consist of either triangles or quadrilaterals."
   ]
  },
  {
   "cell_type": "code",
   "execution_count": null,
   "id": "2",
   "metadata": {},
   "outputs": [],
   "source": [
    "from mpi4py import MPI\n",
    "from dolfinx import mesh\n",
    "import numpy\n",
    "\n",
    "domain = mesh.create_unit_square(MPI.COMM_WORLD, 8, 8, mesh.CellType.quadrilateral)"
   ]
  },
  {
   "cell_type": "markdown",
   "id": "3",
   "metadata": {},
   "source": [
    "Note that in addition to give how many elements we would like to have in each direction.\n",
    "We also have to supply the _MPI-communicator_.\n",
    "This is to specify how we would like the program to behave in parallel.\n",
    "If we supply {py:data}`MPI.COMM_WORLD<mpi4py.MPI.COMM_WORLD>` we create a single mesh,\n",
    "whose data is distributed over the number of processors we would like to use.\n",
    "We can for instance run the program in  parallel on two processors by using `mpirun`, as:\n",
    "``` bash\n",
    " mpirun -n 2 python3 t1.py\n",
    "```\n",
    "However, if we would like to create a separate mesh on each processor,\n",
    "we can use {py:data}`MPI.COMM_SELF<mpi4py.MPI.COMM_SELF>`.\n",
    "This is for instance  useful if we run a small problem, and would like to run it with multiple parameters.\n",
    "\n",
    "## Defining the finite element function space\n",
    " Once the mesh has been created, we can create the finite element function space $V$.\n",
    "The finite element function space does not need to be the same as the one used to describe the mesh.\n",
    "DOLFINx supports a wide range of arbitrary order finite element function spaces, see:\n",
    "[Supported elements in DOLFINx](https://defelement.org/lists/implementations/basix.ufl.html)\n",
    "for an extensive list.\n",
    "To create a function space, we need to specify what mesh the space is defined on,\n",
    "what element famil the space is based on, and the degree of the element.\n",
    "These can for instance be defned through a tuple `(\"family\", degree)`, as shown below"
   ]
  },
  {
   "cell_type": "code",
   "execution_count": null,
   "id": "4",
   "metadata": {},
   "outputs": [],
   "source": [
    "from dolfinx import fem\n",
    "\n",
    "V = fem.functionspace(domain, (\"Lagrange\", 1))"
   ]
  },
  {
   "cell_type": "markdown",
   "id": "960048ad",
   "metadata": {},
   "source": [
    "Further details about specification/customization of this tuple, see {py:class}`dolfinx.fem.ElementMetaData`."
   ]
  },
  {
   "cell_type": "markdown",
   "id": "5",
   "metadata": {},
   "source": [
    "##  Dirichlet boundary conditions\n",
    "Next, we create a function that will hold the Dirichlet boundary data, and use interpolation to\n",
    "fill it with the appropriate data."
   ]
  },
  {
   "cell_type": "code",
   "execution_count": null,
   "id": "6",
   "metadata": {},
   "outputs": [],
   "source": [
    "uD = fem.Function(V)\n",
    "uD.interpolate(lambda x: 1 + x[0] ** 2 + 2 * x[1] ** 2)"
   ]
  },
  {
   "cell_type": "markdown",
   "id": "7",
   "metadata": {},
   "source": [
    "We now have the boundary data (and in this case the solution of the finite element problem)\n",
    "represented in the discrete function space.\n",
    "Next we would like to apply the boundary values to all degrees of freedom that are on the\n",
    "boundary of the discrete domain.\n",
    "We start by identifying the facets (line-segments) representing the outer boundary,\n",
    "using {py:func}`dolfinx.mesh.exterior_facet_indices`.\n",
    "We start by creating the facet to cell connectivity required to determine boundary facets by\n",
    "calling {py:meth}`dolfinx.mesh.Topology.create_connectivity`."
   ]
  },
  {
   "cell_type": "code",
   "execution_count": null,
   "id": "10",
   "metadata": {},
   "outputs": [],
   "source": [
    "tdim = domain.topology.dim\n",
    "fdim = tdim - 1\n",
    "domain.topology.create_connectivity(fdim, tdim)\n",
    "boundary_facets = mesh.exterior_facet_indices(domain.topology)"
   ]
  },
  {
   "cell_type": "markdown",
   "id": "11",
   "metadata": {
    "lines_to_next_cell": 2
   },
   "source": [
    "For the current problem, as we are using the first order Lagrange function space,\n",
    "the degrees of freedom are located at the vertices of each cell, thus each facet contains two degrees of freedom.\n",
    "\n",
    "To find the local indices of these degrees of freedom, we use {py:func}`dolfinx.fem.locate_dofs_topological`\n",
    "which takes in the function space, the dimension of entities in the mesh we would like to identify and the local entities.\n",
    "```{admonition} Local ordering of degrees of freedom and mesh vertices\n",
    "Many people expect there to be a 1-1 correspondence between the mesh coordinates and the coordinates of the degrees of freedom.\n",
    "However, this is only true in the case of `Lagrange` 1 elements on a first order mesh.\n",
    "Therefore, in DOLFINx we use separate local numbering for the mesh coordinates and the dof coordinates.\n",
    "To obtain the local dof coordinates we can use\n",
    "{py:meth}`V.tabulate_dof_coordinates()<dolfinx.fem.FunctionSpace.tabulate_dof_coordinates>`,\n",
    "while the ordering of the local vertices can be obtained by {py:attr}`mesh.geometry.x<dolfinx.mesh.Geometry.x>`.\n",
    "```\n",
    "With this data at hand, we can create the Dirichlet boundary condition"
   ]
  },
  {
   "cell_type": "code",
   "execution_count": null,
   "id": "12",
   "metadata": {},
   "outputs": [],
   "source": [
    "boundary_dofs = fem.locate_dofs_topological(V, fdim, boundary_facets)\n",
    "bc = fem.dirichletbc(uD, boundary_dofs)"
   ]
  },
  {
   "cell_type": "markdown",
   "id": "13",
   "metadata": {
    "lines_to_next_cell": 2
   },
   "source": [
    "## Defining the trial and test function\n",
    "\n",
    "In mathematics, we distinguish between trial and test spaces $V$ and $\\hat{V}$.\n",
    "The only difference in the present problem is the boundary conditions.\n",
    "In FEniCSx, we do not specify boundary conditions as part of the function space,\n",
    "so it is sufficient to use a common space for the trial and test function.\n",
    "\n",
    "We use the {py:mod}`Unified Form Language<ufl>` (UFL) to specify the varitional formulations.\n",
    "See {cite}`ufl2014` for more details."
   ]
  },
  {
   "cell_type": "code",
   "execution_count": null,
   "id": "14",
   "metadata": {},
   "outputs": [],
   "source": [
    "import ufl\n",
    "\n",
    "u = ufl.TrialFunction(V)\n",
    "v = ufl.TestFunction(V)"
   ]
  },
  {
   "cell_type": "markdown",
   "id": "15",
   "metadata": {},
   "source": [
    "## Defining the source term\n",
    "As the source term is constant over the domain, we use {py:class}`dolfinx.fem.Constant`"
   ]
  },
  {
   "cell_type": "code",
   "execution_count": null,
   "id": "16",
   "metadata": {},
   "outputs": [],
   "source": [
    "from dolfinx import default_scalar_type\n",
    "\n",
    "f = fem.Constant(domain, default_scalar_type(-6))"
   ]
  },
  {
   "cell_type": "markdown",
   "id": "17",
   "metadata": {},
   "source": [
    "```{admonition} Compilation speed-up\n",
    "Instead of wrapping $-6$ in a {py:class}`dolfinx.fem.Constant`, we could simply define $f$ as `f=-6`.\n",
    "However, if we would like to change this parameter later in the simulation,\n",
    "we would have to redefine our variational formulation.\n",
    "The {py:attr}`dolfinx.fem.Constant.value` allows us to update the value in $f$ by using `f.value=5`.\n",
    "Additionally, by indicating that $f$ is a constant, we speed of compilation of the variational\n",
    "formulations required for the created linear system.\n",
    "```\n",
    "\n",
    "## Defining the variational problem\n",
    "As we now have defined all variables used to describe our variational problem, we can create the weak formulation"
   ]
  },
  {
   "cell_type": "code",
   "execution_count": null,
   "id": "18",
   "metadata": {},
   "outputs": [],
   "source": [
    "a = ufl.dot(ufl.grad(u), ufl.grad(v)) * ufl.dx\n",
    "L = f * v * ufl.dx"
   ]
  },
  {
   "cell_type": "markdown",
   "id": "19",
   "metadata": {},
   "source": [
    "Note that there is a very close correspondence between the Python syntax and the mathematical syntax\n",
    "$\\int_{\\Omega} \\nabla u \\cdot \\nabla v ~\\mathrm{d} x$ and $\\int_{\\Omega}fv~\\mathrm{d} x$.\n",
    "The integration over the domain $\\Omega$ is defined by using {py:func}`ufl.dx`, an integration\n",
    "{py:class}`measure<ufl.Measure>` over all cells of the mesh.\n",
    "\n",
    "This is the key strength of FEniCSx:\n",
    "the formulas in the variational formulation translate directly to very similar Python code,\n",
    "a feature that makes it easy to specify and solve complicated PDE problems.\n",
    "\n",
    "## Expressing inner products\n",
    "The inner product $\\int_\\Omega \\nabla u \\cdot \\nabla v ~\\mathrm{d} x$ can be expressed in various ways in UFL.\n",
    "We have used the notation `ufl.dot(ufl.grad(u), ufl.grad(v))*ufl.dx`.\n",
    "The {py:func}`dot<ufl.dot>` product in UFL computes the sum (contraction) over the last index\n",
    "of the first factor and first index of the second factor.\n",
    "In this case, both factors are tensors of rank one (vectors) and so the sum is just over\n",
    "the single index of both $\\nabla u$ and $\\nabla v$.\n",
    "To compute an inner product of matrices (with two indices),\n",
    "one must use the function {py:func}`ufl.inner` instead of {py:func}`ufl.dot`.\n",
    "For real-valued vectors, {py:func}`ufl.dot` and {py:func}`ufl.inner` are equivalent.\n",
    "\n",
    "```{admonition} Complex numbers\n",
    "In DOLFINx, one can solve complex number problems by using an installation of PETSc using complex numbers.\n",
    "For variational formulations with complex numbers, one cannot use {py:func}`ufl.dot` to compute inner products.\n",
    "One has to use {py:func}`ufl.inner`, with the test-function as the second input argument for {py:func}`ufl.inner`.\n",
    "See [Running DOLFINx in complex mode](./complex_mode) for more information.\n",
    "```\n",
    "\n",
    "\n",
    "## Forming and solving the linear system\n",
    "\n",
    "Having defined the finite element variational problem and boundary condition,\n",
    "we can create our {py:class}`LinearProblem<dolfinx.fem.petsc.LinearProblem>` to solve the variational problem:\n",
    "Find $u_h\\in V$ such that $a(u_h, v)==L(v) \\quad \\forall v \\in \\hat{V}$.\n",
    "We will use {py:mod}`PETSc<petsc4py.PETSc>` as our linear algebra backend, using a direct solver (LU-factorization).\n",
    "See the [PETSc-documentation](https://petsc.org/main/docs/manual/ksp/?highlight=ksp#ksp-linear-system-solvers) of the method for more information.\n",
    "PETSc is not a required dependency of DOLFINx, and therefore we explicitly import the DOLFINx wrapper for interfacing with PETSc.\n",
    "To ensure that the options passed to the {py:class}`LinearProblem<dolfinx.fem.petsc.LinearProblem>`\n",
    "is only used for the given KSP solver, we pass a **unique** option prefix as well."
   ]
  },
  {
   "cell_type": "code",
   "execution_count": null,
   "id": "20",
   "metadata": {},
   "outputs": [],
   "source": [
    "from dolfinx.fem.petsc import LinearProblem\n",
    "\n",
    "problem = LinearProblem(\n",
    "    a,\n",
    "    L,\n",
    "    bcs=[bc],\n",
    "    petsc_options={\"ksp_type\": \"preonly\", \"pc_type\": \"lu\"},\n",
    "    petsc_options_prefix=\"Poisson\",\n",
    ")\n",
    "uh = problem.solve()"
   ]
  },
  {
   "cell_type": "markdown",
   "id": "c82e1ec7",
   "metadata": {},
   "source": [
    "Using {py:meth}`problem.solve()<dolfinx.fem.petsc.LinearProblem.solve>` we solve the linear system of equations and\n",
    "return a {py:class}`Function<dolfinx.fem.Function>` containing the solution.\n",
    "\n",
    "## Computing the error\n",
    "Finally, we want to compute the error to check the accuracy of the solution.\n",
    "We do this by comparing the finite element solution `u` with the exact solution.\n",
    "First we interpolate the exact solution into a function space that contains it"
   ]
  },
  {
   "cell_type": "code",
   "execution_count": null,
   "id": "21",
   "metadata": {},
   "outputs": [],
   "source": [
    "V2 = fem.functionspace(domain, (\"Lagrange\", 2))\n",
    "uex = fem.Function(V2, name=\"u_exact\")\n",
    "uex.interpolate(lambda x: 1 + x[0] ** 2 + 2 * x[1] ** 2)"
   ]
  },
  {
   "cell_type": "markdown",
   "id": "22",
   "metadata": {},
   "source": [
    "We compute the error in two different ways.\n",
    "First, we compute the $L^2$-norm of the error, defined by $E=\\sqrt{\\int_\\Omega (u_D-u_h)^2\\mathrm{d} x}$.\n",
    "We use UFL to express the $L^2$-error, and use {py:func}`dolfinx.fem.assemble_scalar` to compute the scalar value.\n",
    "In DOLFINx, {py:func}`assemble_scalar<dolfinx.fem.assemble_scalar>`\n",
    "only assembles over the cells on the local process.\n",
    "This means that if we use 2 processes to solve our problem,\n",
    "we need to accumulate the local contributions to get the global error (on one or all processes).\n",
    "We can do this with the {func}`Comm.allreduce<mpi4py.MPI.Comm.allreduce>` function."
   ]
  },
  {
   "cell_type": "code",
   "execution_count": null,
   "id": "25",
   "metadata": {},
   "outputs": [],
   "source": [
    "L2_error = fem.form(ufl.inner(uh - uex, uh - uex) * ufl.dx)\n",
    "error_local = fem.assemble_scalar(L2_error)\n",
    "error_L2 = numpy.sqrt(domain.comm.allreduce(error_local, op=MPI.SUM))"
   ]
  },
  {
   "cell_type": "markdown",
   "id": "26",
   "metadata": {},
   "source": [
    "Secondly, we compute the maximum error at any degree of freedom.\n",
    "As the finite element function $u$ can be expressed as a linear combination of basis functions $\\phi_j$, spanning the space $V$:\n",
    "$ u = \\sum_{j=1}^N U_j\\phi_j.$\n",
    "By writing `problem.solve()` we compute all the coefficients $U_1,\\dots, U_N$.\n",
    "These values are known as the _degrees of freedom_ (dofs).\n",
    "We can access the degrees of freedom by accessing the underlying vector in `uh`.\n",
    "However, as a second order function space has more dofs than a linear function space,\n",
    "we cannot compare these arrays directly.\n",
    "As we already have interpolated the exact solution into the first order space when creating the boundary condition,\n",
    "we can compare the maximum values at any degree of freedom of the approximation space."
   ]
  },
  {
   "cell_type": "code",
   "execution_count": null,
   "id": "27",
   "metadata": {},
   "outputs": [],
   "source": [
    "error_max = numpy.max(numpy.abs(uD.x.array - uh.x.array))\n",
    "# Only print the error on one process\n",
    "if domain.comm.rank == 0:\n",
    "    print(f\"Error_L2 : {error_L2:.2e}\")\n",
    "    print(f\"Error_max : {error_max:.2e}\")"
   ]
  },
  {
   "cell_type": "markdown",
   "id": "28",
   "metadata": {},
   "source": [
    "## Plotting the mesh using pyvista\n",
    "We will visualizing the mesh using [pyvista](https://docs.pyvista.org/), an interface to the VTK toolkit.\n",
    "We start by converting the mesh to a format that can be used with {py:mod}`pyvista`.\n",
    "To do this we use the function {py:func}`dolfinx.plot.vtk_mesh`.\n",
    "It creates the data required to create a {py:class}`pyvista.UnstructuredGrid`.\n",
    "You can print the current backend and change it with {py:func}`pyvista.set_jupyter_backend`."
   ]
  },
  {
   "cell_type": "code",
   "execution_count": null,
   "id": "29",
   "metadata": {},
   "outputs": [],
   "source": [
    "import pyvista\n",
    "\n",
    "print(pyvista.global_theme.jupyter_backend)"
   ]
  },
  {
   "cell_type": "code",
   "execution_count": null,
   "id": "30",
   "metadata": {},
   "outputs": [],
   "source": [
    "from dolfinx import plot\n",
    "\n",
    "domain.topology.create_connectivity(tdim, tdim)\n",
    "topology, cell_types, geometry = plot.vtk_mesh(domain, tdim)\n",
    "grid = pyvista.UnstructuredGrid(topology, cell_types, geometry)"
   ]
  },
  {
   "cell_type": "markdown",
   "id": "31",
   "metadata": {},
   "source": [
    "There are several backends that can be used with pyvista, and they have different benefits and drawbacks.\n",
    "See the [pyvista documentation](https://docs.pyvista.org/user-guide/jupyter/index.html#state-of-3d-interactive-jupyterlab-plotting)\n",
    "for more information and installation details."
   ]
  },
  {
   "cell_type": "markdown",
   "id": "32",
   "metadata": {},
   "source": [
    "We can now use the {py:class}`pyvista.Plotter` to visualize the mesh. We visualize it by showing it in 2D and warped in 3D.\n",
    "In the jupyter notebook environment, we use the default setting of `pyvista.OFF_SCREEN=False`,\n",
    "which will render plots directly in the notebook."
   ]
  },
  {
   "cell_type": "code",
   "execution_count": null,
   "id": "33",
   "metadata": {},
   "outputs": [],
   "source": [
    "plotter = pyvista.Plotter()\n",
    "plotter.add_mesh(grid, show_edges=True)\n",
    "plotter.view_xy()\n",
    "if not pyvista.OFF_SCREEN:\n",
    "    plotter.show()\n",
    "else:\n",
    "    figure = plotter.screenshot(\"fundamentals_mesh.png\")"
   ]
  },
  {
   "cell_type": "markdown",
   "id": "34",
   "metadata": {},
   "source": [
    "## Plotting a function using pyvista\n",
    "We want to plot the solution `uh`.\n",
    "As the function space used to defined the mesh is decoupled from the representation of the mesh,\n",
    "we create a mesh based on the dof coordinates for the function space `V`.\n",
    "We use {py:func}`dolfinx.plot.vtk_mesh` with the function space as input to create a mesh with\n",
    "mesh geometry based on the dof coordinates."
   ]
  },
  {
   "cell_type": "code",
   "execution_count": null,
   "id": "35",
   "metadata": {},
   "outputs": [],
   "source": [
    "u_topology, u_cell_types, u_geometry = plot.vtk_mesh(V)"
   ]
  },
  {
   "cell_type": "markdown",
   "id": "36",
   "metadata": {},
   "source": [
    "Next, we create the {py:class}`pyvista.UnstructuredGrid` and add the dof-values to the mesh."
   ]
  },
  {
   "cell_type": "code",
   "execution_count": null,
   "id": "37",
   "metadata": {},
   "outputs": [],
   "source": [
    "u_grid = pyvista.UnstructuredGrid(u_topology, u_cell_types, u_geometry)\n",
    "u_grid.point_data[\"u\"] = uh.x.array.real\n",
    "u_grid.set_active_scalars(\"u\")\n",
    "u_plotter = pyvista.Plotter()\n",
    "u_plotter.add_mesh(u_grid, show_edges=True)\n",
    "u_plotter.view_xy()\n",
    "if not pyvista.OFF_SCREEN:\n",
    "    u_plotter.show()"
   ]
  },
  {
   "cell_type": "markdown",
   "id": "38",
   "metadata": {},
   "source": [
    "We can also warp the mesh by scalar to make use of the 3D plotting."
   ]
  },
  {
   "cell_type": "code",
   "execution_count": null,
   "id": "39",
   "metadata": {},
   "outputs": [],
   "source": [
    "warped = u_grid.warp_by_scalar()\n",
    "plotter2 = pyvista.Plotter()\n",
    "plotter2.add_mesh(warped, show_edges=True, show_scalar_bar=True)\n",
    "if not pyvista.OFF_SCREEN:\n",
    "    plotter2.show()"
   ]
  },
  {
   "cell_type": "markdown",
   "id": "40",
   "metadata": {},
   "source": [
    "## External post-processing\n",
    "For post-processing outside the python code, it is suggested to save the solution to file using either\n",
    "{py:class}`dolfinx.io.VTXWriter` or {py:class}`dolfinx.io.XDMFFile` and using [Paraview](https://www.paraview.org/).\n",
    "This is especially suggested for 3D visualization."
   ]
  },
  {
   "cell_type": "code",
   "execution_count": null,
   "id": "41",
   "metadata": {},
   "outputs": [],
   "source": [
    "from dolfinx import io\n",
    "from pathlib import Path\n",
    "\n",
    "results_folder = Path(\"results\")\n",
    "results_folder.mkdir(exist_ok=True, parents=True)\n",
    "filename = results_folder / \"fundamentals\"\n",
    "with io.VTXWriter(domain.comm, filename.with_suffix(\".bp\"), [uh]) as vtx:\n",
    "    vtx.write(0.0)\n",
    "with io.XDMFFile(domain.comm, filename.with_suffix(\".xdmf\"), \"w\") as xdmf:\n",
    "    xdmf.write_mesh(domain)\n",
    "    xdmf.write_function(uh)"
   ]
  },
  {
   "cell_type": "markdown",
   "id": "42",
   "metadata": {},
   "source": [
    "```{bibliography}\n",
    "   :filter: cited and ({\"chapter1/fundamentals_code\"} >= docnames)\n",
    "```"
   ]
  }
 ],
 "metadata": {
  "jupytext": {
   "formats": "ipynb,py:light"
  },
  "kernelspec": {
   "display_name": "Python 3 (ipykernel)",
   "language": "python",
   "name": "python3"
  },
  "language_info": {
   "codemirror_mode": {
    "name": "ipython",
    "version": 3
   },
   "file_extension": ".py",
   "mimetype": "text/x-python",
   "name": "python",
   "nbconvert_exporter": "python",
   "pygments_lexer": "ipython3",
   "version": "3.10.12"
  },
  "vscode": {
   "interpreter": {
    "hash": "31f2aee4e71d21fbe5cf8b01ff0e069b9275f58929596ceb00d14d90e3e16cd6"
   }
  }
 },
 "nbformat": 4,
 "nbformat_minor": 5
}
